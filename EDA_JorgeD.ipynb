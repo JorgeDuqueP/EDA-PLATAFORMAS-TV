{
 "cells": [
  {
   "cell_type": "markdown",
   "metadata": {},
   "source": [
    "#                                                     EDA JORGE DUQUE\n",
    "\n",
    "\n",
    "\n",
    "\n",
    "\n",
    "![imagen](plataforma-streaming.jpg)\n",
    "\n",
    "\n",
    "# CAMBIO DE HABITOS CON LA LLEGADA DE LAS PLATAFORMAS EN STREAMING\n"
   ]
  },
  {
   "cell_type": "markdown",
   "metadata": {},
   "source": [
    "En este EDA lo que queremos es analizar qué ha cambiado con la llegada de las plataformas en streaming a la vida diaria de los hogares españoles. Para eso nos hemos basado en varias fuentes de datos que iremos describiendo."
   ]
  },
  {
   "cell_type": "markdown",
   "metadata": {},
   "source": [
    "Las plataformas de streaming comenzaron a implantarse en España en modo masivo sobre el 2010, aunque fué a raíz de la pandemia cuando el número de abonados ha subido de una forma exponencial.\n",
    "\n",
    "En este momento Netflix es de las más populares e implantadas y sus producciones son de las más vistas.\n",
    "\n",
    "En este análisis queremos ver varias cosas:\n",
    "\n",
    "    1. Cómo ha variado la audiencia para las TVs generalistas con la competencia de la TV en Streaming\n",
    "    2. Cómo se han modificado los flujos de la publicidad.\n",
    "    3. La \"democratización\" de los contenidos audiovisuales.\n",
    "    4. ¿La TV ha cambiado la vida de las personas o las personas han cambiado la vida de la TV?\n",
    "\n",
    "\n",
    "Lo irems viendo según avancemos con los gráficos para explicarlo mejor."
   ]
  },
  {
   "cell_type": "markdown",
   "metadata": {},
   "source": [
    "Vamos a importar las librerías que necesitamos para realizar todo nuestro análisis."
   ]
  },
  {
   "cell_type": "code",
   "execution_count": 121,
   "metadata": {},
   "outputs": [],
   "source": [
    "import matplotlib as mpl\n",
    "import matplotlib.pyplot as plt\n",
    "%matplotlib inline\n",
    "import numpy as np\n",
    "import pandas as pd\n",
    "from IPython.display import Image\n",
    "import seaborn as sns\n",
    "from sklearn.datasets import load_boston, load_iris\n",
    "import squarify\n",
    "import plotly.express as px\n",
    "import plotly.graph_objs as go\n",
    "from plotly.offline import init_notebook_mode, iplot, plot\n"
   ]
  },
  {
   "cell_type": "markdown",
   "metadata": {},
   "source": [
    "Nos importamos los datasets.\n",
    "\n",
    "Los Datasets los he bajado de las siguientes páginas:\n",
    "\n",
    "\n",
    "\n",
    "[Netflix](https://www.kaggle.com/shivamb/netflix-shows)\n",
    "\n",
    "[Disney+](https://www.kaggle.com/shivamb/disney-movies-and-tv-shows)\n",
    "\n",
    "[Amazon](https://www.kaggle.com/shivamb/amazon-prime-movies-and-tv-shows)\n",
    "\n",
    "[HBO](https://www.kaggle.com/rishidamarla/hbo-tv-shows-documentaries-movies-as-of-2020)"
   ]
  },
  {
   "cell_type": "code",
   "execution_count": 183,
   "metadata": {},
   "outputs": [],
   "source": [
    "df_netflix = pd.read_csv('netflix_titles.csv')\n",
    "df_disney = pd.read_csv(\"disney_plus_titles.csv\")\n",
    "df_amazon = pd.read_csv(\"amazon_prime_titles.csv\")\n",
    "df_hbo = pd.read_csv(\"HBO_MAX_Content.csv\")"
   ]
  },
  {
   "cell_type": "markdown",
   "metadata": {},
   "source": [
    "Limpiamos las columnas que no nos interesan ya que no nos aportan nada.\n",
    "\n",
    "En la función sólo incluimos Netflix, Disney+ y Amazon ya que la limpieza de HBO es un poco más complicada."
   ]
  },
  {
   "cell_type": "code",
   "execution_count": 184,
   "metadata": {},
   "outputs": [],
   "source": [
    "def limpieza(x):\n",
    "    x.drop([\"show_id\", \"director\", \"cast\", \"release_year\", \"duration\", \"director\", \"description\"], axis = 1, inplace=True)\n",
    "\n",
    "limpieza(x=df_netflix)\n",
    "limpieza(x=df_disney)\n",
    "limpieza(x=df_amazon)"
   ]
  },
  {
   "cell_type": "markdown",
   "metadata": {},
   "source": [
    "En estos DF le vamos a agregar una columna identificando la plataforma a la que pertenecen estos DF para poder realizar un \"merge\" a los DF de las 4 plataformas y poder analizarlo desde un sólo DF."
   ]
  },
  {
   "cell_type": "code",
   "execution_count": 185,
   "metadata": {},
   "outputs": [],
   "source": [
    "df_netflix[\"Platform\"] = \"Netflix\"\n",
    "df_disney[\"Platform\"] = \"Disney+\"\n",
    "df_amazon[\"Platform\"] = \"Amazon\""
   ]
  },
  {
   "cell_type": "markdown",
   "metadata": {},
   "source": [
    "Ahora vamos a Realizar la limpieza del Dataset de HBO que ha sido la que me ha complicado más el análisis.\n",
    "\n",
    "\n",
    "En este DataSet ha una columna por cada género y en cada una de las producciones aparece un 1 si es que coincide con ese género. Quería dejar una columna para el género tal y cómo aparece en los demás DataSets."
   ]
  },
  {
   "cell_type": "code",
   "execution_count": 186,
   "metadata": {},
   "outputs": [
    {
     "data": {
      "text/html": [
       "<div>\n",
       "<style scoped>\n",
       "    .dataframe tbody tr th:only-of-type {\n",
       "        vertical-align: middle;\n",
       "    }\n",
       "\n",
       "    .dataframe tbody tr th {\n",
       "        vertical-align: top;\n",
       "    }\n",
       "\n",
       "    .dataframe thead th {\n",
       "        text-align: right;\n",
       "    }\n",
       "</style>\n",
       "<table border=\"1\" class=\"dataframe\">\n",
       "  <thead>\n",
       "    <tr style=\"text-align: right;\">\n",
       "      <th></th>\n",
       "      <th>title</th>\n",
       "      <th>type</th>\n",
       "      <th>year</th>\n",
       "      <th>rating</th>\n",
       "      <th>imdb_score</th>\n",
       "      <th>rotten_score</th>\n",
       "      <th>decade</th>\n",
       "      <th>imdb_bucket</th>\n",
       "      <th>genres_Action_Adventure</th>\n",
       "      <th>genres_Animation</th>\n",
       "      <th>...</th>\n",
       "      <th>platforms_shudder</th>\n",
       "      <th>platforms_starz</th>\n",
       "      <th>platforms_sundancenow</th>\n",
       "      <th>platforms_syfy_tveverywhere</th>\n",
       "      <th>platforms_tbs</th>\n",
       "      <th>platforms_tnt</th>\n",
       "      <th>platforms_trutv_tveverywhere</th>\n",
       "      <th>platforms_urbanmoviechannel</th>\n",
       "      <th>platforms_velocity_go</th>\n",
       "      <th>platforms_watch_tcm</th>\n",
       "    </tr>\n",
       "  </thead>\n",
       "  <tbody>\n",
       "    <tr>\n",
       "      <th>0</th>\n",
       "      <td>Game of Thrones</td>\n",
       "      <td>TV</td>\n",
       "      <td>2011</td>\n",
       "      <td>R/TV-MA</td>\n",
       "      <td>9.3</td>\n",
       "      <td>89.0</td>\n",
       "      <td>2010-2019</td>\n",
       "      <td>9.01-9.50</td>\n",
       "      <td>1</td>\n",
       "      <td>0</td>\n",
       "      <td>...</td>\n",
       "      <td>0</td>\n",
       "      <td>0</td>\n",
       "      <td>0</td>\n",
       "      <td>0</td>\n",
       "      <td>0</td>\n",
       "      <td>0</td>\n",
       "      <td>0</td>\n",
       "      <td>0</td>\n",
       "      <td>0</td>\n",
       "      <td>0</td>\n",
       "    </tr>\n",
       "    <tr>\n",
       "      <th>1</th>\n",
       "      <td>Rick and Morty</td>\n",
       "      <td>TV</td>\n",
       "      <td>2013</td>\n",
       "      <td>R/TV-MA</td>\n",
       "      <td>9.2</td>\n",
       "      <td>94.0</td>\n",
       "      <td>2010-2019</td>\n",
       "      <td>9.01-9.50</td>\n",
       "      <td>1</td>\n",
       "      <td>1</td>\n",
       "      <td>...</td>\n",
       "      <td>0</td>\n",
       "      <td>0</td>\n",
       "      <td>0</td>\n",
       "      <td>0</td>\n",
       "      <td>0</td>\n",
       "      <td>0</td>\n",
       "      <td>0</td>\n",
       "      <td>0</td>\n",
       "      <td>0</td>\n",
       "      <td>0</td>\n",
       "    </tr>\n",
       "    <tr>\n",
       "      <th>2</th>\n",
       "      <td>The Lord of the Rings: The Fellowship of the Ring</td>\n",
       "      <td>NaN</td>\n",
       "      <td>2001</td>\n",
       "      <td>PG-13/TV-14</td>\n",
       "      <td>8.8</td>\n",
       "      <td>91.0</td>\n",
       "      <td>2000-2009</td>\n",
       "      <td>8.51-9.00</td>\n",
       "      <td>1</td>\n",
       "      <td>0</td>\n",
       "      <td>...</td>\n",
       "      <td>0</td>\n",
       "      <td>0</td>\n",
       "      <td>0</td>\n",
       "      <td>0</td>\n",
       "      <td>0</td>\n",
       "      <td>0</td>\n",
       "      <td>0</td>\n",
       "      <td>0</td>\n",
       "      <td>0</td>\n",
       "      <td>0</td>\n",
       "    </tr>\n",
       "    <tr>\n",
       "      <th>3</th>\n",
       "      <td>Fight Club</td>\n",
       "      <td>NaN</td>\n",
       "      <td>1999</td>\n",
       "      <td>R/TV-MA</td>\n",
       "      <td>8.8</td>\n",
       "      <td>79.0</td>\n",
       "      <td>1990-1999</td>\n",
       "      <td>8.51-9.00</td>\n",
       "      <td>0</td>\n",
       "      <td>0</td>\n",
       "      <td>...</td>\n",
       "      <td>0</td>\n",
       "      <td>0</td>\n",
       "      <td>0</td>\n",
       "      <td>0</td>\n",
       "      <td>0</td>\n",
       "      <td>0</td>\n",
       "      <td>0</td>\n",
       "      <td>0</td>\n",
       "      <td>0</td>\n",
       "      <td>0</td>\n",
       "    </tr>\n",
       "    <tr>\n",
       "      <th>4</th>\n",
       "      <td>The Lord of the Rings: The Two Towers</td>\n",
       "      <td>NaN</td>\n",
       "      <td>2002</td>\n",
       "      <td>PG-13/TV-14</td>\n",
       "      <td>8.7</td>\n",
       "      <td>95.0</td>\n",
       "      <td>2000-2009</td>\n",
       "      <td>8.51-9.00</td>\n",
       "      <td>1</td>\n",
       "      <td>0</td>\n",
       "      <td>...</td>\n",
       "      <td>0</td>\n",
       "      <td>0</td>\n",
       "      <td>0</td>\n",
       "      <td>0</td>\n",
       "      <td>0</td>\n",
       "      <td>0</td>\n",
       "      <td>0</td>\n",
       "      <td>0</td>\n",
       "      <td>0</td>\n",
       "      <td>0</td>\n",
       "    </tr>\n",
       "  </tbody>\n",
       "</table>\n",
       "<p>5 rows × 75 columns</p>\n",
       "</div>"
      ],
      "text/plain": [
       "                                               title type  year       rating  \\\n",
       "0                                    Game of Thrones   TV  2011      R/TV-MA   \n",
       "1                                     Rick and Morty   TV  2013      R/TV-MA   \n",
       "2  The Lord of the Rings: The Fellowship of the Ring  NaN  2001  PG-13/TV-14   \n",
       "3                                         Fight Club  NaN  1999      R/TV-MA   \n",
       "4              The Lord of the Rings: The Two Towers  NaN  2002  PG-13/TV-14   \n",
       "\n",
       "   imdb_score  rotten_score     decade imdb_bucket  genres_Action_Adventure  \\\n",
       "0         9.3          89.0  2010-2019   9.01-9.50                        1   \n",
       "1         9.2          94.0  2010-2019   9.01-9.50                        1   \n",
       "2         8.8          91.0  2000-2009   8.51-9.00                        1   \n",
       "3         8.8          79.0  1990-1999   8.51-9.00                        0   \n",
       "4         8.7          95.0  2000-2009   8.51-9.00                        1   \n",
       "\n",
       "   genres_Animation  ...  platforms_shudder  platforms_starz  \\\n",
       "0                 0  ...                  0                0   \n",
       "1                 1  ...                  0                0   \n",
       "2                 0  ...                  0                0   \n",
       "3                 0  ...                  0                0   \n",
       "4                 0  ...                  0                0   \n",
       "\n",
       "   platforms_sundancenow  platforms_syfy_tveverywhere  platforms_tbs  \\\n",
       "0                      0                            0              0   \n",
       "1                      0                            0              0   \n",
       "2                      0                            0              0   \n",
       "3                      0                            0              0   \n",
       "4                      0                            0              0   \n",
       "\n",
       "   platforms_tnt  platforms_trutv_tveverywhere  platforms_urbanmoviechannel  \\\n",
       "0              0                             0                            0   \n",
       "1              0                             0                            0   \n",
       "2              0                             0                            0   \n",
       "3              0                             0                            0   \n",
       "4              0                             0                            0   \n",
       "\n",
       "   platforms_velocity_go  platforms_watch_tcm  \n",
       "0                      0                    0  \n",
       "1                      0                    0  \n",
       "2                      0                    0  \n",
       "3                      0                    0  \n",
       "4                      0                    0  \n",
       "\n",
       "[5 rows x 75 columns]"
      ]
     },
     "execution_count": 186,
     "metadata": {},
     "output_type": "execute_result"
    }
   ],
   "source": [
    "df_hbo.head()"
   ]
  },
  {
   "cell_type": "markdown",
   "metadata": {},
   "source": [
    "Lo que necesito es que haya una colummna llamada \"gender\" en la que apareciera el género de cada película y eliminar el restop de colunnas. Para eso se debe de recorrer todas las filas de cada una de las colunnas. Esta operación debe de realizarse en varias fases.\n",
    "\n",
    "\n",
    "La primera fase es renombrar las columnas de género:"
   ]
  },
  {
   "cell_type": "code",
   "execution_count": 187,
   "metadata": {},
   "outputs": [],
   "source": [
    "df_hbo = df_hbo.rename(columns={'genres_Action_Adventure': \"Action Adventure\", 'genres_Animation': \"Animation\",\n",
    "       'genres_Anime': \"Anime\", 'genres_Biography': \"Biography\", 'genres_Children':\"Children\", 'genres_Comedy':\"Comedy\",\n",
    "       'genres_Crime': \"Crime\", 'genres_Cult': \"Cult\", 'genres_Documentary': \"Documentary\", 'genres_Drama':\"Drama\",\n",
    "       'genres_Family': \"Family\", 'genres_Fantasy':\"Fantasy\",\n",
    "       'genres_History':\"History\", 'genres_Horror': \"Horror\",\n",
    "       'genres_Independent':\"Independent\", 'genres_LGBTQ': \"LGBTQ\", 'genres_Musical':\"Musical\",\n",
    "       'genres_Mystery':\"Mystery\", 'genres_Reality': \"Reality\", 'genres_Romance':\"Romance\",\n",
    "       'genres_Science_Fiction':\"Science_Fiction\", 'genres_Sport':\"Sport\", 'genres_Thriller':\"Thriller\", 'genres_Travel':\"Travel\"})"
   ]
  },
  {
   "cell_type": "markdown",
   "metadata": {},
   "source": [
    "Tendremos que crear una lista con los nombres de los géneros."
   ]
  },
  {
   "cell_type": "code",
   "execution_count": 188,
   "metadata": {},
   "outputs": [],
   "source": [
    "list_genders = ['Action Adventure', 'Animation', 'Anime',\n",
    "       'Biography', 'Children', 'Comedy', 'Crime', 'Cult', 'Documentary',\n",
    "       'Drama', 'Family', 'Fantasy', 'genres_Food', 'genres_Game Show',\n",
    "       'History', 'genres_Home_Garden', 'Horror', 'Independent', 'LGBTQ',\n",
    "       'Musical', 'Mystery', 'Reality', 'Romance', 'Science_Fiction', 'Sport',\n",
    "       'genres_Stand_up_Talk', 'Thriller', 'Travel']"
   ]
  },
  {
   "cell_type": "markdown",
   "metadata": {},
   "source": [
    "Cuando las hemos renombrado, debemos de iterar cada fila de cada columna para que, cuando encuentre un 1 deberemos de sustituirlo por el nombre de la columna ya modificada."
   ]
  },
  {
   "cell_type": "code",
   "execution_count": 189,
   "metadata": {},
   "outputs": [],
   "source": [
    "def cambio_1(x):\n",
    "    if x == 1:\n",
    "        x = i\n",
    "    else:\n",
    "        x = \"\"\n",
    "    return x\n",
    "\n",
    "for i in list_genders:\n",
    "    df_hbo[i] = df_hbo[i].apply(cambio_1)"
   ]
  },
  {
   "cell_type": "markdown",
   "metadata": {},
   "source": [
    "Cuando tengamos en cada una de las filas el nombre correspondiente al género, las vamos sumando ya que muchas líneas no pertenecen a un sólo género. Cuando lo sumemos lo llevamos a la columna que hemos generado nueva llamada \"genders\""
   ]
  },
  {
   "cell_type": "code",
   "execution_count": 190,
   "metadata": {},
   "outputs": [],
   "source": [
    "for i in list_genders:\n",
    "    df_hbo[i] = df_hbo[i] + \" \" "
   ]
  },
  {
   "cell_type": "code",
   "execution_count": 191,
   "metadata": {},
   "outputs": [],
   "source": [
    "df_hbo[\"listed_in\"] = df_hbo[\"Action Adventure\"] + df_hbo[\"Animation\"] + df_hbo[\"Anime\"] + df_hbo[\"Biography\"] + df_hbo[\"Children\"] + df_hbo[\"Comedy\"] + df_hbo[\"Crime\"] + df_hbo[\"Cult\"] + df_hbo[\"Documentary\"] + df_hbo[\"Drama\"] + df_hbo[\"Family\"] + df_hbo[\"Fantasy\"] + df_hbo[\"History\"] + df_hbo[\"Horror\"] + df_hbo[\"Independent\"] + df_hbo[\"LGBTQ\"] + df_hbo[\"Musical\"] + df_hbo[\"Mystery\"] + df_hbo[\"Reality\"] + df_hbo[\"Romance\"] + df_hbo[\"Science_Fiction\"] + df_hbo[\"Sport\"] + df_hbo[\"Thriller\"] + df_hbo[\"Travel\"]"
   ]
  },
  {
   "cell_type": "markdown",
   "metadata": {},
   "source": [
    "Ahora vamos a eliminar las columnas de cada uno de los géneros, para dejar esa información en la columna genders. También eliminamos las columnas que se refieren a otras plataformas y a otras informaciones que no nos aportan nada a nuestro análisis."
   ]
  },
  {
   "cell_type": "code",
   "execution_count": 192,
   "metadata": {},
   "outputs": [],
   "source": [
    "df_hbo = df_hbo.drop(['Action Adventure', 'Animation', 'Anime',\n",
    "       'Biography', 'Children', 'Comedy', 'Crime', 'Cult', 'Documentary',\n",
    "       'Drama', 'Family', 'Fantasy', 'genres_Food', 'genres_Game Show',\n",
    "       'History', 'genres_Home_Garden', 'Horror', 'Independent', 'LGBTQ',\n",
    "       'Musical', 'Mystery', 'Reality', 'Romance', 'Science_Fiction', 'Sport',\n",
    "       'genres_Stand_up_Talk', 'Thriller', 'Travel', 'platforms_acorntv','imdb_score', 'rotten_score',\n",
    "       'decade', 'imdb_bucket', 'platforms_adult_swim_tveverywhere',\n",
    "       'platforms_amazon_prime', 'platforms_amc', 'platforms_amc_premiere',\n",
    "       'platforms_bbc_america_tve', 'platforms_britbox',\n",
    "       'platforms_cartoon_network', 'platforms_cbs_all_access',\n",
    "       'platforms_cinemax', 'platforms_comedycentral_tveverywhere',\n",
    "       'platforms_criterion_channel', 'platforms_crunchyroll_premium',\n",
    "       'platforms_curiositystream', 'platforms_dc_universe', 'platforms_epix',\n",
    "       'platforms_fandor', 'platforms_free', 'platforms_fubo_tv',\n",
    "       'platforms_funimation', 'platforms_hbo', 'platforms_hbo_max',\n",
    "       'platforms_hoopla', 'platforms_hulu_plus', 'platforms_kanopy',\n",
    "       'platforms_nbc_tveverywhere', 'platforms_netflix',\n",
    "       'platforms_shoutfactorytv', 'platforms_showtime', 'platforms_shudder',\n",
    "       'platforms_starz', 'platforms_sundancenow',\n",
    "       'platforms_syfy_tveverywhere', 'platforms_tbs', 'platforms_tnt',\n",
    "       'platforms_trutv_tveverywhere', 'platforms_urbanmoviechannel',\n",
    "       'platforms_velocity_go', 'platforms_watch_tcm'], axis=1)"
   ]
  },
  {
   "cell_type": "code",
   "execution_count": 193,
   "metadata": {},
   "outputs": [
    {
     "data": {
      "text/plain": [
       "Index(['title', 'type', 'year', 'rating', 'listed_in'], dtype='object')"
      ]
     },
     "execution_count": 193,
     "metadata": {},
     "output_type": "execute_result"
    }
   ],
   "source": [
    "df_hbo.columns"
   ]
  },
  {
   "cell_type": "markdown",
   "metadata": {},
   "source": [
    "Y vemos cómo se ha quedado el DF."
   ]
  },
  {
   "cell_type": "code",
   "execution_count": 194,
   "metadata": {},
   "outputs": [
    {
     "data": {
      "text/html": [
       "<div>\n",
       "<style scoped>\n",
       "    .dataframe tbody tr th:only-of-type {\n",
       "        vertical-align: middle;\n",
       "    }\n",
       "\n",
       "    .dataframe tbody tr th {\n",
       "        vertical-align: top;\n",
       "    }\n",
       "\n",
       "    .dataframe thead th {\n",
       "        text-align: right;\n",
       "    }\n",
       "</style>\n",
       "<table border=\"1\" class=\"dataframe\">\n",
       "  <thead>\n",
       "    <tr style=\"text-align: right;\">\n",
       "      <th></th>\n",
       "      <th>title</th>\n",
       "      <th>type</th>\n",
       "      <th>year</th>\n",
       "      <th>rating</th>\n",
       "      <th>listed_in</th>\n",
       "    </tr>\n",
       "  </thead>\n",
       "  <tbody>\n",
       "    <tr>\n",
       "      <th>0</th>\n",
       "      <td>Game of Thrones</td>\n",
       "      <td>TV</td>\n",
       "      <td>2011</td>\n",
       "      <td>R/TV-MA</td>\n",
       "      <td>Action Adventure         Drama  Fantasy       ...</td>\n",
       "    </tr>\n",
       "    <tr>\n",
       "      <th>1</th>\n",
       "      <td>Rick and Morty</td>\n",
       "      <td>TV</td>\n",
       "      <td>2013</td>\n",
       "      <td>R/TV-MA</td>\n",
       "      <td>Action Adventure Animation    Comedy      Fant...</td>\n",
       "    </tr>\n",
       "    <tr>\n",
       "      <th>2</th>\n",
       "      <td>The Lord of the Rings: The Fellowship of the Ring</td>\n",
       "      <td>NaN</td>\n",
       "      <td>2001</td>\n",
       "      <td>PG-13/TV-14</td>\n",
       "      <td>Action Adventure         Drama  Fantasy       ...</td>\n",
       "    </tr>\n",
       "    <tr>\n",
       "      <th>3</th>\n",
       "      <td>Fight Club</td>\n",
       "      <td>NaN</td>\n",
       "      <td>1999</td>\n",
       "      <td>R/TV-MA</td>\n",
       "      <td>Cult  Drama</td>\n",
       "    </tr>\n",
       "    <tr>\n",
       "      <th>4</th>\n",
       "      <td>The Lord of the Rings: The Two Towers</td>\n",
       "      <td>NaN</td>\n",
       "      <td>2002</td>\n",
       "      <td>PG-13/TV-14</td>\n",
       "      <td>Action Adventure         Drama  Fantasy       ...</td>\n",
       "    </tr>\n",
       "  </tbody>\n",
       "</table>\n",
       "</div>"
      ],
      "text/plain": [
       "                                               title type  year       rating  \\\n",
       "0                                    Game of Thrones   TV  2011      R/TV-MA   \n",
       "1                                     Rick and Morty   TV  2013      R/TV-MA   \n",
       "2  The Lord of the Rings: The Fellowship of the Ring  NaN  2001  PG-13/TV-14   \n",
       "3                                         Fight Club  NaN  1999      R/TV-MA   \n",
       "4              The Lord of the Rings: The Two Towers  NaN  2002  PG-13/TV-14   \n",
       "\n",
       "                                           listed_in  \n",
       "0  Action Adventure         Drama  Fantasy       ...  \n",
       "1  Action Adventure Animation    Comedy      Fant...  \n",
       "2  Action Adventure         Drama  Fantasy       ...  \n",
       "3                         Cult  Drama                 \n",
       "4  Action Adventure         Drama  Fantasy       ...  "
      ]
     },
     "execution_count": 194,
     "metadata": {},
     "output_type": "execute_result"
    }
   ],
   "source": [
    "df_hbo.head()"
   ]
  },
  {
   "cell_type": "markdown",
   "metadata": {},
   "source": [
    "En este mismo DataFrame vamos a ver cómo están los datos."
   ]
  },
  {
   "cell_type": "code",
   "execution_count": 195,
   "metadata": {},
   "outputs": [
    {
     "name": "stdout",
     "output_type": "stream",
     "text": [
      "<class 'pandas.core.frame.DataFrame'>\n",
      "RangeIndex: 2087 entries, 0 to 2086\n",
      "Data columns (total 5 columns):\n",
      " #   Column     Non-Null Count  Dtype \n",
      "---  ------     --------------  ----- \n",
      " 0   title      2087 non-null   object\n",
      " 1   type       375 non-null    object\n",
      " 2   year       2087 non-null   int64 \n",
      " 3   rating     1537 non-null   object\n",
      " 4   listed_in  2087 non-null   object\n",
      "dtypes: int64(1), object(4)\n",
      "memory usage: 81.6+ KB\n"
     ]
    }
   ],
   "source": [
    "df_hbo.info()"
   ]
  },
  {
   "cell_type": "markdown",
   "metadata": {},
   "source": [
    "En el DF de HBO encontramos que en la parte de type sólo tenemos del tipo de TV Show, el resto estña cómo NaN cuando debería de estar cómo Movie. \n",
    "\n",
    "Vamos a cambiar estos datos.\n",
    "\n",
    "Primero cambiamos el NaN por \"Movie\", creando una lista nueva llamada type_fixed."
   ]
  },
  {
   "cell_type": "code",
   "execution_count": 196,
   "metadata": {},
   "outputs": [],
   "source": [
    "df_hbo[\"type\"] = np.where(df_hbo[\"type\"].isna(), \"Movie\", df_hbo[\"type\"])"
   ]
  },
  {
   "cell_type": "markdown",
   "metadata": {},
   "source": [
    "Vamos a cambiar el nombre de la columna \"year\" del DF de HBO  a \"date_added para equipararlo a las columnas de los demás DF."
   ]
  },
  {
   "cell_type": "code",
   "execution_count": 197,
   "metadata": {},
   "outputs": [],
   "source": [
    "df_hbo = df_hbo.rename(columns={'year': \"date_added\", \"genders\": \"listed_in\"})"
   ]
  },
  {
   "cell_type": "code",
   "execution_count": 198,
   "metadata": {},
   "outputs": [
    {
     "name": "stdout",
     "output_type": "stream",
     "text": [
      "<class 'pandas.core.frame.DataFrame'>\n",
      "RangeIndex: 2087 entries, 0 to 2086\n",
      "Data columns (total 5 columns):\n",
      " #   Column      Non-Null Count  Dtype \n",
      "---  ------      --------------  ----- \n",
      " 0   title       2087 non-null   object\n",
      " 1   type        2087 non-null   object\n",
      " 2   date_added  2087 non-null   int64 \n",
      " 3   rating      1537 non-null   object\n",
      " 4   listed_in   2087 non-null   object\n",
      "dtypes: int64(1), object(4)\n",
      "memory usage: 81.6+ KB\n"
     ]
    }
   ],
   "source": [
    "df_hbo.info()"
   ]
  },
  {
   "cell_type": "code",
   "execution_count": 199,
   "metadata": {},
   "outputs": [],
   "source": [
    "def to_date(df):\n",
    "    df[\"date_added\"] = pd.to_datetime(df[\"date_added\"])\n",
    "to_date(df=df_hbo)\n",
    "to_date(df=df_netflix)\n",
    "to_date(df=df_disney)\n",
    "to_date(df=df_amazon)"
   ]
  },
  {
   "cell_type": "code",
   "execution_count": 200,
   "metadata": {},
   "outputs": [],
   "source": [
    "df_platforms1 = pd.merge(df_hbo, df_netflix, how=\"outer\")\n",
    "df_platforms2 = pd.merge(df_disney, df_amazon, how=\"outer\")\n",
    "df_platforms = pd.merge(df_platforms1, df_platforms2, how=\"outer\")"
   ]
  },
  {
   "cell_type": "code",
   "execution_count": 201,
   "metadata": {},
   "outputs": [
    {
     "data": {
      "text/html": [
       "<div>\n",
       "<style scoped>\n",
       "    .dataframe tbody tr th:only-of-type {\n",
       "        vertical-align: middle;\n",
       "    }\n",
       "\n",
       "    .dataframe tbody tr th {\n",
       "        vertical-align: top;\n",
       "    }\n",
       "\n",
       "    .dataframe thead th {\n",
       "        text-align: right;\n",
       "    }\n",
       "</style>\n",
       "<table border=\"1\" class=\"dataframe\">\n",
       "  <thead>\n",
       "    <tr style=\"text-align: right;\">\n",
       "      <th></th>\n",
       "      <th>title</th>\n",
       "      <th>type</th>\n",
       "      <th>date_added</th>\n",
       "      <th>rating</th>\n",
       "      <th>listed_in</th>\n",
       "    </tr>\n",
       "  </thead>\n",
       "  <tbody>\n",
       "    <tr>\n",
       "      <th>0</th>\n",
       "      <td>Game of Thrones</td>\n",
       "      <td>TV</td>\n",
       "      <td>1970-01-01 00:00:00.000002011</td>\n",
       "      <td>R/TV-MA</td>\n",
       "      <td>Action Adventure         Drama  Fantasy       ...</td>\n",
       "    </tr>\n",
       "    <tr>\n",
       "      <th>1</th>\n",
       "      <td>Rick and Morty</td>\n",
       "      <td>TV</td>\n",
       "      <td>1970-01-01 00:00:00.000002013</td>\n",
       "      <td>R/TV-MA</td>\n",
       "      <td>Action Adventure Animation    Comedy      Fant...</td>\n",
       "    </tr>\n",
       "    <tr>\n",
       "      <th>2</th>\n",
       "      <td>The Lord of the Rings: The Fellowship of the Ring</td>\n",
       "      <td>Movie</td>\n",
       "      <td>1970-01-01 00:00:00.000002001</td>\n",
       "      <td>PG-13/TV-14</td>\n",
       "      <td>Action Adventure         Drama  Fantasy       ...</td>\n",
       "    </tr>\n",
       "    <tr>\n",
       "      <th>3</th>\n",
       "      <td>Fight Club</td>\n",
       "      <td>Movie</td>\n",
       "      <td>1970-01-01 00:00:00.000001999</td>\n",
       "      <td>R/TV-MA</td>\n",
       "      <td>Cult  Drama</td>\n",
       "    </tr>\n",
       "    <tr>\n",
       "      <th>4</th>\n",
       "      <td>The Lord of the Rings: The Two Towers</td>\n",
       "      <td>Movie</td>\n",
       "      <td>1970-01-01 00:00:00.000002002</td>\n",
       "      <td>PG-13/TV-14</td>\n",
       "      <td>Action Adventure         Drama  Fantasy       ...</td>\n",
       "    </tr>\n",
       "    <tr>\n",
       "      <th>...</th>\n",
       "      <td>...</td>\n",
       "      <td>...</td>\n",
       "      <td>...</td>\n",
       "      <td>...</td>\n",
       "      <td>...</td>\n",
       "    </tr>\n",
       "    <tr>\n",
       "      <th>2082</th>\n",
       "      <td>Mystery Signal From Space</td>\n",
       "      <td>Movie</td>\n",
       "      <td>1970-01-01 00:00:00.000002018</td>\n",
       "      <td>NaN</td>\n",
       "      <td></td>\n",
       "    </tr>\n",
       "    <tr>\n",
       "      <th>2083</th>\n",
       "      <td>The Norwegian Fjords</td>\n",
       "      <td>Movie</td>\n",
       "      <td>1970-01-01 00:00:00.000002018</td>\n",
       "      <td>NaN</td>\n",
       "      <td></td>\n",
       "    </tr>\n",
       "    <tr>\n",
       "      <th>2084</th>\n",
       "      <td>Mandrake Telefilm: Part 1</td>\n",
       "      <td>Movie</td>\n",
       "      <td>1970-01-01 00:00:00.000002013</td>\n",
       "      <td>NaN</td>\n",
       "      <td></td>\n",
       "    </tr>\n",
       "    <tr>\n",
       "      <th>2085</th>\n",
       "      <td>What Animals See</td>\n",
       "      <td>Movie</td>\n",
       "      <td>1970-01-01 00:00:00.000002018</td>\n",
       "      <td>NaN</td>\n",
       "      <td></td>\n",
       "    </tr>\n",
       "    <tr>\n",
       "      <th>2086</th>\n",
       "      <td>Top Science Stories of 2019</td>\n",
       "      <td>Movie</td>\n",
       "      <td>1970-01-01 00:00:00.000002019</td>\n",
       "      <td>NaN</td>\n",
       "      <td></td>\n",
       "    </tr>\n",
       "  </tbody>\n",
       "</table>\n",
       "<p>2087 rows × 5 columns</p>\n",
       "</div>"
      ],
      "text/plain": [
       "                                                  title   type  \\\n",
       "0                                       Game of Thrones     TV   \n",
       "1                                        Rick and Morty     TV   \n",
       "2     The Lord of the Rings: The Fellowship of the Ring  Movie   \n",
       "3                                            Fight Club  Movie   \n",
       "4                 The Lord of the Rings: The Two Towers  Movie   \n",
       "...                                                 ...    ...   \n",
       "2082                          Mystery Signal From Space  Movie   \n",
       "2083                               The Norwegian Fjords  Movie   \n",
       "2084                          Mandrake Telefilm: Part 1  Movie   \n",
       "2085                                   What Animals See  Movie   \n",
       "2086                        Top Science Stories of 2019  Movie   \n",
       "\n",
       "                        date_added       rating  \\\n",
       "0    1970-01-01 00:00:00.000002011      R/TV-MA   \n",
       "1    1970-01-01 00:00:00.000002013      R/TV-MA   \n",
       "2    1970-01-01 00:00:00.000002001  PG-13/TV-14   \n",
       "3    1970-01-01 00:00:00.000001999      R/TV-MA   \n",
       "4    1970-01-01 00:00:00.000002002  PG-13/TV-14   \n",
       "...                            ...          ...   \n",
       "2082 1970-01-01 00:00:00.000002018          NaN   \n",
       "2083 1970-01-01 00:00:00.000002018          NaN   \n",
       "2084 1970-01-01 00:00:00.000002013          NaN   \n",
       "2085 1970-01-01 00:00:00.000002018          NaN   \n",
       "2086 1970-01-01 00:00:00.000002019          NaN   \n",
       "\n",
       "                                              listed_in  \n",
       "0     Action Adventure         Drama  Fantasy       ...  \n",
       "1     Action Adventure Animation    Comedy      Fant...  \n",
       "2     Action Adventure         Drama  Fantasy       ...  \n",
       "3                            Cult  Drama                 \n",
       "4     Action Adventure         Drama  Fantasy       ...  \n",
       "...                                                 ...  \n",
       "2082                                                     \n",
       "2083                                                     \n",
       "2084                                                     \n",
       "2085                                                     \n",
       "2086                                                     \n",
       "\n",
       "[2087 rows x 5 columns]"
      ]
     },
     "execution_count": 201,
     "metadata": {},
     "output_type": "execute_result"
    }
   ],
   "source": [
    "df_hbo"
   ]
  },
  {
   "cell_type": "code",
   "execution_count": 202,
   "metadata": {},
   "outputs": [
    {
     "data": {
      "text/html": [
       "<div>\n",
       "<style scoped>\n",
       "    .dataframe tbody tr th:only-of-type {\n",
       "        vertical-align: middle;\n",
       "    }\n",
       "\n",
       "    .dataframe tbody tr th {\n",
       "        vertical-align: top;\n",
       "    }\n",
       "\n",
       "    .dataframe thead th {\n",
       "        text-align: right;\n",
       "    }\n",
       "</style>\n",
       "<table border=\"1\" class=\"dataframe\">\n",
       "  <thead>\n",
       "    <tr style=\"text-align: right;\">\n",
       "      <th></th>\n",
       "      <th>title</th>\n",
       "      <th>type</th>\n",
       "      <th>date_added</th>\n",
       "      <th>rating</th>\n",
       "      <th>listed_in</th>\n",
       "      <th>country</th>\n",
       "      <th>Platform</th>\n",
       "    </tr>\n",
       "  </thead>\n",
       "  <tbody>\n",
       "    <tr>\n",
       "      <th>0</th>\n",
       "      <td>Game of Thrones</td>\n",
       "      <td>TV</td>\n",
       "      <td>1970-01-01 00:00:00.000002011</td>\n",
       "      <td>R/TV-MA</td>\n",
       "      <td>Action Adventure         Drama  Fantasy       ...</td>\n",
       "      <td>NaN</td>\n",
       "      <td>NaN</td>\n",
       "    </tr>\n",
       "    <tr>\n",
       "      <th>1</th>\n",
       "      <td>Rick and Morty</td>\n",
       "      <td>TV</td>\n",
       "      <td>1970-01-01 00:00:00.000002013</td>\n",
       "      <td>R/TV-MA</td>\n",
       "      <td>Action Adventure Animation    Comedy      Fant...</td>\n",
       "      <td>NaN</td>\n",
       "      <td>NaN</td>\n",
       "    </tr>\n",
       "    <tr>\n",
       "      <th>2</th>\n",
       "      <td>The Lord of the Rings: The Fellowship of the Ring</td>\n",
       "      <td>Movie</td>\n",
       "      <td>1970-01-01 00:00:00.000002001</td>\n",
       "      <td>PG-13/TV-14</td>\n",
       "      <td>Action Adventure         Drama  Fantasy       ...</td>\n",
       "      <td>NaN</td>\n",
       "      <td>NaN</td>\n",
       "    </tr>\n",
       "    <tr>\n",
       "      <th>3</th>\n",
       "      <td>Fight Club</td>\n",
       "      <td>Movie</td>\n",
       "      <td>1970-01-01 00:00:00.000001999</td>\n",
       "      <td>R/TV-MA</td>\n",
       "      <td>Cult  Drama</td>\n",
       "      <td>NaN</td>\n",
       "      <td>NaN</td>\n",
       "    </tr>\n",
       "    <tr>\n",
       "      <th>4</th>\n",
       "      <td>The Lord of the Rings: The Two Towers</td>\n",
       "      <td>Movie</td>\n",
       "      <td>1970-01-01 00:00:00.000002002</td>\n",
       "      <td>PG-13/TV-14</td>\n",
       "      <td>Action Adventure         Drama  Fantasy       ...</td>\n",
       "      <td>NaN</td>\n",
       "      <td>NaN</td>\n",
       "    </tr>\n",
       "    <tr>\n",
       "      <th>...</th>\n",
       "      <td>...</td>\n",
       "      <td>...</td>\n",
       "      <td>...</td>\n",
       "      <td>...</td>\n",
       "      <td>...</td>\n",
       "      <td>...</td>\n",
       "      <td>...</td>\n",
       "    </tr>\n",
       "    <tr>\n",
       "      <th>21925</th>\n",
       "      <td>Pride Of The Bowery</td>\n",
       "      <td>Movie</td>\n",
       "      <td>NaT</td>\n",
       "      <td>7+</td>\n",
       "      <td>Comedy</td>\n",
       "      <td>NaN</td>\n",
       "      <td>Amazon</td>\n",
       "    </tr>\n",
       "    <tr>\n",
       "      <th>21926</th>\n",
       "      <td>Planet Patrol</td>\n",
       "      <td>TV Show</td>\n",
       "      <td>NaT</td>\n",
       "      <td>13+</td>\n",
       "      <td>TV Shows</td>\n",
       "      <td>NaN</td>\n",
       "      <td>Amazon</td>\n",
       "    </tr>\n",
       "    <tr>\n",
       "      <th>21927</th>\n",
       "      <td>Outpost</td>\n",
       "      <td>Movie</td>\n",
       "      <td>NaT</td>\n",
       "      <td>R</td>\n",
       "      <td>Action</td>\n",
       "      <td>NaN</td>\n",
       "      <td>Amazon</td>\n",
       "    </tr>\n",
       "    <tr>\n",
       "      <th>21928</th>\n",
       "      <td>Maradona: Blessed Dream</td>\n",
       "      <td>TV Show</td>\n",
       "      <td>NaT</td>\n",
       "      <td>TV-MA</td>\n",
       "      <td>Drama, Sports</td>\n",
       "      <td>NaN</td>\n",
       "      <td>Amazon</td>\n",
       "    </tr>\n",
       "    <tr>\n",
       "      <th>21929</th>\n",
       "      <td>Harry Brown</td>\n",
       "      <td>Movie</td>\n",
       "      <td>NaT</td>\n",
       "      <td>R</td>\n",
       "      <td>Action, Drama, Suspense</td>\n",
       "      <td>NaN</td>\n",
       "      <td>Amazon</td>\n",
       "    </tr>\n",
       "  </tbody>\n",
       "</table>\n",
       "<p>21930 rows × 7 columns</p>\n",
       "</div>"
      ],
      "text/plain": [
       "                                                   title     type  \\\n",
       "0                                        Game of Thrones       TV   \n",
       "1                                         Rick and Morty       TV   \n",
       "2      The Lord of the Rings: The Fellowship of the Ring    Movie   \n",
       "3                                             Fight Club    Movie   \n",
       "4                  The Lord of the Rings: The Two Towers    Movie   \n",
       "...                                                  ...      ...   \n",
       "21925                                Pride Of The Bowery    Movie   \n",
       "21926                                      Planet Patrol  TV Show   \n",
       "21927                                            Outpost    Movie   \n",
       "21928                            Maradona: Blessed Dream  TV Show   \n",
       "21929                                        Harry Brown    Movie   \n",
       "\n",
       "                         date_added       rating  \\\n",
       "0     1970-01-01 00:00:00.000002011      R/TV-MA   \n",
       "1     1970-01-01 00:00:00.000002013      R/TV-MA   \n",
       "2     1970-01-01 00:00:00.000002001  PG-13/TV-14   \n",
       "3     1970-01-01 00:00:00.000001999      R/TV-MA   \n",
       "4     1970-01-01 00:00:00.000002002  PG-13/TV-14   \n",
       "...                             ...          ...   \n",
       "21925                           NaT           7+   \n",
       "21926                           NaT          13+   \n",
       "21927                           NaT            R   \n",
       "21928                           NaT        TV-MA   \n",
       "21929                           NaT            R   \n",
       "\n",
       "                                               listed_in country Platform  \n",
       "0      Action Adventure         Drama  Fantasy       ...     NaN      NaN  \n",
       "1      Action Adventure Animation    Comedy      Fant...     NaN      NaN  \n",
       "2      Action Adventure         Drama  Fantasy       ...     NaN      NaN  \n",
       "3                             Cult  Drama                    NaN      NaN  \n",
       "4      Action Adventure         Drama  Fantasy       ...     NaN      NaN  \n",
       "...                                                  ...     ...      ...  \n",
       "21925                                             Comedy     NaN   Amazon  \n",
       "21926                                           TV Shows     NaN   Amazon  \n",
       "21927                                             Action     NaN   Amazon  \n",
       "21928                                      Drama, Sports     NaN   Amazon  \n",
       "21929                            Action, Drama, Suspense     NaN   Amazon  \n",
       "\n",
       "[21930 rows x 7 columns]"
      ]
     },
     "execution_count": 202,
     "metadata": {},
     "output_type": "execute_result"
    }
   ],
   "source": [
    "df_platforms"
   ]
  },
  {
   "cell_type": "markdown",
   "metadata": {},
   "source": [
    "El DataFrame de HBO está limpio. Revisamos cómo quedan los datos."
   ]
  },
  {
   "cell_type": "code",
   "execution_count": 203,
   "metadata": {},
   "outputs": [
    {
     "name": "stdout",
     "output_type": "stream",
     "text": [
      "<class 'pandas.core.frame.DataFrame'>\n",
      "RangeIndex: 2087 entries, 0 to 2086\n",
      "Data columns (total 5 columns):\n",
      " #   Column      Non-Null Count  Dtype         \n",
      "---  ------      --------------  -----         \n",
      " 0   title       2087 non-null   object        \n",
      " 1   type        2087 non-null   object        \n",
      " 2   date_added  2087 non-null   datetime64[ns]\n",
      " 3   rating      1537 non-null   object        \n",
      " 4   listed_in   2087 non-null   object        \n",
      "dtypes: datetime64[ns](1), object(4)\n",
      "memory usage: 81.6+ KB\n"
     ]
    }
   ],
   "source": [
    "df_hbo.info()"
   ]
  },
  {
   "cell_type": "markdown",
   "metadata": {},
   "source": [
    "Le agragamos una columna para indicarle la plataforma, así podremos hacer un \"merge\" con el resto de DF de las otras plataformas."
   ]
  },
  {
   "cell_type": "code",
   "execution_count": 204,
   "metadata": {},
   "outputs": [],
   "source": [
    "df_hbo[\"Platform\"] = \"HBO\""
   ]
  },
  {
   "cell_type": "markdown",
   "metadata": {},
   "source": [
    "Ahora vamos a revisar cómo quedan el resto de DataFrames."
   ]
  },
  {
   "cell_type": "code",
   "execution_count": 205,
   "metadata": {},
   "outputs": [
    {
     "name": "stdout",
     "output_type": "stream",
     "text": [
      "<class 'pandas.core.frame.DataFrame'>\n",
      "RangeIndex: 9668 entries, 0 to 9667\n",
      "Data columns (total 7 columns):\n",
      " #   Column      Non-Null Count  Dtype         \n",
      "---  ------      --------------  -----         \n",
      " 0   type        9668 non-null   object        \n",
      " 1   title       9668 non-null   object        \n",
      " 2   country     672 non-null    object        \n",
      " 3   date_added  155 non-null    datetime64[ns]\n",
      " 4   rating      9331 non-null   object        \n",
      " 5   listed_in   9668 non-null   object        \n",
      " 6   Platform    9668 non-null   object        \n",
      "dtypes: datetime64[ns](1), object(6)\n",
      "memory usage: 528.8+ KB\n"
     ]
    }
   ],
   "source": [
    "df_amazon.info()"
   ]
  },
  {
   "cell_type": "markdown",
   "metadata": {},
   "source": [
    "Vemos en los títulos de Amazon que no tenemos datos del país de 9000 líneas. De ese dato no vamos a poder sacar nada, por lo menos de Amazon. Tampoco tenemos muchos datos sobre la fecha en la que se subió a la plataforma."
   ]
  },
  {
   "cell_type": "code",
   "execution_count": 206,
   "metadata": {},
   "outputs": [
    {
     "name": "stdout",
     "output_type": "stream",
     "text": [
      "<class 'pandas.core.frame.DataFrame'>\n",
      "RangeIndex: 1368 entries, 0 to 1367\n",
      "Data columns (total 7 columns):\n",
      " #   Column      Non-Null Count  Dtype         \n",
      "---  ------      --------------  -----         \n",
      " 0   type        1368 non-null   object        \n",
      " 1   title       1368 non-null   object        \n",
      " 2   country     1193 non-null   object        \n",
      " 3   date_added  1365 non-null   datetime64[ns]\n",
      " 4   rating      1366 non-null   object        \n",
      " 5   listed_in   1368 non-null   object        \n",
      " 6   Platform    1368 non-null   object        \n",
      "dtypes: datetime64[ns](1), object(6)\n",
      "memory usage: 74.9+ KB\n"
     ]
    }
   ],
   "source": [
    "df_disney.info()"
   ]
  },
  {
   "cell_type": "markdown",
   "metadata": {},
   "source": [
    "Del DataFrame de Disney no tenemos datos de unos 175 líneas sobre el país, no es un número demasiado relevante y sí que podremos sacar conclusiones de dónde se han realizado las producciones."
   ]
  },
  {
   "cell_type": "code",
   "execution_count": 207,
   "metadata": {},
   "outputs": [
    {
     "name": "stdout",
     "output_type": "stream",
     "text": [
      "<class 'pandas.core.frame.DataFrame'>\n",
      "RangeIndex: 8807 entries, 0 to 8806\n",
      "Data columns (total 7 columns):\n",
      " #   Column      Non-Null Count  Dtype         \n",
      "---  ------      --------------  -----         \n",
      " 0   type        8807 non-null   object        \n",
      " 1   title       8807 non-null   object        \n",
      " 2   country     7976 non-null   object        \n",
      " 3   date_added  8797 non-null   datetime64[ns]\n",
      " 4   rating      8803 non-null   object        \n",
      " 5   listed_in   8807 non-null   object        \n",
      " 6   Platform    8807 non-null   object        \n",
      "dtypes: datetime64[ns](1), object(6)\n",
      "memory usage: 481.8+ KB\n"
     ]
    }
   ],
   "source": [
    "df_netflix.info()"
   ]
  },
  {
   "cell_type": "markdown",
   "metadata": {},
   "source": [
    "Vemos a unir todas las plataformas de TV en un sólo DF utilizando un \"merge\"."
   ]
  },
  {
   "cell_type": "code",
   "execution_count": 208,
   "metadata": {},
   "outputs": [
    {
     "data": {
      "text/html": [
       "<div>\n",
       "<style scoped>\n",
       "    .dataframe tbody tr th:only-of-type {\n",
       "        vertical-align: middle;\n",
       "    }\n",
       "\n",
       "    .dataframe tbody tr th {\n",
       "        vertical-align: top;\n",
       "    }\n",
       "\n",
       "    .dataframe thead th {\n",
       "        text-align: right;\n",
       "    }\n",
       "</style>\n",
       "<table border=\"1\" class=\"dataframe\">\n",
       "  <thead>\n",
       "    <tr style=\"text-align: right;\">\n",
       "      <th></th>\n",
       "      <th>type</th>\n",
       "      <th>title</th>\n",
       "      <th>country</th>\n",
       "      <th>date_added</th>\n",
       "      <th>rating</th>\n",
       "      <th>listed_in</th>\n",
       "      <th>Platform</th>\n",
       "    </tr>\n",
       "  </thead>\n",
       "  <tbody>\n",
       "    <tr>\n",
       "      <th>0</th>\n",
       "      <td>Movie</td>\n",
       "      <td>Dick Johnson Is Dead</td>\n",
       "      <td>United States</td>\n",
       "      <td>2021-09-25</td>\n",
       "      <td>PG-13</td>\n",
       "      <td>Documentaries</td>\n",
       "      <td>Netflix</td>\n",
       "    </tr>\n",
       "    <tr>\n",
       "      <th>1</th>\n",
       "      <td>TV Show</td>\n",
       "      <td>Blood &amp; Water</td>\n",
       "      <td>South Africa</td>\n",
       "      <td>2021-09-24</td>\n",
       "      <td>TV-MA</td>\n",
       "      <td>International TV Shows, TV Dramas, TV Mysteries</td>\n",
       "      <td>Netflix</td>\n",
       "    </tr>\n",
       "    <tr>\n",
       "      <th>2</th>\n",
       "      <td>TV Show</td>\n",
       "      <td>Ganglands</td>\n",
       "      <td>NaN</td>\n",
       "      <td>2021-09-24</td>\n",
       "      <td>TV-MA</td>\n",
       "      <td>Crime TV Shows, International TV Shows, TV Act...</td>\n",
       "      <td>Netflix</td>\n",
       "    </tr>\n",
       "    <tr>\n",
       "      <th>3</th>\n",
       "      <td>TV Show</td>\n",
       "      <td>Jailbirds New Orleans</td>\n",
       "      <td>NaN</td>\n",
       "      <td>2021-09-24</td>\n",
       "      <td>TV-MA</td>\n",
       "      <td>Docuseries, Reality TV</td>\n",
       "      <td>Netflix</td>\n",
       "    </tr>\n",
       "    <tr>\n",
       "      <th>4</th>\n",
       "      <td>TV Show</td>\n",
       "      <td>Kota Factory</td>\n",
       "      <td>India</td>\n",
       "      <td>2021-09-24</td>\n",
       "      <td>TV-MA</td>\n",
       "      <td>International TV Shows, Romantic TV Shows, TV ...</td>\n",
       "      <td>Netflix</td>\n",
       "    </tr>\n",
       "  </tbody>\n",
       "</table>\n",
       "</div>"
      ],
      "text/plain": [
       "      type                  title        country date_added rating  \\\n",
       "0    Movie   Dick Johnson Is Dead  United States 2021-09-25  PG-13   \n",
       "1  TV Show          Blood & Water   South Africa 2021-09-24  TV-MA   \n",
       "2  TV Show              Ganglands            NaN 2021-09-24  TV-MA   \n",
       "3  TV Show  Jailbirds New Orleans            NaN 2021-09-24  TV-MA   \n",
       "4  TV Show           Kota Factory          India 2021-09-24  TV-MA   \n",
       "\n",
       "                                           listed_in Platform  \n",
       "0                                      Documentaries  Netflix  \n",
       "1    International TV Shows, TV Dramas, TV Mysteries  Netflix  \n",
       "2  Crime TV Shows, International TV Shows, TV Act...  Netflix  \n",
       "3                             Docuseries, Reality TV  Netflix  \n",
       "4  International TV Shows, Romantic TV Shows, TV ...  Netflix  "
      ]
     },
     "execution_count": 208,
     "metadata": {},
     "output_type": "execute_result"
    }
   ],
   "source": [
    "df_platforms1 = pd.merge(df_netflix, df_disney, how=\"outer\")\n",
    "df_platforms2 = pd.merge(df_amazon, df_hbo, how=\"outer\")\n",
    "df_platforms = pd.merge(df_platforms1, df_platforms2, how=\"outer\")\n",
    "df_platforms.head()"
   ]
  },
  {
   "cell_type": "markdown",
   "metadata": {},
   "source": [
    "Vemos que de la columna \"Country\" hay casi 1000 filas que no tenemos datos, veremos cómo se tratan estas columnas y si podemos encontrar los datos de una forma fácil. \n",
    "\n",
    "De la columna \"date_added\" hay 10 filas sin datos y de la columna \"rating\" hay 4 filas sin dato, no vemos que sea relevante ni que vaya a corrommper los resultados de nuestro análisis."
   ]
  },
  {
   "cell_type": "markdown",
   "metadata": {},
   "source": [
    "Ahora nos bajamos los demás datos que necesitamos para completar el análisis.\n",
    "\n",
    "Estos datasets los hemos conseguido en la siguiente página:\n",
    "\n",
    "\n",
    "[Abonados TV de pago en España por modalidades](\"https://www.epdata.es/abonados-television-pago-espana-modalidades/618e0880-a68e-41cc-ae39-1a9071281166\")\n",
    "\n",
    "[Evolución de la TV de pago en España](https://www.epdata.es/evolucion-television-pago-espana/f11bc555-1808-40d2-8788-93710f7a2543)\n",
    "\n",
    "[Evolucion de los minutos de television por persona al dia en España](\"https://www.epdata.es/evolucion-minutos-television-persona-dia-espana/b677099a-9e5c-4ff9-a1b2-f3cd8934e333)\n",
    "\n",
    "[Inversión Publicitaria Enero-Marzo (2019-2021)](\"https://ipmark.com/digital-radio-y-tv-registran-en-marzo-crecimientos-en-inversion-publicitaria/)\n",
    "\n"
   ]
  },
  {
   "cell_type": "code",
   "execution_count": 209,
   "metadata": {},
   "outputs": [],
   "source": [
    "df_abonadosTV = pd.read_csv(\"abonados_a_la_television_de_pago_en_españa_por_modalidades.csv\", sep=\";\")\n",
    "df_evoluTV = pd.read_csv(\"evolucion_de_la_television_de_pago_en_españa.csv\", sep=\";\")\n",
    "df_evolumin = pd.read_csv(\"evolucion_de_los_minutos_de_television_por_persona_al_dia_en_españa.csv\", sep=\";\")\n",
    "df_evoconsum = pd.read_csv(\"asi_ha_aumentado_el_consumo_de_television_en_españa.csv\", sep=\";\")\n",
    "df_audiencias = pd.read_excel(\"Audiencias TV.xlsx\")\n",
    "df_publi = pd.read_excel(\"Inversion publicitaria.xlsx\")"
   ]
  },
  {
   "cell_type": "code",
   "execution_count": 210,
   "metadata": {},
   "outputs": [
    {
     "data": {
      "text/html": [
       "<div>\n",
       "<style scoped>\n",
       "    .dataframe tbody tr th:only-of-type {\n",
       "        vertical-align: middle;\n",
       "    }\n",
       "\n",
       "    .dataframe tbody tr th {\n",
       "        vertical-align: top;\n",
       "    }\n",
       "\n",
       "    .dataframe thead th {\n",
       "        text-align: right;\n",
       "    }\n",
       "</style>\n",
       "<table border=\"1\" class=\"dataframe\">\n",
       "  <thead>\n",
       "    <tr style=\"text-align: right;\">\n",
       "      <th></th>\n",
       "      <th>Año</th>\n",
       "      <th>Periodo</th>\n",
       "      <th>Consumo de TV</th>\n",
       "    </tr>\n",
       "  </thead>\n",
       "  <tbody>\n",
       "    <tr>\n",
       "      <th>0</th>\n",
       "      <td>1992</td>\n",
       "      <td>Año</td>\n",
       "      <td>192.0</td>\n",
       "    </tr>\n",
       "    <tr>\n",
       "      <th>1</th>\n",
       "      <td>1993</td>\n",
       "      <td>Año</td>\n",
       "      <td>204.0</td>\n",
       "    </tr>\n",
       "    <tr>\n",
       "      <th>2</th>\n",
       "      <td>1994</td>\n",
       "      <td>Año</td>\n",
       "      <td>210.0</td>\n",
       "    </tr>\n",
       "    <tr>\n",
       "      <th>3</th>\n",
       "      <td>1995</td>\n",
       "      <td>Año</td>\n",
       "      <td>211.0</td>\n",
       "    </tr>\n",
       "    <tr>\n",
       "      <th>4</th>\n",
       "      <td>1996</td>\n",
       "      <td>Año</td>\n",
       "      <td>214.0</td>\n",
       "    </tr>\n",
       "    <tr>\n",
       "      <th>5</th>\n",
       "      <td>1997</td>\n",
       "      <td>Año</td>\n",
       "      <td>209.0</td>\n",
       "    </tr>\n",
       "    <tr>\n",
       "      <th>6</th>\n",
       "      <td>1998</td>\n",
       "      <td>Año</td>\n",
       "      <td>210.0</td>\n",
       "    </tr>\n",
       "    <tr>\n",
       "      <th>7</th>\n",
       "      <td>1999</td>\n",
       "      <td>Año</td>\n",
       "      <td>213.0</td>\n",
       "    </tr>\n",
       "    <tr>\n",
       "      <th>8</th>\n",
       "      <td>2000</td>\n",
       "      <td>Año</td>\n",
       "      <td>210.0</td>\n",
       "    </tr>\n",
       "    <tr>\n",
       "      <th>9</th>\n",
       "      <td>2001</td>\n",
       "      <td>Año</td>\n",
       "      <td>208.0</td>\n",
       "    </tr>\n",
       "    <tr>\n",
       "      <th>10</th>\n",
       "      <td>2002</td>\n",
       "      <td>Año</td>\n",
       "      <td>211.0</td>\n",
       "    </tr>\n",
       "    <tr>\n",
       "      <th>11</th>\n",
       "      <td>2003</td>\n",
       "      <td>Año</td>\n",
       "      <td>213.0</td>\n",
       "    </tr>\n",
       "    <tr>\n",
       "      <th>12</th>\n",
       "      <td>2004</td>\n",
       "      <td>Año</td>\n",
       "      <td>218.0</td>\n",
       "    </tr>\n",
       "    <tr>\n",
       "      <th>13</th>\n",
       "      <td>2005</td>\n",
       "      <td>Año</td>\n",
       "      <td>217.0</td>\n",
       "    </tr>\n",
       "    <tr>\n",
       "      <th>14</th>\n",
       "      <td>2006</td>\n",
       "      <td>Año</td>\n",
       "      <td>217.0</td>\n",
       "    </tr>\n",
       "    <tr>\n",
       "      <th>15</th>\n",
       "      <td>2007</td>\n",
       "      <td>Año</td>\n",
       "      <td>223.0</td>\n",
       "    </tr>\n",
       "    <tr>\n",
       "      <th>16</th>\n",
       "      <td>2008</td>\n",
       "      <td>Año</td>\n",
       "      <td>227.0</td>\n",
       "    </tr>\n",
       "    <tr>\n",
       "      <th>17</th>\n",
       "      <td>2009</td>\n",
       "      <td>Año</td>\n",
       "      <td>226.0</td>\n",
       "    </tr>\n",
       "    <tr>\n",
       "      <th>18</th>\n",
       "      <td>2010</td>\n",
       "      <td>Año</td>\n",
       "      <td>234.0</td>\n",
       "    </tr>\n",
       "    <tr>\n",
       "      <th>19</th>\n",
       "      <td>2011</td>\n",
       "      <td>Año</td>\n",
       "      <td>239.0</td>\n",
       "    </tr>\n",
       "    <tr>\n",
       "      <th>20</th>\n",
       "      <td>2012</td>\n",
       "      <td>Año</td>\n",
       "      <td>246.0</td>\n",
       "    </tr>\n",
       "    <tr>\n",
       "      <th>21</th>\n",
       "      <td>2013</td>\n",
       "      <td>Año</td>\n",
       "      <td>244.0</td>\n",
       "    </tr>\n",
       "    <tr>\n",
       "      <th>22</th>\n",
       "      <td>2014</td>\n",
       "      <td>Año</td>\n",
       "      <td>239.0</td>\n",
       "    </tr>\n",
       "    <tr>\n",
       "      <th>23</th>\n",
       "      <td>2015</td>\n",
       "      <td>Año</td>\n",
       "      <td>237.0</td>\n",
       "    </tr>\n",
       "    <tr>\n",
       "      <th>24</th>\n",
       "      <td>2016</td>\n",
       "      <td>Año</td>\n",
       "      <td>233.0</td>\n",
       "    </tr>\n",
       "    <tr>\n",
       "      <th>25</th>\n",
       "      <td>2017</td>\n",
       "      <td>Año</td>\n",
       "      <td>240.0</td>\n",
       "    </tr>\n",
       "    <tr>\n",
       "      <th>26</th>\n",
       "      <td>2018</td>\n",
       "      <td>Año</td>\n",
       "      <td>234.0</td>\n",
       "    </tr>\n",
       "    <tr>\n",
       "      <th>27</th>\n",
       "      <td>2019</td>\n",
       "      <td>Año</td>\n",
       "      <td>222.0</td>\n",
       "    </tr>\n",
       "    <tr>\n",
       "      <th>28</th>\n",
       "      <td>2020</td>\n",
       "      <td>Año</td>\n",
       "      <td>240.0</td>\n",
       "    </tr>\n",
       "    <tr>\n",
       "      <th>29</th>\n",
       "      <td>NaN</td>\n",
       "      <td>NaN</td>\n",
       "      <td>NaN</td>\n",
       "    </tr>\n",
       "    <tr>\n",
       "      <th>30</th>\n",
       "      <td>Métrica:\"Consumo de TV\"</td>\n",
       "      <td>NaN</td>\n",
       "      <td>NaN</td>\n",
       "    </tr>\n",
       "    <tr>\n",
       "      <th>31</th>\n",
       "      <td>Fuente:\"Barlovento Comunicación\"</td>\n",
       "      <td>NaN</td>\n",
       "      <td>NaN</td>\n",
       "    </tr>\n",
       "    <tr>\n",
       "      <th>32</th>\n",
       "      <td>Clasificación:\"\"</td>\n",
       "      <td>NaN</td>\n",
       "      <td>NaN</td>\n",
       "    </tr>\n",
       "    <tr>\n",
       "      <th>33</th>\n",
       "      <td>Unidad:\"Minutos persona / día\"</td>\n",
       "      <td>NaN</td>\n",
       "      <td>NaN</td>\n",
       "    </tr>\n",
       "    <tr>\n",
       "      <th>34</th>\n",
       "      <td>Escala:\"Unidades\"</td>\n",
       "      <td>NaN</td>\n",
       "      <td>NaN</td>\n",
       "    </tr>\n",
       "    <tr>\n",
       "      <th>35</th>\n",
       "      <td>EscalaFactorPotencia10:\"0\"</td>\n",
       "      <td>NaN</td>\n",
       "      <td>NaN</td>\n",
       "    </tr>\n",
       "    <tr>\n",
       "      <th>36</th>\n",
       "      <td>SonDatosNumericos:\"True\"</td>\n",
       "      <td>NaN</td>\n",
       "      <td>NaN</td>\n",
       "    </tr>\n",
       "    <tr>\n",
       "      <th>37</th>\n",
       "      <td>NaN</td>\n",
       "      <td>NaN</td>\n",
       "      <td>NaN</td>\n",
       "    </tr>\n",
       "    <tr>\n",
       "      <th>38</th>\n",
       "      <td>NaN</td>\n",
       "      <td>NaN</td>\n",
       "      <td>NaN</td>\n",
       "    </tr>\n",
       "    <tr>\n",
       "      <th>39</th>\n",
       "      <td>Url:\"https://www.epdata.es/asi-aumentado-consu...</td>\n",
       "      <td>NaN</td>\n",
       "      <td>NaN</td>\n",
       "    </tr>\n",
       "    <tr>\n",
       "      <th>40</th>\n",
       "      <td>Titulo:\"Así ha aumentado el consumo de televis...</td>\n",
       "      <td>NaN</td>\n",
       "      <td>NaN</td>\n",
       "    </tr>\n",
       "    <tr>\n",
       "      <th>41</th>\n",
       "      <td>Subtitulo:\"\"</td>\n",
       "      <td>NaN</td>\n",
       "      <td>NaN</td>\n",
       "    </tr>\n",
       "  </tbody>\n",
       "</table>\n",
       "</div>"
      ],
      "text/plain": [
       "                                                  Año Periodo  Consumo de TV\n",
       "0                                                1992     Año          192.0\n",
       "1                                                1993     Año          204.0\n",
       "2                                                1994     Año          210.0\n",
       "3                                                1995     Año          211.0\n",
       "4                                                1996     Año          214.0\n",
       "5                                                1997     Año          209.0\n",
       "6                                                1998     Año          210.0\n",
       "7                                                1999     Año          213.0\n",
       "8                                                2000     Año          210.0\n",
       "9                                                2001     Año          208.0\n",
       "10                                               2002     Año          211.0\n",
       "11                                               2003     Año          213.0\n",
       "12                                               2004     Año          218.0\n",
       "13                                               2005     Año          217.0\n",
       "14                                               2006     Año          217.0\n",
       "15                                               2007     Año          223.0\n",
       "16                                               2008     Año          227.0\n",
       "17                                               2009     Año          226.0\n",
       "18                                               2010     Año          234.0\n",
       "19                                               2011     Año          239.0\n",
       "20                                               2012     Año          246.0\n",
       "21                                               2013     Año          244.0\n",
       "22                                               2014     Año          239.0\n",
       "23                                               2015     Año          237.0\n",
       "24                                               2016     Año          233.0\n",
       "25                                               2017     Año          240.0\n",
       "26                                               2018     Año          234.0\n",
       "27                                               2019     Año          222.0\n",
       "28                                               2020     Año          240.0\n",
       "29                                                NaN     NaN            NaN\n",
       "30                            Métrica:\"Consumo de TV\"     NaN            NaN\n",
       "31                   Fuente:\"Barlovento Comunicación\"     NaN            NaN\n",
       "32                                   Clasificación:\"\"     NaN            NaN\n",
       "33                     Unidad:\"Minutos persona / día\"     NaN            NaN\n",
       "34                                  Escala:\"Unidades\"     NaN            NaN\n",
       "35                         EscalaFactorPotencia10:\"0\"     NaN            NaN\n",
       "36                           SonDatosNumericos:\"True\"     NaN            NaN\n",
       "37                                                NaN     NaN            NaN\n",
       "38                                                NaN     NaN            NaN\n",
       "39  Url:\"https://www.epdata.es/asi-aumentado-consu...     NaN            NaN\n",
       "40  Titulo:\"Así ha aumentado el consumo de televis...     NaN            NaN\n",
       "41                                       Subtitulo:\"\"     NaN            NaN"
      ]
     },
     "execution_count": 210,
     "metadata": {},
     "output_type": "execute_result"
    }
   ],
   "source": [
    "df_evoconsum"
   ]
  },
  {
   "cell_type": "markdown",
   "metadata": {},
   "source": [
    "Vamos a comenzar a limpiar.\n",
    "\n",
    "Del DF de Abonados a la TV, Evolución de los min de TV y la evolución de la TV limpiaremos algunos datos que venían en las últimas líneas del documento."
   ]
  },
  {
   "cell_type": "code",
   "execution_count": 211,
   "metadata": {},
   "outputs": [],
   "source": [
    "df_abonadosTV = df_abonadosTV.drop(range(57, 116), axis=0)\n",
    "df_evoluTV = df_evoluTV.drop(range(15, 47), axis=0)\n",
    "df_evolumin = df_evolumin.drop(range(31, 43), axis=0)\n",
    "df_evoconsum = df_evoconsum.drop(range(29, 42), axis=0)"
   ]
  },
  {
   "cell_type": "markdown",
   "metadata": {},
   "source": [
    "Vamos a ver de cada uno de los DF qué tipo de datos tenemos y si hay algo más que limpiar."
   ]
  },
  {
   "cell_type": "code",
   "execution_count": 151,
   "metadata": {},
   "outputs": [
    {
     "name": "stdout",
     "output_type": "stream",
     "text": [
      "<class 'pandas.core.frame.DataFrame'>\n",
      "Int64Index: 57 entries, 0 to 56\n",
      "Data columns (total 8 columns):\n",
      " #   Column                Non-Null Count  Dtype  \n",
      "---  ------                --------------  -----  \n",
      " 0   Año                   57 non-null     object \n",
      " 1   Periodo               57 non-null     object \n",
      " 2   Televisión IP         57 non-null     float64\n",
      " 3   Televisión por cable  57 non-null     float64\n",
      " 4   Televisión satélite   57 non-null     float64\n",
      " 5   Televisión online     57 non-null     float64\n",
      " 6   Televisión terrestre  57 non-null     float64\n",
      " 7   TV móvil              57 non-null     float64\n",
      "dtypes: float64(6), object(2)\n",
      "memory usage: 4.0+ KB\n"
     ]
    }
   ],
   "source": [
    "df_abonadosTV.info()"
   ]
  },
  {
   "cell_type": "code",
   "execution_count": 152,
   "metadata": {},
   "outputs": [
    {
     "name": "stdout",
     "output_type": "stream",
     "text": [
      "<class 'pandas.core.frame.DataFrame'>\n",
      "Int64Index: 29 entries, 0 to 28\n",
      "Data columns (total 3 columns):\n",
      " #   Column         Non-Null Count  Dtype  \n",
      "---  ------         --------------  -----  \n",
      " 0   Año            29 non-null     object \n",
      " 1   Periodo        29 non-null     object \n",
      " 2   Consumo de TV  29 non-null     float64\n",
      "dtypes: float64(1), object(2)\n",
      "memory usage: 928.0+ bytes\n"
     ]
    }
   ],
   "source": [
    "df_evoconsum.info()"
   ]
  },
  {
   "cell_type": "code",
   "execution_count": 153,
   "metadata": {},
   "outputs": [
    {
     "name": "stdout",
     "output_type": "stream",
     "text": [
      "<class 'pandas.core.frame.DataFrame'>\n",
      "RangeIndex: 23 entries, 0 to 22\n",
      "Data columns (total 15 columns):\n",
      " #   Column            Non-Null Count  Dtype  \n",
      "---  ------            --------------  -----  \n",
      " 0   Cadena            23 non-null     object \n",
      " 1   Enero             23 non-null     object \n",
      " 2   Febrero           23 non-null     object \n",
      " 3   Marzo             23 non-null     object \n",
      " 4   Abril             23 non-null     object \n",
      " 5   Mayo              23 non-null     object \n",
      " 6   Junio             23 non-null     object \n",
      " 7   Julio             23 non-null     float64\n",
      " 8   Agosto            23 non-null     float64\n",
      " 9   Sept.             23 non-null     float64\n",
      " 10  Octubre           23 non-null     float64\n",
      " 11  Noviembre         23 non-null     float64\n",
      " 12  Diciembre         23 non-null     float64\n",
      " 13  Media anual 2015  23 non-null     object \n",
      " 14  Media anual 2020  22 non-null     float64\n",
      "dtypes: float64(7), object(8)\n",
      "memory usage: 2.8+ KB\n"
     ]
    }
   ],
   "source": [
    "df_audiencias.info()"
   ]
  },
  {
   "cell_type": "code",
   "execution_count": 154,
   "metadata": {},
   "outputs": [
    {
     "data": {
      "text/html": [
       "<div>\n",
       "<style scoped>\n",
       "    .dataframe tbody tr th:only-of-type {\n",
       "        vertical-align: middle;\n",
       "    }\n",
       "\n",
       "    .dataframe tbody tr th {\n",
       "        vertical-align: top;\n",
       "    }\n",
       "\n",
       "    .dataframe thead th {\n",
       "        text-align: right;\n",
       "    }\n",
       "</style>\n",
       "<table border=\"1\" class=\"dataframe\">\n",
       "  <thead>\n",
       "    <tr style=\"text-align: right;\">\n",
       "      <th></th>\n",
       "      <th>Cadena</th>\n",
       "      <th>Enero</th>\n",
       "      <th>Febrero</th>\n",
       "      <th>Marzo</th>\n",
       "      <th>Abril</th>\n",
       "      <th>Mayo</th>\n",
       "      <th>Junio</th>\n",
       "      <th>Julio</th>\n",
       "      <th>Agosto</th>\n",
       "      <th>Sept.</th>\n",
       "      <th>Octubre</th>\n",
       "      <th>Noviembre</th>\n",
       "      <th>Diciembre</th>\n",
       "      <th>Media anual 2015</th>\n",
       "      <th>Media anual 2020</th>\n",
       "    </tr>\n",
       "  </thead>\n",
       "  <tbody>\n",
       "    <tr>\n",
       "      <th>0</th>\n",
       "      <td>Telecinco</td>\n",
       "      <td>0.142</td>\n",
       "      <td>0.154</td>\n",
       "      <td>0.153</td>\n",
       "      <td>0.148</td>\n",
       "      <td>0.154</td>\n",
       "      <td>0.152</td>\n",
       "      <td>0.146</td>\n",
       "      <td>0.132</td>\n",
       "      <td>0.149</td>\n",
       "      <td>0.151</td>\n",
       "      <td>0.151</td>\n",
       "      <td>0.144</td>\n",
       "      <td>14,8%*</td>\n",
       "      <td>1460.0</td>\n",
       "    </tr>\n",
       "    <tr>\n",
       "      <th>1</th>\n",
       "      <td>Antena 3</td>\n",
       "      <td>0.138</td>\n",
       "      <td>0.132</td>\n",
       "      <td>0.134</td>\n",
       "      <td>0.139</td>\n",
       "      <td>0.13</td>\n",
       "      <td>0.131</td>\n",
       "      <td>0.126</td>\n",
       "      <td>0.130</td>\n",
       "      <td>0.134</td>\n",
       "      <td>0.140</td>\n",
       "      <td>0.143</td>\n",
       "      <td>0.134</td>\n",
       "      <td>13,4%*</td>\n",
       "      <td>11.8</td>\n",
       "    </tr>\n",
       "  </tbody>\n",
       "</table>\n",
       "</div>"
      ],
      "text/plain": [
       "      Cadena  Enero Febrero  Marzo  Abril   Mayo  Junio  Julio  Agosto  Sept.  \\\n",
       "0  Telecinco  0.142   0.154  0.153  0.148  0.154  0.152  0.146   0.132  0.149   \n",
       "1   Antena 3  0.138   0.132  0.134  0.139   0.13  0.131  0.126   0.130  0.134   \n",
       "\n",
       "   Octubre  Noviembre  Diciembre Media anual 2015  Media anual 2020  \n",
       "0    0.151      0.151      0.144           14,8%*            1460.0  \n",
       "1    0.140      0.143      0.134           13,4%*              11.8  "
      ]
     },
     "execution_count": 154,
     "metadata": {},
     "output_type": "execute_result"
    }
   ],
   "source": [
    "df_audiencias.head(2)"
   ]
  },
  {
   "cell_type": "markdown",
   "metadata": {},
   "source": [
    "Vemos que hay una línea que aparece NaN, la borramos ya que no nos aporta nada."
   ]
  },
  {
   "cell_type": "code",
   "execution_count": 155,
   "metadata": {},
   "outputs": [
    {
     "data": {
      "text/html": [
       "<div>\n",
       "<style scoped>\n",
       "    .dataframe tbody tr th:only-of-type {\n",
       "        vertical-align: middle;\n",
       "    }\n",
       "\n",
       "    .dataframe tbody tr th {\n",
       "        vertical-align: top;\n",
       "    }\n",
       "\n",
       "    .dataframe thead th {\n",
       "        text-align: right;\n",
       "    }\n",
       "</style>\n",
       "<table border=\"1\" class=\"dataframe\">\n",
       "  <thead>\n",
       "    <tr style=\"text-align: right;\">\n",
       "      <th></th>\n",
       "      <th>Cadena</th>\n",
       "      <th>Enero</th>\n",
       "      <th>Febrero</th>\n",
       "      <th>Marzo</th>\n",
       "      <th>Abril</th>\n",
       "      <th>Mayo</th>\n",
       "      <th>Junio</th>\n",
       "      <th>Julio</th>\n",
       "      <th>Agosto</th>\n",
       "      <th>Sept.</th>\n",
       "      <th>Octubre</th>\n",
       "      <th>Noviembre</th>\n",
       "      <th>Diciembre</th>\n",
       "      <th>Media anual 2015</th>\n",
       "      <th>Media anual 2020</th>\n",
       "    </tr>\n",
       "  </thead>\n",
       "  <tbody>\n",
       "    <tr>\n",
       "      <th>1</th>\n",
       "      <td>Antena 3</td>\n",
       "      <td>0.138</td>\n",
       "      <td>0.132</td>\n",
       "      <td>0.134</td>\n",
       "      <td>0.139</td>\n",
       "      <td>0.13</td>\n",
       "      <td>0.131</td>\n",
       "      <td>0.126</td>\n",
       "      <td>0.13</td>\n",
       "      <td>0.134</td>\n",
       "      <td>0.14</td>\n",
       "      <td>0.143</td>\n",
       "      <td>0.134</td>\n",
       "      <td>13,4%*</td>\n",
       "      <td>11.8</td>\n",
       "    </tr>\n",
       "    <tr>\n",
       "      <th>2</th>\n",
       "      <td>La 1</td>\n",
       "      <td>0.104</td>\n",
       "      <td>0.102</td>\n",
       "      <td>0.1</td>\n",
       "      <td>0.099</td>\n",
       "      <td>0.099</td>\n",
       "      <td>0.097</td>\n",
       "      <td>0.090</td>\n",
       "      <td>0.09</td>\n",
       "      <td>0.097</td>\n",
       "      <td>0.10</td>\n",
       "      <td>0.097</td>\n",
       "      <td>0.102</td>\n",
       "      <td>9,8%*</td>\n",
       "      <td>9.3</td>\n",
       "    </tr>\n",
       "  </tbody>\n",
       "</table>\n",
       "</div>"
      ],
      "text/plain": [
       "     Cadena  Enero Febrero  Marzo  Abril   Mayo  Junio  Julio  Agosto  Sept.  \\\n",
       "1  Antena 3  0.138   0.132  0.134  0.139   0.13  0.131  0.126    0.13  0.134   \n",
       "2      La 1  0.104   0.102    0.1  0.099  0.099  0.097  0.090    0.09  0.097   \n",
       "\n",
       "   Octubre  Noviembre  Diciembre Media anual 2015  Media anual 2020  \n",
       "1     0.14      0.143      0.134           13,4%*              11.8  \n",
       "2     0.10      0.097      0.102            9,8%*               9.3  "
      ]
     },
     "execution_count": 155,
     "metadata": {},
     "output_type": "execute_result"
    }
   ],
   "source": [
    "df_audiencias = df_audiencias.drop(0, axis=0)\n",
    "df_audiencias.head(2)"
   ]
  },
  {
   "cell_type": "code",
   "execution_count": 156,
   "metadata": {},
   "outputs": [
    {
     "name": "stdout",
     "output_type": "stream",
     "text": [
      "<class 'pandas.core.frame.DataFrame'>\n",
      "Int64Index: 31 entries, 0 to 30\n",
      "Data columns (total 3 columns):\n",
      " #   Column           Non-Null Count  Dtype  \n",
      "---  ------           --------------  -----  \n",
      " 0   Año              29 non-null     object \n",
      " 1   Periodo          29 non-null     object \n",
      " 2   Lineal+Diferido  29 non-null     float64\n",
      "dtypes: float64(1), object(2)\n",
      "memory usage: 992.0+ bytes\n"
     ]
    }
   ],
   "source": [
    "df_evolumin.info()"
   ]
  },
  {
   "cell_type": "code",
   "execution_count": 157,
   "metadata": {},
   "outputs": [
    {
     "name": "stdout",
     "output_type": "stream",
     "text": [
      "<class 'pandas.core.frame.DataFrame'>\n",
      "RangeIndex: 37 entries, 0 to 36\n",
      "Data columns (total 7 columns):\n",
      " #   Column       Non-Null Count  Dtype  \n",
      "---  ------       --------------  -----  \n",
      " 0   Medio        37 non-null     object \n",
      " 1   Mes          37 non-null     object \n",
      " 2   2019         37 non-null     float64\n",
      " 3   2020         37 non-null     float64\n",
      " 4   2021         37 non-null     float64\n",
      " 5   % ev. 21/20  37 non-null     object \n",
      " 6   % ev. 21/19  37 non-null     float64\n",
      "dtypes: float64(4), object(3)\n",
      "memory usage: 2.1+ KB\n"
     ]
    }
   ],
   "source": [
    "df_publi.info()"
   ]
  },
  {
   "cell_type": "code",
   "execution_count": 158,
   "metadata": {},
   "outputs": [
    {
     "name": "stdout",
     "output_type": "stream",
     "text": [
      "<class 'pandas.core.frame.DataFrame'>\n",
      "Int64Index: 15 entries, 0 to 14\n",
      "Data columns (total 5 columns):\n",
      " #   Column                                                                           Non-Null Count  Dtype \n",
      "---  ------                                                                           --------------  ----- \n",
      " 0   Año                                                                              15 non-null     object\n",
      " 1   Periodo                                                                          15 non-null     object\n",
      " 2   TV de pago                                                                       15 non-null     object\n",
      " 3   Plataformas tradicionales (Movistar TV, Vodafone TV, Euskatel TV, Jazztel, etc)  15 non-null     object\n",
      " 4   OTT'S (Netflix, Amazone Prime Video, HBO, etc)                                   15 non-null     object\n",
      "dtypes: object(5)\n",
      "memory usage: 720.0+ bytes\n"
     ]
    }
   ],
   "source": [
    "df_evoluTV.info()"
   ]
  },
  {
   "cell_type": "code",
   "execution_count": 159,
   "metadata": {},
   "outputs": [
    {
     "name": "stdout",
     "output_type": "stream",
     "text": [
      "<class 'pandas.core.frame.DataFrame'>\n",
      "Int64Index: 21930 entries, 0 to 21929\n",
      "Data columns (total 7 columns):\n",
      " #   Column      Non-Null Count  Dtype         \n",
      "---  ------      --------------  -----         \n",
      " 0   type        21930 non-null  object        \n",
      " 1   title       21930 non-null  object        \n",
      " 2   country     9841 non-null   object        \n",
      " 3   date_added  12404 non-null  datetime64[ns]\n",
      " 4   rating      21037 non-null  object        \n",
      " 5   listed_in   21930 non-null  object        \n",
      " 6   Platform    21930 non-null  object        \n",
      "dtypes: datetime64[ns](1), object(6)\n",
      "memory usage: 1.3+ MB\n"
     ]
    }
   ],
   "source": [
    "df_platforms.info()"
   ]
  },
  {
   "cell_type": "markdown",
   "metadata": {},
   "source": [
    "Vamos a analizar los datos. \n",
    "\n",
    "Queremos ver el volumen de producciones por plataforma:\n",
    "\n",
    "Primero agrupamos por plataforma y hacemos que se cuenten las líneas ya que cada línea es una producción."
   ]
  },
  {
   "cell_type": "code",
   "execution_count": 160,
   "metadata": {},
   "outputs": [
    {
     "data": {
      "text/html": [
       "<div>\n",
       "<style scoped>\n",
       "    .dataframe tbody tr th:only-of-type {\n",
       "        vertical-align: middle;\n",
       "    }\n",
       "\n",
       "    .dataframe tbody tr th {\n",
       "        vertical-align: top;\n",
       "    }\n",
       "\n",
       "    .dataframe thead th {\n",
       "        text-align: right;\n",
       "    }\n",
       "</style>\n",
       "<table border=\"1\" class=\"dataframe\">\n",
       "  <thead>\n",
       "    <tr style=\"text-align: right;\">\n",
       "      <th></th>\n",
       "      <th>Platform</th>\n",
       "      <th>type</th>\n",
       "      <th>title</th>\n",
       "      <th>country</th>\n",
       "      <th>date_added</th>\n",
       "      <th>rating</th>\n",
       "      <th>listed_in</th>\n",
       "    </tr>\n",
       "  </thead>\n",
       "  <tbody>\n",
       "    <tr>\n",
       "      <th>0</th>\n",
       "      <td>Amazon</td>\n",
       "      <td>9668</td>\n",
       "      <td>9668</td>\n",
       "      <td>672</td>\n",
       "      <td>155</td>\n",
       "      <td>9331</td>\n",
       "      <td>9668</td>\n",
       "    </tr>\n",
       "    <tr>\n",
       "      <th>1</th>\n",
       "      <td>Disney+</td>\n",
       "      <td>1368</td>\n",
       "      <td>1368</td>\n",
       "      <td>1193</td>\n",
       "      <td>1365</td>\n",
       "      <td>1366</td>\n",
       "      <td>1368</td>\n",
       "    </tr>\n",
       "    <tr>\n",
       "      <th>2</th>\n",
       "      <td>HBO</td>\n",
       "      <td>2087</td>\n",
       "      <td>2087</td>\n",
       "      <td>0</td>\n",
       "      <td>2087</td>\n",
       "      <td>1537</td>\n",
       "      <td>2087</td>\n",
       "    </tr>\n",
       "    <tr>\n",
       "      <th>3</th>\n",
       "      <td>Netflix</td>\n",
       "      <td>8807</td>\n",
       "      <td>8807</td>\n",
       "      <td>7976</td>\n",
       "      <td>8797</td>\n",
       "      <td>8803</td>\n",
       "      <td>8807</td>\n",
       "    </tr>\n",
       "  </tbody>\n",
       "</table>\n",
       "</div>"
      ],
      "text/plain": [
       "  Platform  type  title  country  date_added  rating  listed_in\n",
       "0   Amazon  9668   9668      672         155    9331       9668\n",
       "1  Disney+  1368   1368     1193        1365    1366       1368\n",
       "2      HBO  2087   2087        0        2087    1537       2087\n",
       "3  Netflix  8807   8807     7976        8797    8803       8807"
      ]
     },
     "execution_count": 160,
     "metadata": {},
     "output_type": "execute_result"
    }
   ],
   "source": [
    "df_platforms_PL = df_platforms.groupby([\"Platform\"], as_index=False).count()\n",
    "df_platforms_PL"
   ]
  },
  {
   "cell_type": "markdown",
   "metadata": {},
   "source": [
    "Creamos la gráfica de barras, ya que con la de \"pie\" no quedaba demasiado claro, la diferencia de producciones de Netflix y Amazon no se  apreciaba."
   ]
  },
  {
   "cell_type": "code",
   "execution_count": 161,
   "metadata": {},
   "outputs": [
    {
     "data": {
      "image/png": "[encoded data removed]",
      "text/plain": [
       "<Figure size 432x288 with 1 Axes>"
      ]
     },
     "metadata": {
      "needs_background": "light"
     },
     "output_type": "display_data"
    }
   ],
   "source": [
    "# Definimos los ejes:\n",
    "x= df_platforms_PL[\"title\"]\n",
    "y= df_platforms_PL[\"Platform\"]\n",
    "# Elegimos la gráfica\n",
    "plt.bar(y, x, color=\"g\")\n",
    "# Pedimos que nos la enseñe\n",
    "plt.show()"
   ]
  },
  {
   "cell_type": "code",
   "execution_count": 162,
   "metadata": {},
   "outputs": [
    {
     "name": "stdout",
     "output_type": "stream",
     "text": [
      "<class 'pandas.core.frame.DataFrame'>\n",
      "Int64Index: 21930 entries, 0 to 21929\n",
      "Data columns (total 7 columns):\n",
      " #   Column      Non-Null Count  Dtype         \n",
      "---  ------      --------------  -----         \n",
      " 0   type        21930 non-null  object        \n",
      " 1   title       21930 non-null  object        \n",
      " 2   country     9841 non-null   object        \n",
      " 3   date_added  12404 non-null  datetime64[ns]\n",
      " 4   rating      21037 non-null  object        \n",
      " 5   listed_in   21930 non-null  object        \n",
      " 6   Platform    21930 non-null  object        \n",
      "dtypes: datetime64[ns](1), object(6)\n",
      "memory usage: 1.3+ MB\n"
     ]
    }
   ],
   "source": [
    "df_platforms.info()"
   ]
  },
  {
   "cell_type": "markdown",
   "metadata": {},
   "source": [
    "Queremos ver en cada plataforma, qué países ha habido más producciones.\n",
    "\n",
    "Lo veremos en una gráfica Squarity de la librería Seaborn."
   ]
  },
  {
   "cell_type": "code",
   "execution_count": 163,
   "metadata": {},
   "outputs": [
    {
     "data": {
      "text/plain": [
       "country\n",
       "United States     2818\n",
       "India              972\n",
       "United Kingdom     419\n",
       "Japan              245\n",
       "South Korea        199\n",
       "Canada             181\n",
       "Spain              145\n",
       "France             124\n",
       "Mexico             110\n",
       "Egypt              106\n",
       "Turkey             105\n",
       "Nigeria             95\n",
       "Australia           87\n",
       "Taiwan              81\n",
       "Indonesia           79\n",
       "Name: type, dtype: int64"
      ]
     },
     "execution_count": 163,
     "metadata": {},
     "output_type": "execute_result"
    }
   ],
   "source": [
    "# Agrupamos los países y realizamos un \"count\" ya que cada línea es una producción\n",
    "c_countries_netflix = df_netflix.groupby(\"country\").count()['type'].sort_values(ascending=False)[:15] \n",
    "c_countries_netflix"
   ]
  },
  {
   "cell_type": "code",
   "execution_count": 164,
   "metadata": {},
   "outputs": [
    {
     "data": {
      "image/png": "[encoded data removed]",
      "text/plain": [
       "<Figure size 1080x720 with 1 Axes>"
      ]
     },
     "metadata": {
      "needs_background": "light"
     },
     "output_type": "display_data"
    }
   ],
   "source": [
    "plt.figure(figsize=(15,10))\n",
    "\n",
    "squarify.plot(sizes=c_countries_netflix.values,\n",
    "             label=c_countries_netflix.index,\n",
    "             alpha=.8)\n",
    "             \n",
    "plt.axis('off')\n",
    "plt.show()"
   ]
  },
  {
   "cell_type": "code",
   "execution_count": 165,
   "metadata": {},
   "outputs": [],
   "source": [
    "c_countries_disney = df_disney.groupby([\"country\"], as_index=False).count().sort_values(\"type\", ascending=False)[:10]\n"
   ]
  },
  {
   "cell_type": "code",
   "execution_count": 166,
   "metadata": {},
   "outputs": [
    {
     "data": {
      "text/html": [
       "<div>\n",
       "<style scoped>\n",
       "    .dataframe tbody tr th:only-of-type {\n",
       "        vertical-align: middle;\n",
       "    }\n",
       "\n",
       "    .dataframe tbody tr th {\n",
       "        vertical-align: top;\n",
       "    }\n",
       "\n",
       "    .dataframe thead th {\n",
       "        text-align: right;\n",
       "    }\n",
       "</style>\n",
       "<table border=\"1\" class=\"dataframe\">\n",
       "  <thead>\n",
       "    <tr style=\"text-align: right;\">\n",
       "      <th></th>\n",
       "      <th>country</th>\n",
       "      <th>type</th>\n",
       "      <th>title</th>\n",
       "      <th>date_added</th>\n",
       "      <th>rating</th>\n",
       "      <th>listed_in</th>\n",
       "      <th>Platform</th>\n",
       "    </tr>\n",
       "  </thead>\n",
       "  <tbody>\n",
       "    <tr>\n",
       "      <th>43</th>\n",
       "      <td>United States</td>\n",
       "      <td>976</td>\n",
       "      <td>976</td>\n",
       "      <td>974</td>\n",
       "      <td>976</td>\n",
       "      <td>976</td>\n",
       "      <td>976</td>\n",
       "    </tr>\n",
       "    <tr>\n",
       "      <th>48</th>\n",
       "      <td>United States, Canada</td>\n",
       "      <td>28</td>\n",
       "      <td>28</td>\n",
       "      <td>28</td>\n",
       "      <td>28</td>\n",
       "      <td>28</td>\n",
       "      <td>28</td>\n",
       "    </tr>\n",
       "    <tr>\n",
       "      <th>31</th>\n",
       "      <td>United Kingdom</td>\n",
       "      <td>23</td>\n",
       "      <td>23</td>\n",
       "      <td>23</td>\n",
       "      <td>23</td>\n",
       "      <td>23</td>\n",
       "      <td>23</td>\n",
       "    </tr>\n",
       "    <tr>\n",
       "      <th>79</th>\n",
       "      <td>United States, United Kingdom</td>\n",
       "      <td>19</td>\n",
       "      <td>19</td>\n",
       "      <td>19</td>\n",
       "      <td>19</td>\n",
       "      <td>19</td>\n",
       "      <td>19</td>\n",
       "    </tr>\n",
       "    <tr>\n",
       "      <th>8</th>\n",
       "      <td>Canada, United States</td>\n",
       "      <td>17</td>\n",
       "      <td>17</td>\n",
       "      <td>17</td>\n",
       "      <td>17</td>\n",
       "      <td>17</td>\n",
       "      <td>17</td>\n",
       "    </tr>\n",
       "    <tr>\n",
       "      <th>38</th>\n",
       "      <td>United Kingdom, United States</td>\n",
       "      <td>14</td>\n",
       "      <td>14</td>\n",
       "      <td>14</td>\n",
       "      <td>14</td>\n",
       "      <td>14</td>\n",
       "      <td>14</td>\n",
       "    </tr>\n",
       "    <tr>\n",
       "      <th>45</th>\n",
       "      <td>United States, Australia</td>\n",
       "      <td>7</td>\n",
       "      <td>7</td>\n",
       "      <td>7</td>\n",
       "      <td>7</td>\n",
       "      <td>7</td>\n",
       "      <td>7</td>\n",
       "    </tr>\n",
       "    <tr>\n",
       "      <th>6</th>\n",
       "      <td>Canada</td>\n",
       "      <td>5</td>\n",
       "      <td>5</td>\n",
       "      <td>4</td>\n",
       "      <td>5</td>\n",
       "      <td>5</td>\n",
       "      <td>5</td>\n",
       "    </tr>\n",
       "    <tr>\n",
       "      <th>65</th>\n",
       "      <td>United States, Japan</td>\n",
       "      <td>4</td>\n",
       "      <td>4</td>\n",
       "      <td>4</td>\n",
       "      <td>4</td>\n",
       "      <td>4</td>\n",
       "      <td>4</td>\n",
       "    </tr>\n",
       "    <tr>\n",
       "      <th>55</th>\n",
       "      <td>United States, France</td>\n",
       "      <td>4</td>\n",
       "      <td>4</td>\n",
       "      <td>4</td>\n",
       "      <td>4</td>\n",
       "      <td>4</td>\n",
       "      <td>4</td>\n",
       "    </tr>\n",
       "  </tbody>\n",
       "</table>\n",
       "</div>"
      ],
      "text/plain": [
       "                          country  type  title  date_added  rating  listed_in  \\\n",
       "43                  United States   976    976         974     976        976   \n",
       "48          United States, Canada    28     28          28      28         28   \n",
       "31                 United Kingdom    23     23          23      23         23   \n",
       "79  United States, United Kingdom    19     19          19      19         19   \n",
       "8           Canada, United States    17     17          17      17         17   \n",
       "38  United Kingdom, United States    14     14          14      14         14   \n",
       "45       United States, Australia     7      7           7       7          7   \n",
       "6                          Canada     5      5           4       5          5   \n",
       "65           United States, Japan     4      4           4       4          4   \n",
       "55          United States, France     4      4           4       4          4   \n",
       "\n",
       "    Platform  \n",
       "43       976  \n",
       "48        28  \n",
       "31        23  \n",
       "79        19  \n",
       "8         17  \n",
       "38        14  \n",
       "45         7  \n",
       "6          5  \n",
       "65         4  \n",
       "55         4  "
      ]
     },
     "execution_count": 166,
     "metadata": {},
     "output_type": "execute_result"
    }
   ],
   "source": [
    "c_countries_disney"
   ]
  },
  {
   "cell_type": "code",
   "execution_count": 167,
   "metadata": {},
   "outputs": [
    {
     "data": {
      "text/plain": [
       "<AxesSubplot:xlabel='type', ylabel='country'>"
      ]
     },
     "execution_count": 167,
     "metadata": {},
     "output_type": "execute_result"
    },
    {
     "data": {
      "image/png": "[encoded data removed]",
      "text/plain": [
       "<Figure size 432x288 with 1 Axes>"
      ]
     },
     "metadata": {
      "needs_background": "light"
     },
     "output_type": "display_data"
    }
   ],
   "source": [
    "sns.set_color_codes(\"muted\")\n",
    "sns.barplot(x=\"type\", y=\"country\", data=c_countries_disney,\n",
    "            label=\"Total\", color=\"b\")"
   ]
  },
  {
   "cell_type": "code",
   "execution_count": 168,
   "metadata": {},
   "outputs": [
    {
     "data": {
      "text/plain": [
       "country\n",
       "United States                    253\n",
       "India                            229\n",
       "United Kingdom                    28\n",
       "Canada                            16\n",
       "United Kingdom, United States     12\n",
       "Italy                              8\n",
       "Spain                              8\n",
       "Canada, United States              7\n",
       "United States, United Kingdom      6\n",
       "India, United States               5\n",
       "Germany                            5\n",
       "Australia                          4\n",
       "United States, Canada              4\n",
       "United States, India               3\n",
       "United States, France              3\n",
       "Name: type, dtype: int64"
      ]
     },
     "execution_count": 168,
     "metadata": {},
     "output_type": "execute_result"
    }
   ],
   "source": [
    "c_countries_amazon = df_amazon.groupby(\"country\").count()['type'].sort_values(ascending=False)[:15] \n",
    "c_countries_amazon"
   ]
  },
  {
   "cell_type": "code",
   "execution_count": 169,
   "metadata": {},
   "outputs": [
    {
     "data": {
      "image/png": "[encoded data removed]",
      "text/plain": [
       "<Figure size 1080x720 with 1 Axes>"
      ]
     },
     "metadata": {
      "needs_background": "light"
     },
     "output_type": "display_data"
    }
   ],
   "source": [
    "plt.figure(figsize=(15,10))\n",
    "\n",
    "squarify.plot(sizes=c_countries_amazon.values,\n",
    "             label=c_countries_amazon.index,\n",
    "             alpha=.5)\n",
    "             \n",
    "plt.axis('off')\n",
    "plt.show()"
   ]
  },
  {
   "cell_type": "markdown",
   "metadata": {},
   "source": [
    "Queremos ver los tipos de producciones por cada una de las plataformas."
   ]
  },
  {
   "cell_type": "code",
   "execution_count": 170,
   "metadata": {},
   "outputs": [
    {
     "data": {
      "text/html": [
       "<div>\n",
       "<style scoped>\n",
       "    .dataframe tbody tr th:only-of-type {\n",
       "        vertical-align: middle;\n",
       "    }\n",
       "\n",
       "    .dataframe tbody tr th {\n",
       "        vertical-align: top;\n",
       "    }\n",
       "\n",
       "    .dataframe thead th {\n",
       "        text-align: right;\n",
       "    }\n",
       "</style>\n",
       "<table border=\"1\" class=\"dataframe\">\n",
       "  <thead>\n",
       "    <tr style=\"text-align: right;\">\n",
       "      <th>type</th>\n",
       "      <th>Movie</th>\n",
       "      <th>TV</th>\n",
       "      <th>TV Show</th>\n",
       "    </tr>\n",
       "    <tr>\n",
       "      <th>Platform</th>\n",
       "      <th></th>\n",
       "      <th></th>\n",
       "      <th></th>\n",
       "    </tr>\n",
       "  </thead>\n",
       "  <tbody>\n",
       "    <tr>\n",
       "      <th>Amazon</th>\n",
       "      <td>7814.0</td>\n",
       "      <td>NaN</td>\n",
       "      <td>1854.0</td>\n",
       "    </tr>\n",
       "    <tr>\n",
       "      <th>Disney+</th>\n",
       "      <td>991.0</td>\n",
       "      <td>NaN</td>\n",
       "      <td>377.0</td>\n",
       "    </tr>\n",
       "    <tr>\n",
       "      <th>HBO</th>\n",
       "      <td>1712.0</td>\n",
       "      <td>375.0</td>\n",
       "      <td>NaN</td>\n",
       "    </tr>\n",
       "    <tr>\n",
       "      <th>Netflix</th>\n",
       "      <td>6131.0</td>\n",
       "      <td>NaN</td>\n",
       "      <td>2676.0</td>\n",
       "    </tr>\n",
       "  </tbody>\n",
       "</table>\n",
       "</div>"
      ],
      "text/plain": [
       "type       Movie     TV  TV Show\n",
       "Platform                        \n",
       "Amazon    7814.0    NaN   1854.0\n",
       "Disney+    991.0    NaN    377.0\n",
       "HBO       1712.0  375.0      NaN\n",
       "Netflix   6131.0    NaN   2676.0"
      ]
     },
     "execution_count": 170,
     "metadata": {},
     "output_type": "execute_result"
    }
   ],
   "source": [
    "df_type = df_platforms.groupby([\"type\", \"Platform\"]).size().reset_index().pivot(columns=\"type\", index=\"Platform\", values=0)\n",
    "\n",
    "df_type"
   ]
  },
  {
   "cell_type": "code",
   "execution_count": 171,
   "metadata": {},
   "outputs": [
    {
     "data": {
      "text/html": [
       "<div>\n",
       "<style scoped>\n",
       "    .dataframe tbody tr th:only-of-type {\n",
       "        vertical-align: middle;\n",
       "    }\n",
       "\n",
       "    .dataframe tbody tr th {\n",
       "        vertical-align: top;\n",
       "    }\n",
       "\n",
       "    .dataframe thead th {\n",
       "        text-align: right;\n",
       "    }\n",
       "</style>\n",
       "<table border=\"1\" class=\"dataframe\">\n",
       "  <thead>\n",
       "    <tr style=\"text-align: right;\">\n",
       "      <th>type</th>\n",
       "      <th>Movie</th>\n",
       "      <th>TV</th>\n",
       "      <th>TV Show</th>\n",
       "    </tr>\n",
       "    <tr>\n",
       "      <th>Platform</th>\n",
       "      <th></th>\n",
       "      <th></th>\n",
       "      <th></th>\n",
       "    </tr>\n",
       "  </thead>\n",
       "  <tbody>\n",
       "    <tr>\n",
       "      <th>Amazon</th>\n",
       "      <td>7814.0</td>\n",
       "      <td>NaN</td>\n",
       "      <td>1854.0</td>\n",
       "    </tr>\n",
       "    <tr>\n",
       "      <th>Disney+</th>\n",
       "      <td>991.0</td>\n",
       "      <td>NaN</td>\n",
       "      <td>377.0</td>\n",
       "    </tr>\n",
       "    <tr>\n",
       "      <th>HBO</th>\n",
       "      <td>1712.0</td>\n",
       "      <td>375.0</td>\n",
       "      <td>375.0</td>\n",
       "    </tr>\n",
       "    <tr>\n",
       "      <th>Netflix</th>\n",
       "      <td>6131.0</td>\n",
       "      <td>NaN</td>\n",
       "      <td>2676.0</td>\n",
       "    </tr>\n",
       "  </tbody>\n",
       "</table>\n",
       "</div>"
      ],
      "text/plain": [
       "type       Movie     TV  TV Show\n",
       "Platform                        \n",
       "Amazon    7814.0    NaN   1854.0\n",
       "Disney+    991.0    NaN    377.0\n",
       "HBO       1712.0  375.0    375.0\n",
       "Netflix   6131.0    NaN   2676.0"
      ]
     },
     "execution_count": 171,
     "metadata": {},
     "output_type": "execute_result"
    }
   ],
   "source": [
    "df_type[\"TV Show\"] = np.where(df_type[\"TV Show\"].isna(), 375.0, df_type[\"TV Show\"])\n",
    "df_type"
   ]
  },
  {
   "cell_type": "code",
   "execution_count": 172,
   "metadata": {},
   "outputs": [],
   "source": [
    "df_type = df_type.drop([\"TV\"], axis=1)"
   ]
  },
  {
   "cell_type": "code",
   "execution_count": 173,
   "metadata": {},
   "outputs": [
    {
     "data": {
      "text/html": [
       "<div>\n",
       "<style scoped>\n",
       "    .dataframe tbody tr th:only-of-type {\n",
       "        vertical-align: middle;\n",
       "    }\n",
       "\n",
       "    .dataframe tbody tr th {\n",
       "        vertical-align: top;\n",
       "    }\n",
       "\n",
       "    .dataframe thead th {\n",
       "        text-align: right;\n",
       "    }\n",
       "</style>\n",
       "<table border=\"1\" class=\"dataframe\">\n",
       "  <thead>\n",
       "    <tr style=\"text-align: right;\">\n",
       "      <th>type</th>\n",
       "      <th>Movie</th>\n",
       "      <th>TV Show</th>\n",
       "    </tr>\n",
       "    <tr>\n",
       "      <th>Platform</th>\n",
       "      <th></th>\n",
       "      <th></th>\n",
       "    </tr>\n",
       "  </thead>\n",
       "  <tbody>\n",
       "    <tr>\n",
       "      <th>Amazon</th>\n",
       "      <td>7814.0</td>\n",
       "      <td>1854.0</td>\n",
       "    </tr>\n",
       "    <tr>\n",
       "      <th>Disney+</th>\n",
       "      <td>991.0</td>\n",
       "      <td>377.0</td>\n",
       "    </tr>\n",
       "    <tr>\n",
       "      <th>HBO</th>\n",
       "      <td>1712.0</td>\n",
       "      <td>375.0</td>\n",
       "    </tr>\n",
       "    <tr>\n",
       "      <th>Netflix</th>\n",
       "      <td>6131.0</td>\n",
       "      <td>2676.0</td>\n",
       "    </tr>\n",
       "  </tbody>\n",
       "</table>\n",
       "</div>"
      ],
      "text/plain": [
       "type       Movie  TV Show\n",
       "Platform                 \n",
       "Amazon    7814.0   1854.0\n",
       "Disney+    991.0    377.0\n",
       "HBO       1712.0    375.0\n",
       "Netflix   6131.0   2676.0"
      ]
     },
     "execution_count": 173,
     "metadata": {},
     "output_type": "execute_result"
    }
   ],
   "source": [
    "df_type"
   ]
  },
  {
   "cell_type": "code",
   "execution_count": 174,
   "metadata": {},
   "outputs": [
    {
     "data": {
      "text/plain": [
       "<AxesSubplot:xlabel='Platform'>"
      ]
     },
     "execution_count": 174,
     "metadata": {},
     "output_type": "execute_result"
    },
    {
     "data": {
      "image/png": "[encoded data removed]",
      "text/plain": [
       "<Figure size 432x288 with 1 Axes>"
      ]
     },
     "metadata": {
      "needs_background": "light"
     },
     "output_type": "display_data"
    }
   ],
   "source": [
    "df_type.plot(kind=\"bar\", stacked=True)"
   ]
  },
  {
   "cell_type": "code",
   "execution_count": 175,
   "metadata": {},
   "outputs": [],
   "source": [
    "df_abonadosTV[\"Año\"] = df_abonadosTV[\"Año\"] + df_abonadosTV[\"Periodo\"]"
   ]
  },
  {
   "cell_type": "code",
   "execution_count": 176,
   "metadata": {},
   "outputs": [
    {
     "name": "stdout",
     "output_type": "stream",
     "text": [
      "<class 'pandas.core.frame.DataFrame'>\n",
      "Int64Index: 57 entries, 0 to 56\n",
      "Data columns (total 8 columns):\n",
      " #   Column                Non-Null Count  Dtype  \n",
      "---  ------                --------------  -----  \n",
      " 0   Año                   57 non-null     object \n",
      " 1   Periodo               57 non-null     object \n",
      " 2   Televisión IP         57 non-null     float64\n",
      " 3   Televisión por cable  57 non-null     float64\n",
      " 4   Televisión satélite   57 non-null     float64\n",
      " 5   Televisión online     57 non-null     float64\n",
      " 6   Televisión terrestre  57 non-null     float64\n",
      " 7   TV móvil              57 non-null     float64\n",
      "dtypes: float64(6), object(2)\n",
      "memory usage: 4.0+ KB\n"
     ]
    }
   ],
   "source": [
    "df_abonadosTV.info()"
   ]
  },
  {
   "cell_type": "code",
   "execution_count": 177,
   "metadata": {},
   "outputs": [
    {
     "data": {
      "text/html": [
       "<div>\n",
       "<style scoped>\n",
       "    .dataframe tbody tr th:only-of-type {\n",
       "        vertical-align: middle;\n",
       "    }\n",
       "\n",
       "    .dataframe tbody tr th {\n",
       "        vertical-align: top;\n",
       "    }\n",
       "\n",
       "    .dataframe thead th {\n",
       "        text-align: right;\n",
       "    }\n",
       "</style>\n",
       "<table border=\"1\" class=\"dataframe\">\n",
       "  <thead>\n",
       "    <tr style=\"text-align: right;\">\n",
       "      <th></th>\n",
       "      <th>Año</th>\n",
       "      <th>Periodo</th>\n",
       "      <th>Televisión IP</th>\n",
       "      <th>Televisión por cable</th>\n",
       "      <th>Televisión satélite</th>\n",
       "      <th>Televisión online</th>\n",
       "      <th>Televisión terrestre</th>\n",
       "      <th>TV móvil</th>\n",
       "    </tr>\n",
       "  </thead>\n",
       "  <tbody>\n",
       "    <tr>\n",
       "      <th>0</th>\n",
       "      <td>2006Trimestre 1</td>\n",
       "      <td>Trimestre 1</td>\n",
       "      <td>247789.0</td>\n",
       "      <td>1070742.0</td>\n",
       "      <td>1985000.0</td>\n",
       "      <td>0.0</td>\n",
       "      <td>0.0</td>\n",
       "      <td>0.0</td>\n",
       "    </tr>\n",
       "    <tr>\n",
       "      <th>1</th>\n",
       "      <td>2006Trimestre 2</td>\n",
       "      <td>Trimestre 2</td>\n",
       "      <td>265193.0</td>\n",
       "      <td>1090271.0</td>\n",
       "      <td>1990000.0</td>\n",
       "      <td>0.0</td>\n",
       "      <td>0.0</td>\n",
       "      <td>0.0</td>\n",
       "    </tr>\n",
       "    <tr>\n",
       "      <th>2</th>\n",
       "      <td>2006Trimestre 3</td>\n",
       "      <td>Trimestre 3</td>\n",
       "      <td>304087.0</td>\n",
       "      <td>1107013.0</td>\n",
       "      <td>2006000.0</td>\n",
       "      <td>0.0</td>\n",
       "      <td>0.0</td>\n",
       "      <td>0.0</td>\n",
       "    </tr>\n",
       "    <tr>\n",
       "      <th>3</th>\n",
       "      <td>2006Trimestre 4</td>\n",
       "      <td>Trimestre 4</td>\n",
       "      <td>395855.0</td>\n",
       "      <td>1122221.0</td>\n",
       "      <td>2044000.0</td>\n",
       "      <td>0.0</td>\n",
       "      <td>0.0</td>\n",
       "      <td>0.0</td>\n",
       "    </tr>\n",
       "    <tr>\n",
       "      <th>4</th>\n",
       "      <td>2007Trimestre 1</td>\n",
       "      <td>Trimestre 1</td>\n",
       "      <td>435472.0</td>\n",
       "      <td>1123228.0</td>\n",
       "      <td>2065000.0</td>\n",
       "      <td>0.0</td>\n",
       "      <td>0.0</td>\n",
       "      <td>0.0</td>\n",
       "    </tr>\n",
       "    <tr>\n",
       "      <th>5</th>\n",
       "      <td>2007Trimestre 2</td>\n",
       "      <td>Trimestre 2</td>\n",
       "      <td>468940.0</td>\n",
       "      <td>1126846.0</td>\n",
       "      <td>2056002.0</td>\n",
       "      <td>0.0</td>\n",
       "      <td>0.0</td>\n",
       "      <td>0.0</td>\n",
       "    </tr>\n",
       "    <tr>\n",
       "      <th>6</th>\n",
       "      <td>2007Trimestre 3</td>\n",
       "      <td>Trimestre 3</td>\n",
       "      <td>490755.0</td>\n",
       "      <td>1130232.0</td>\n",
       "      <td>2046000.0</td>\n",
       "      <td>0.0</td>\n",
       "      <td>0.0</td>\n",
       "      <td>0.0</td>\n",
       "    </tr>\n",
       "    <tr>\n",
       "      <th>7</th>\n",
       "      <td>2007Trimestre 4</td>\n",
       "      <td>Trimestre 4</td>\n",
       "      <td>565006.0</td>\n",
       "      <td>1179375.0</td>\n",
       "      <td>2065000.0</td>\n",
       "      <td>0.0</td>\n",
       "      <td>0.0</td>\n",
       "      <td>0.0</td>\n",
       "    </tr>\n",
       "    <tr>\n",
       "      <th>8</th>\n",
       "      <td>2008Trimestre 1</td>\n",
       "      <td>Trimestre 1</td>\n",
       "      <td>636140.0</td>\n",
       "      <td>1236093.0</td>\n",
       "      <td>2080000.0</td>\n",
       "      <td>0.0</td>\n",
       "      <td>0.0</td>\n",
       "      <td>259376.0</td>\n",
       "    </tr>\n",
       "    <tr>\n",
       "      <th>9</th>\n",
       "      <td>2008Trimestre 2</td>\n",
       "      <td>Trimestre 2</td>\n",
       "      <td>676348.0</td>\n",
       "      <td>1279447.0</td>\n",
       "      <td>2078000.0</td>\n",
       "      <td>0.0</td>\n",
       "      <td>0.0</td>\n",
       "      <td>291374.0</td>\n",
       "    </tr>\n",
       "    <tr>\n",
       "      <th>10</th>\n",
       "      <td>2008Trimestre 3</td>\n",
       "      <td>Trimestre 3</td>\n",
       "      <td>683633.0</td>\n",
       "      <td>1286654.0</td>\n",
       "      <td>2061000.0</td>\n",
       "      <td>0.0</td>\n",
       "      <td>0.0</td>\n",
       "      <td>271819.0</td>\n",
       "    </tr>\n",
       "    <tr>\n",
       "      <th>11</th>\n",
       "      <td>2008Trimestre 4</td>\n",
       "      <td>Trimestre 4</td>\n",
       "      <td>708167.0</td>\n",
       "      <td>1278807.0</td>\n",
       "      <td>2034865.0</td>\n",
       "      <td>0.0</td>\n",
       "      <td>0.0</td>\n",
       "      <td>269919.0</td>\n",
       "    </tr>\n",
       "    <tr>\n",
       "      <th>12</th>\n",
       "      <td>2009Trimestre 1</td>\n",
       "      <td>Trimestre 1</td>\n",
       "      <td>711833.0</td>\n",
       "      <td>1269121.0</td>\n",
       "      <td>2001295.0</td>\n",
       "      <td>0.0</td>\n",
       "      <td>0.0</td>\n",
       "      <td>277393.0</td>\n",
       "    </tr>\n",
       "    <tr>\n",
       "      <th>13</th>\n",
       "      <td>2009Trimestre 2</td>\n",
       "      <td>Trimestre 2</td>\n",
       "      <td>709153.0</td>\n",
       "      <td>1257106.0</td>\n",
       "      <td>1930793.0</td>\n",
       "      <td>0.0</td>\n",
       "      <td>0.0</td>\n",
       "      <td>269342.0</td>\n",
       "    </tr>\n",
       "    <tr>\n",
       "      <th>14</th>\n",
       "      <td>2009Trimestre 3</td>\n",
       "      <td>Trimestre 3</td>\n",
       "      <td>750080.0</td>\n",
       "      <td>1261353.0</td>\n",
       "      <td>1899216.0</td>\n",
       "      <td>0.0</td>\n",
       "      <td>0.0</td>\n",
       "      <td>265399.0</td>\n",
       "    </tr>\n",
       "    <tr>\n",
       "      <th>15</th>\n",
       "      <td>2009Trimestre 4</td>\n",
       "      <td>Trimestre 4</td>\n",
       "      <td>798642.0</td>\n",
       "      <td>1280006.0</td>\n",
       "      <td>1845805.0</td>\n",
       "      <td>0.0</td>\n",
       "      <td>153151.0</td>\n",
       "      <td>346528.0</td>\n",
       "    </tr>\n",
       "    <tr>\n",
       "      <th>16</th>\n",
       "      <td>2010Trimestre 1</td>\n",
       "      <td>Trimestre 1</td>\n",
       "      <td>823142.0</td>\n",
       "      <td>1298334.0</td>\n",
       "      <td>1798845.0</td>\n",
       "      <td>0.0</td>\n",
       "      <td>190499.0</td>\n",
       "      <td>362990.0</td>\n",
       "    </tr>\n",
       "    <tr>\n",
       "      <th>17</th>\n",
       "      <td>2010Trimestre 2</td>\n",
       "      <td>Trimestre 2</td>\n",
       "      <td>831043.0</td>\n",
       "      <td>1306177.0</td>\n",
       "      <td>1784843.0</td>\n",
       "      <td>0.0</td>\n",
       "      <td>190378.0</td>\n",
       "      <td>425757.0</td>\n",
       "    </tr>\n",
       "    <tr>\n",
       "      <th>18</th>\n",
       "      <td>2010Trimestre 3</td>\n",
       "      <td>Trimestre 3</td>\n",
       "      <td>843176.0</td>\n",
       "      <td>1295205.0</td>\n",
       "      <td>1764055.0</td>\n",
       "      <td>0.0</td>\n",
       "      <td>277600.0</td>\n",
       "      <td>466253.0</td>\n",
       "    </tr>\n",
       "    <tr>\n",
       "      <th>19</th>\n",
       "      <td>2010Trimestre 4</td>\n",
       "      <td>Trimestre 4</td>\n",
       "      <td>854466.0</td>\n",
       "      <td>1321450.0</td>\n",
       "      <td>1772856.0</td>\n",
       "      <td>0.0</td>\n",
       "      <td>347662.0</td>\n",
       "      <td>498530.0</td>\n",
       "    </tr>\n",
       "    <tr>\n",
       "      <th>20</th>\n",
       "      <td>2011Trimestre 1</td>\n",
       "      <td>Trimestre 1</td>\n",
       "      <td>866360.0</td>\n",
       "      <td>1376364.0</td>\n",
       "      <td>1785905.0</td>\n",
       "      <td>0.0</td>\n",
       "      <td>366812.0</td>\n",
       "      <td>638340.0</td>\n",
       "    </tr>\n",
       "    <tr>\n",
       "      <th>21</th>\n",
       "      <td>2011Trimestre 2</td>\n",
       "      <td>Trimestre 2</td>\n",
       "      <td>864130.0</td>\n",
       "      <td>1379458.0</td>\n",
       "      <td>1767275.0</td>\n",
       "      <td>0.0</td>\n",
       "      <td>349719.0</td>\n",
       "      <td>244900.0</td>\n",
       "    </tr>\n",
       "    <tr>\n",
       "      <th>22</th>\n",
       "      <td>2011Trimestre 3</td>\n",
       "      <td>Trimestre 3</td>\n",
       "      <td>883732.0</td>\n",
       "      <td>1368829.0</td>\n",
       "      <td>1774315.0</td>\n",
       "      <td>0.0</td>\n",
       "      <td>373828.0</td>\n",
       "      <td>280488.0</td>\n",
       "    </tr>\n",
       "    <tr>\n",
       "      <th>23</th>\n",
       "      <td>2011Trimestre 4</td>\n",
       "      <td>Trimestre 4</td>\n",
       "      <td>913148.0</td>\n",
       "      <td>1353074.0</td>\n",
       "      <td>1756185.0</td>\n",
       "      <td>0.0</td>\n",
       "      <td>383403.0</td>\n",
       "      <td>200913.0</td>\n",
       "    </tr>\n",
       "    <tr>\n",
       "      <th>24</th>\n",
       "      <td>2012Trimestre 1</td>\n",
       "      <td>Trimestre 1</td>\n",
       "      <td>891217.0</td>\n",
       "      <td>1329432.0</td>\n",
       "      <td>1771236.0</td>\n",
       "      <td>11581.0</td>\n",
       "      <td>366383.0</td>\n",
       "      <td>210226.0</td>\n",
       "    </tr>\n",
       "    <tr>\n",
       "      <th>25</th>\n",
       "      <td>2012Trimestre 2</td>\n",
       "      <td>Trimestre 2</td>\n",
       "      <td>869127.0</td>\n",
       "      <td>1326549.0</td>\n",
       "      <td>1731140.0</td>\n",
       "      <td>13745.0</td>\n",
       "      <td>333246.0</td>\n",
       "      <td>202795.0</td>\n",
       "    </tr>\n",
       "    <tr>\n",
       "      <th>26</th>\n",
       "      <td>2012Trimestre 3</td>\n",
       "      <td>Trimestre 3</td>\n",
       "      <td>836416.0</td>\n",
       "      <td>1306861.0</td>\n",
       "      <td>1723530.0</td>\n",
       "      <td>12720.0</td>\n",
       "      <td>315732.0</td>\n",
       "      <td>212261.0</td>\n",
       "    </tr>\n",
       "    <tr>\n",
       "      <th>27</th>\n",
       "      <td>2012Trimestre 4</td>\n",
       "      <td>Trimestre 4</td>\n",
       "      <td>786586.0</td>\n",
       "      <td>1266625.0</td>\n",
       "      <td>1719811.0</td>\n",
       "      <td>13833.0</td>\n",
       "      <td>290246.0</td>\n",
       "      <td>189800.0</td>\n",
       "    </tr>\n",
       "    <tr>\n",
       "      <th>28</th>\n",
       "      <td>2013Trimestre 1</td>\n",
       "      <td>Trimestre 1</td>\n",
       "      <td>724953.0</td>\n",
       "      <td>1236858.0</td>\n",
       "      <td>1691281.0</td>\n",
       "      <td>13654.0</td>\n",
       "      <td>260098.0</td>\n",
       "      <td>130437.0</td>\n",
       "    </tr>\n",
       "    <tr>\n",
       "      <th>29</th>\n",
       "      <td>2013Trimestre 2</td>\n",
       "      <td>Trimestre 2</td>\n",
       "      <td>695820.0</td>\n",
       "      <td>1206535.0</td>\n",
       "      <td>1631692.0</td>\n",
       "      <td>14480.0</td>\n",
       "      <td>223090.0</td>\n",
       "      <td>120971.0</td>\n",
       "    </tr>\n",
       "    <tr>\n",
       "      <th>30</th>\n",
       "      <td>2013Trimestre 3</td>\n",
       "      <td>Trimestre 3</td>\n",
       "      <td>673482.0</td>\n",
       "      <td>1176382.0</td>\n",
       "      <td>1633527.0</td>\n",
       "      <td>21952.0</td>\n",
       "      <td>234795.0</td>\n",
       "      <td>119501.0</td>\n",
       "    </tr>\n",
       "    <tr>\n",
       "      <th>31</th>\n",
       "      <td>2013Trimestre 4</td>\n",
       "      <td>Trimestre 4</td>\n",
       "      <td>817154.0</td>\n",
       "      <td>1142015.0</td>\n",
       "      <td>1620632.0</td>\n",
       "      <td>28399.0</td>\n",
       "      <td>237178.0</td>\n",
       "      <td>117957.0</td>\n",
       "    </tr>\n",
       "    <tr>\n",
       "      <th>32</th>\n",
       "      <td>2014Trimestre 1</td>\n",
       "      <td>Trimestre 1</td>\n",
       "      <td>947748.0</td>\n",
       "      <td>1128605.0</td>\n",
       "      <td>1631607.0</td>\n",
       "      <td>29779.0</td>\n",
       "      <td>232084.0</td>\n",
       "      <td>118474.0</td>\n",
       "    </tr>\n",
       "    <tr>\n",
       "      <th>33</th>\n",
       "      <td>2014Trimestre 2</td>\n",
       "      <td>Trimestre 2</td>\n",
       "      <td>1296592.0</td>\n",
       "      <td>1141636.0</td>\n",
       "      <td>1597311.0</td>\n",
       "      <td>26664.0</td>\n",
       "      <td>247153.0</td>\n",
       "      <td>49028.0</td>\n",
       "    </tr>\n",
       "    <tr>\n",
       "      <th>34</th>\n",
       "      <td>2014Trimestre 3</td>\n",
       "      <td>Trimestre 3</td>\n",
       "      <td>1665765.0</td>\n",
       "      <td>1131062.0</td>\n",
       "      <td>1580313.0</td>\n",
       "      <td>94532.0</td>\n",
       "      <td>237900.0</td>\n",
       "      <td>48465.0</td>\n",
       "    </tr>\n",
       "    <tr>\n",
       "      <th>35</th>\n",
       "      <td>2014Trimestre 4</td>\n",
       "      <td>Trimestre 4</td>\n",
       "      <td>1990972.0</td>\n",
       "      <td>1141008.0</td>\n",
       "      <td>1553010.0</td>\n",
       "      <td>143575.0</td>\n",
       "      <td>231406.0</td>\n",
       "      <td>42925.0</td>\n",
       "    </tr>\n",
       "    <tr>\n",
       "      <th>36</th>\n",
       "      <td>2015Trimestre 1</td>\n",
       "      <td>Trimestre 1</td>\n",
       "      <td>2268318.0</td>\n",
       "      <td>1161639.0</td>\n",
       "      <td>1549511.0</td>\n",
       "      <td>192809.0</td>\n",
       "      <td>225177.0</td>\n",
       "      <td>9506.0</td>\n",
       "    </tr>\n",
       "    <tr>\n",
       "      <th>37</th>\n",
       "      <td>2015Trimestre 2</td>\n",
       "      <td>Trimestre 2</td>\n",
       "      <td>2366186.0</td>\n",
       "      <td>1201310.0</td>\n",
       "      <td>1399532.0</td>\n",
       "      <td>191744.0</td>\n",
       "      <td>198411.0</td>\n",
       "      <td>10091.0</td>\n",
       "    </tr>\n",
       "    <tr>\n",
       "      <th>38</th>\n",
       "      <td>2015Trimestre 3</td>\n",
       "      <td>Trimestre 3</td>\n",
       "      <td>2717924.0</td>\n",
       "      <td>1265372.0</td>\n",
       "      <td>1233829.0</td>\n",
       "      <td>213762.0</td>\n",
       "      <td>0.0</td>\n",
       "      <td>0.0</td>\n",
       "    </tr>\n",
       "    <tr>\n",
       "      <th>39</th>\n",
       "      <td>2015Trimestre 4</td>\n",
       "      <td>Trimestre 4</td>\n",
       "      <td>2862936.0</td>\n",
       "      <td>1347421.0</td>\n",
       "      <td>1109908.0</td>\n",
       "      <td>215148.0</td>\n",
       "      <td>0.0</td>\n",
       "      <td>0.0</td>\n",
       "    </tr>\n",
       "    <tr>\n",
       "      <th>40</th>\n",
       "      <td>2016Trimestre 1</td>\n",
       "      <td>Trimestre 1</td>\n",
       "      <td>3057664.0</td>\n",
       "      <td>1415778.0</td>\n",
       "      <td>1050703.0</td>\n",
       "      <td>251139.0</td>\n",
       "      <td>0.0</td>\n",
       "      <td>0.0</td>\n",
       "    </tr>\n",
       "    <tr>\n",
       "      <th>41</th>\n",
       "      <td>2016Trimestre 2</td>\n",
       "      <td>Trimestre 2</td>\n",
       "      <td>3205999.0</td>\n",
       "      <td>1449928.0</td>\n",
       "      <td>1005337.0</td>\n",
       "      <td>205539.0</td>\n",
       "      <td>0.0</td>\n",
       "      <td>0.0</td>\n",
       "    </tr>\n",
       "    <tr>\n",
       "      <th>42</th>\n",
       "      <td>2016Trimestre 3</td>\n",
       "      <td>Trimestre 3</td>\n",
       "      <td>3340426.0</td>\n",
       "      <td>1486138.0</td>\n",
       "      <td>952579.0</td>\n",
       "      <td>227183.0</td>\n",
       "      <td>0.0</td>\n",
       "      <td>0.0</td>\n",
       "    </tr>\n",
       "    <tr>\n",
       "      <th>43</th>\n",
       "      <td>2016Trimestre 4</td>\n",
       "      <td>Trimestre 4</td>\n",
       "      <td>3428730.0</td>\n",
       "      <td>1509010.0</td>\n",
       "      <td>897888.0</td>\n",
       "      <td>226736.0</td>\n",
       "      <td>0.0</td>\n",
       "      <td>0.0</td>\n",
       "    </tr>\n",
       "    <tr>\n",
       "      <th>44</th>\n",
       "      <td>2017Trimestre 1</td>\n",
       "      <td>Trimestre 1</td>\n",
       "      <td>3483020.0</td>\n",
       "      <td>1511582.0</td>\n",
       "      <td>857315.0</td>\n",
       "      <td>243162.0</td>\n",
       "      <td>0.0</td>\n",
       "      <td>0.0</td>\n",
       "    </tr>\n",
       "    <tr>\n",
       "      <th>45</th>\n",
       "      <td>2017Trimestre 2</td>\n",
       "      <td>Trimestre 2</td>\n",
       "      <td>3561218.0</td>\n",
       "      <td>1494779.0</td>\n",
       "      <td>833145.0</td>\n",
       "      <td>251531.0</td>\n",
       "      <td>0.0</td>\n",
       "      <td>0.0</td>\n",
       "    </tr>\n",
       "    <tr>\n",
       "      <th>46</th>\n",
       "      <td>2017Trimestre 3</td>\n",
       "      <td>Trimestre 3</td>\n",
       "      <td>3805095.0</td>\n",
       "      <td>1477410.0</td>\n",
       "      <td>811144.0</td>\n",
       "      <td>301302.0</td>\n",
       "      <td>0.0</td>\n",
       "      <td>0.0</td>\n",
       "    </tr>\n",
       "    <tr>\n",
       "      <th>47</th>\n",
       "      <td>2017Trimestre 4</td>\n",
       "      <td>Trimestre 4</td>\n",
       "      <td>3998087.0</td>\n",
       "      <td>1454556.0</td>\n",
       "      <td>788971.0</td>\n",
       "      <td>327613.0</td>\n",
       "      <td>0.0</td>\n",
       "      <td>0.0</td>\n",
       "    </tr>\n",
       "    <tr>\n",
       "      <th>48</th>\n",
       "      <td>2018Trimestre 1</td>\n",
       "      <td>Trimestre 1</td>\n",
       "      <td>4153029.0</td>\n",
       "      <td>1421813.0</td>\n",
       "      <td>761933.0</td>\n",
       "      <td>361254.0</td>\n",
       "      <td>0.0</td>\n",
       "      <td>0.0</td>\n",
       "    </tr>\n",
       "    <tr>\n",
       "      <th>49</th>\n",
       "      <td>2018Trimestre 2</td>\n",
       "      <td>Trimestre 2</td>\n",
       "      <td>4201210.0</td>\n",
       "      <td>1388246.0</td>\n",
       "      <td>732358.0</td>\n",
       "      <td>294885.0</td>\n",
       "      <td>0.0</td>\n",
       "      <td>0.0</td>\n",
       "    </tr>\n",
       "    <tr>\n",
       "      <th>50</th>\n",
       "      <td>2018Trimestre 3</td>\n",
       "      <td>Trimestre 3</td>\n",
       "      <td>4378861.0</td>\n",
       "      <td>1318152.0</td>\n",
       "      <td>705674.0</td>\n",
       "      <td>290142.0</td>\n",
       "      <td>0.0</td>\n",
       "      <td>0.0</td>\n",
       "    </tr>\n",
       "    <tr>\n",
       "      <th>51</th>\n",
       "      <td>2018Trimestre 4</td>\n",
       "      <td>Trimestre 4</td>\n",
       "      <td>4519800.0</td>\n",
       "      <td>1304012.0</td>\n",
       "      <td>673977.0</td>\n",
       "      <td>282479.0</td>\n",
       "      <td>0.0</td>\n",
       "      <td>0.0</td>\n",
       "    </tr>\n",
       "    <tr>\n",
       "      <th>52</th>\n",
       "      <td>2019Trimestre 1</td>\n",
       "      <td>Trimestre 1</td>\n",
       "      <td>4585861.0</td>\n",
       "      <td>1311775.0</td>\n",
       "      <td>638334.0</td>\n",
       "      <td>302902.0</td>\n",
       "      <td>0.0</td>\n",
       "      <td>0.0</td>\n",
       "    </tr>\n",
       "    <tr>\n",
       "      <th>53</th>\n",
       "      <td>2019Trimestre 2</td>\n",
       "      <td>Trimestre 2</td>\n",
       "      <td>4559549.0</td>\n",
       "      <td>1302124.0</td>\n",
       "      <td>612293.0</td>\n",
       "      <td>279810.0</td>\n",
       "      <td>0.0</td>\n",
       "      <td>0.0</td>\n",
       "    </tr>\n",
       "    <tr>\n",
       "      <th>54</th>\n",
       "      <td>2019Trimestre 3</td>\n",
       "      <td>Trimestre 3</td>\n",
       "      <td>4646879.0</td>\n",
       "      <td>1289633.0</td>\n",
       "      <td>580274.0</td>\n",
       "      <td>381813.0</td>\n",
       "      <td>0.0</td>\n",
       "      <td>0.0</td>\n",
       "    </tr>\n",
       "    <tr>\n",
       "      <th>55</th>\n",
       "      <td>2019Trimestre 4</td>\n",
       "      <td>Trimestre 4</td>\n",
       "      <td>4708797.0</td>\n",
       "      <td>1300403.0</td>\n",
       "      <td>554232.0</td>\n",
       "      <td>648035.0</td>\n",
       "      <td>0.0</td>\n",
       "      <td>0.0</td>\n",
       "    </tr>\n",
       "    <tr>\n",
       "      <th>56</th>\n",
       "      <td>2020Trimestre 1</td>\n",
       "      <td>Trimestre 1</td>\n",
       "      <td>4735044.0</td>\n",
       "      <td>1292696.0</td>\n",
       "      <td>524565.0</td>\n",
       "      <td>1276168.0</td>\n",
       "      <td>0.0</td>\n",
       "      <td>0.0</td>\n",
       "    </tr>\n",
       "  </tbody>\n",
       "</table>\n",
       "</div>"
      ],
      "text/plain": [
       "                Año      Periodo  Televisión IP  Televisión por cable  \\\n",
       "0   2006Trimestre 1  Trimestre 1       247789.0             1070742.0   \n",
       "1   2006Trimestre 2  Trimestre 2       265193.0             1090271.0   \n",
       "2   2006Trimestre 3  Trimestre 3       304087.0             1107013.0   \n",
       "3   2006Trimestre 4  Trimestre 4       395855.0             1122221.0   \n",
       "4   2007Trimestre 1  Trimestre 1       435472.0             1123228.0   \n",
       "5   2007Trimestre 2  Trimestre 2       468940.0             1126846.0   \n",
       "6   2007Trimestre 3  Trimestre 3       490755.0             1130232.0   \n",
       "7   2007Trimestre 4  Trimestre 4       565006.0             1179375.0   \n",
       "8   2008Trimestre 1  Trimestre 1       636140.0             1236093.0   \n",
       "9   2008Trimestre 2  Trimestre 2       676348.0             1279447.0   \n",
       "10  2008Trimestre 3  Trimestre 3       683633.0             1286654.0   \n",
       "11  2008Trimestre 4  Trimestre 4       708167.0             1278807.0   \n",
       "12  2009Trimestre 1  Trimestre 1       711833.0             1269121.0   \n",
       "13  2009Trimestre 2  Trimestre 2       709153.0             1257106.0   \n",
       "14  2009Trimestre 3  Trimestre 3       750080.0             1261353.0   \n",
       "15  2009Trimestre 4  Trimestre 4       798642.0             1280006.0   \n",
       "16  2010Trimestre 1  Trimestre 1       823142.0             1298334.0   \n",
       "17  2010Trimestre 2  Trimestre 2       831043.0             1306177.0   \n",
       "18  2010Trimestre 3  Trimestre 3       843176.0             1295205.0   \n",
       "19  2010Trimestre 4  Trimestre 4       854466.0             1321450.0   \n",
       "20  2011Trimestre 1  Trimestre 1       866360.0             1376364.0   \n",
       "21  2011Trimestre 2  Trimestre 2       864130.0             1379458.0   \n",
       "22  2011Trimestre 3  Trimestre 3       883732.0             1368829.0   \n",
       "23  2011Trimestre 4  Trimestre 4       913148.0             1353074.0   \n",
       "24  2012Trimestre 1  Trimestre 1       891217.0             1329432.0   \n",
       "25  2012Trimestre 2  Trimestre 2       869127.0             1326549.0   \n",
       "26  2012Trimestre 3  Trimestre 3       836416.0             1306861.0   \n",
       "27  2012Trimestre 4  Trimestre 4       786586.0             1266625.0   \n",
       "28  2013Trimestre 1  Trimestre 1       724953.0             1236858.0   \n",
       "29  2013Trimestre 2  Trimestre 2       695820.0             1206535.0   \n",
       "30  2013Trimestre 3  Trimestre 3       673482.0             1176382.0   \n",
       "31  2013Trimestre 4  Trimestre 4       817154.0             1142015.0   \n",
       "32  2014Trimestre 1  Trimestre 1       947748.0             1128605.0   \n",
       "33  2014Trimestre 2  Trimestre 2      1296592.0             1141636.0   \n",
       "34  2014Trimestre 3  Trimestre 3      1665765.0             1131062.0   \n",
       "35  2014Trimestre 4  Trimestre 4      1990972.0             1141008.0   \n",
       "36  2015Trimestre 1  Trimestre 1      2268318.0             1161639.0   \n",
       "37  2015Trimestre 2  Trimestre 2      2366186.0             1201310.0   \n",
       "38  2015Trimestre 3  Trimestre 3      2717924.0             1265372.0   \n",
       "39  2015Trimestre 4  Trimestre 4      2862936.0             1347421.0   \n",
       "40  2016Trimestre 1  Trimestre 1      3057664.0             1415778.0   \n",
       "41  2016Trimestre 2  Trimestre 2      3205999.0             1449928.0   \n",
       "42  2016Trimestre 3  Trimestre 3      3340426.0             1486138.0   \n",
       "43  2016Trimestre 4  Trimestre 4      3428730.0             1509010.0   \n",
       "44  2017Trimestre 1  Trimestre 1      3483020.0             1511582.0   \n",
       "45  2017Trimestre 2  Trimestre 2      3561218.0             1494779.0   \n",
       "46  2017Trimestre 3  Trimestre 3      3805095.0             1477410.0   \n",
       "47  2017Trimestre 4  Trimestre 4      3998087.0             1454556.0   \n",
       "48  2018Trimestre 1  Trimestre 1      4153029.0             1421813.0   \n",
       "49  2018Trimestre 2  Trimestre 2      4201210.0             1388246.0   \n",
       "50  2018Trimestre 3  Trimestre 3      4378861.0             1318152.0   \n",
       "51  2018Trimestre 4  Trimestre 4      4519800.0             1304012.0   \n",
       "52  2019Trimestre 1  Trimestre 1      4585861.0             1311775.0   \n",
       "53  2019Trimestre 2  Trimestre 2      4559549.0             1302124.0   \n",
       "54  2019Trimestre 3  Trimestre 3      4646879.0             1289633.0   \n",
       "55  2019Trimestre 4  Trimestre 4      4708797.0             1300403.0   \n",
       "56  2020Trimestre 1  Trimestre 1      4735044.0             1292696.0   \n",
       "\n",
       "    Televisión satélite  Televisión online  Televisión terrestre  TV móvil  \n",
       "0             1985000.0                0.0                   0.0       0.0  \n",
       "1             1990000.0                0.0                   0.0       0.0  \n",
       "2             2006000.0                0.0                   0.0       0.0  \n",
       "3             2044000.0                0.0                   0.0       0.0  \n",
       "4             2065000.0                0.0                   0.0       0.0  \n",
       "5             2056002.0                0.0                   0.0       0.0  \n",
       "6             2046000.0                0.0                   0.0       0.0  \n",
       "7             2065000.0                0.0                   0.0       0.0  \n",
       "8             2080000.0                0.0                   0.0  259376.0  \n",
       "9             2078000.0                0.0                   0.0  291374.0  \n",
       "10            2061000.0                0.0                   0.0  271819.0  \n",
       "11            2034865.0                0.0                   0.0  269919.0  \n",
       "12            2001295.0                0.0                   0.0  277393.0  \n",
       "13            1930793.0                0.0                   0.0  269342.0  \n",
       "14            1899216.0                0.0                   0.0  265399.0  \n",
       "15            1845805.0                0.0              153151.0  346528.0  \n",
       "16            1798845.0                0.0              190499.0  362990.0  \n",
       "17            1784843.0                0.0              190378.0  425757.0  \n",
       "18            1764055.0                0.0              277600.0  466253.0  \n",
       "19            1772856.0                0.0              347662.0  498530.0  \n",
       "20            1785905.0                0.0              366812.0  638340.0  \n",
       "21            1767275.0                0.0              349719.0  244900.0  \n",
       "22            1774315.0                0.0              373828.0  280488.0  \n",
       "23            1756185.0                0.0              383403.0  200913.0  \n",
       "24            1771236.0            11581.0              366383.0  210226.0  \n",
       "25            1731140.0            13745.0              333246.0  202795.0  \n",
       "26            1723530.0            12720.0              315732.0  212261.0  \n",
       "27            1719811.0            13833.0              290246.0  189800.0  \n",
       "28            1691281.0            13654.0              260098.0  130437.0  \n",
       "29            1631692.0            14480.0              223090.0  120971.0  \n",
       "30            1633527.0            21952.0              234795.0  119501.0  \n",
       "31            1620632.0            28399.0              237178.0  117957.0  \n",
       "32            1631607.0            29779.0              232084.0  118474.0  \n",
       "33            1597311.0            26664.0              247153.0   49028.0  \n",
       "34            1580313.0            94532.0              237900.0   48465.0  \n",
       "35            1553010.0           143575.0              231406.0   42925.0  \n",
       "36            1549511.0           192809.0              225177.0    9506.0  \n",
       "37            1399532.0           191744.0              198411.0   10091.0  \n",
       "38            1233829.0           213762.0                   0.0       0.0  \n",
       "39            1109908.0           215148.0                   0.0       0.0  \n",
       "40            1050703.0           251139.0                   0.0       0.0  \n",
       "41            1005337.0           205539.0                   0.0       0.0  \n",
       "42             952579.0           227183.0                   0.0       0.0  \n",
       "43             897888.0           226736.0                   0.0       0.0  \n",
       "44             857315.0           243162.0                   0.0       0.0  \n",
       "45             833145.0           251531.0                   0.0       0.0  \n",
       "46             811144.0           301302.0                   0.0       0.0  \n",
       "47             788971.0           327613.0                   0.0       0.0  \n",
       "48             761933.0           361254.0                   0.0       0.0  \n",
       "49             732358.0           294885.0                   0.0       0.0  \n",
       "50             705674.0           290142.0                   0.0       0.0  \n",
       "51             673977.0           282479.0                   0.0       0.0  \n",
       "52             638334.0           302902.0                   0.0       0.0  \n",
       "53             612293.0           279810.0                   0.0       0.0  \n",
       "54             580274.0           381813.0                   0.0       0.0  \n",
       "55             554232.0           648035.0                   0.0       0.0  \n",
       "56             524565.0          1276168.0                   0.0       0.0  "
      ]
     },
     "execution_count": 177,
     "metadata": {},
     "output_type": "execute_result"
    }
   ],
   "source": [
    "df_abonadosTV.head(5)\n",
    "\n",
    "df_abonados = df_abonadosTV.sort_values(\"Televisión IP\", ascending=False)\n",
    "df_abonadosTV"
   ]
  },
  {
   "cell_type": "code",
   "execution_count": 178,
   "metadata": {},
   "outputs": [
    {
     "data": {
      "application/vnd.plotly.v1+json": {
       "config": {
        "linkText": "Export to plot.ly",
        "plotlyServerURL": "https://plot.ly",
        "showLink": false
       },
       "data": [
        {
         "marker": {
          "color": "cadetblue"
         },
         "mode": "lines",
         "name": "TV IP",
         "text": [
          [
           "2006Trimestre 1",
           "Trimestre 1",
           247789,
           1070742,
           1985000,
           0,
           0,
           0
          ],
          [
           "2006Trimestre 2",
           "Trimestre 2",
           265193,
           1090271,
           1990000,
           0,
           0,
           0
          ],
          [
           "2006Trimestre 3",
           "Trimestre 3",
           304087,
           1107013,
           2006000,
           0,
           0,
           0
          ],
          [
           "2006Trimestre 4",
           "Trimestre 4",
           395855,
           1122221,
           2044000,
           0,
           0,
           0
          ],
          [
           "2007Trimestre 1",
           "Trimestre 1",
           435472,
           1123228,
           2065000,
           0,
           0,
           0
          ],
          [
           "2007Trimestre 2",
           "Trimestre 2",
           468940,
           1126846,
           2056002,
           0,
           0,
           0
          ],
          [
           "2007Trimestre 3",
           "Trimestre 3",
           490755,
           1130232,
           2046000,
           0,
           0,
           0
          ],
          [
           "2007Trimestre 4",
           "Trimestre 4",
           565006,
           1179375,
           2065000,
           0,
           0,
           0
          ],
          [
           "2008Trimestre 1",
           "Trimestre 1",
           636140,
           1236093,
           2080000,
           0,
           0,
           259376
          ],
          [
           "2008Trimestre 2",
           "Trimestre 2",
           676348,
           1279447,
           2078000,
           0,
           0,
           291374
          ],
          [
           "2008Trimestre 3",
           "Trimestre 3",
           683633,
           1286654,
           2061000,
           0,
           0,
           271819
          ],
          [
           "2008Trimestre 4",
           "Trimestre 4",
           708167,
           1278807,
           2034865,
           0,
           0,
           269919
          ],
          [
           "2009Trimestre 1",
           "Trimestre 1",
           711833,
           1269121,
           2001295,
           0,
           0,
           277393
          ],
          [
           "2009Trimestre 2",
           "Trimestre 2",
           709153,
           1257106,
           1930793,
           0,
           0,
           269342
          ],
          [
           "2009Trimestre 3",
           "Trimestre 3",
           750080,
           1261353,
           1899216,
           0,
           0,
           265399
          ],
          [
           "2009Trimestre 4",
           "Trimestre 4",
           798642,
           1280006,
           1845805,
           0,
           153151,
           346528
          ],
          [
           "2010Trimestre 1",
           "Trimestre 1",
           823142,
           1298334,
           1798845,
           0,
           190499,
           362990
          ],
          [
           "2010Trimestre 2",
           "Trimestre 2",
           831043,
           1306177,
           1784843,
           0,
           190378,
           425757
          ],
          [
           "2010Trimestre 3",
           "Trimestre 3",
           843176,
           1295205,
           1764055,
           0,
           277600,
           466253
          ],
          [
           "2010Trimestre 4",
           "Trimestre 4",
           854466,
           1321450,
           1772856,
           0,
           347662,
           498530
          ],
          [
           "2011Trimestre 1",
           "Trimestre 1",
           866360,
           1376364,
           1785905,
           0,
           366812,
           638340
          ],
          [
           "2011Trimestre 2",
           "Trimestre 2",
           864130,
           1379458,
           1767275,
           0,
           349719,
           244900
          ],
          [
           "2011Trimestre 3",
           "Trimestre 3",
           883732,
           1368829,
           1774315,
           0,
           373828,
           280488
          ],
          [
           "2011Trimestre 4",
           "Trimestre 4",
           913148,
           1353074,
           1756185,
           0,
           383403,
           200913
          ],
          [
           "2012Trimestre 1",
           "Trimestre 1",
           891217,
           1329432,
           1771236,
           11581,
           366383,
           210226
          ],
          [
           "2012Trimestre 2",
           "Trimestre 2",
           869127,
           1326549,
           1731140,
           13745,
           333246,
           202795
          ],
          [
           "2012Trimestre 3",
           "Trimestre 3",
           836416,
           1306861,
           1723530,
           12720,
           315732,
           212261
          ],
          [
           "2012Trimestre 4",
           "Trimestre 4",
           786586,
           1266625,
           1719811,
           13833,
           290246,
           189800
          ],
          [
           "2013Trimestre 1",
           "Trimestre 1",
           724953,
           1236858,
           1691281,
           13654,
           260098,
           130437
          ],
          [
           "2013Trimestre 2",
           "Trimestre 2",
           695820,
           1206535,
           1631692,
           14480,
           223090,
           120971
          ],
          [
           "2013Trimestre 3",
           "Trimestre 3",
           673482,
           1176382,
           1633527,
           21952,
           234795,
           119501
          ],
          [
           "2013Trimestre 4",
           "Trimestre 4",
           817154,
           1142015,
           1620632,
           28399,
           237178,
           117957
          ],
          [
           "2014Trimestre 1",
           "Trimestre 1",
           947748,
           1128605,
           1631607,
           29779,
           232084,
           118474
          ],
          [
           "2014Trimestre 2",
           "Trimestre 2",
           1296592,
           1141636,
           1597311,
           26664,
           247153,
           49028
          ],
          [
           "2014Trimestre 3",
           "Trimestre 3",
           1665765,
           1131062,
           1580313,
           94532,
           237900,
           48465
          ],
          [
           "2014Trimestre 4",
           "Trimestre 4",
           1990972,
           1141008,
           1553010,
           143575,
           231406,
           42925
          ],
          [
           "2015Trimestre 1",
           "Trimestre 1",
           2268318,
           1161639,
           1549511,
           192809,
           225177,
           9506
          ],
          [
           "2015Trimestre 2",
           "Trimestre 2",
           2366186,
           1201310,
           1399532,
           191744,
           198411,
           10091
          ],
          [
           "2015Trimestre 3",
           "Trimestre 3",
           2717924,
           1265372,
           1233829,
           213762,
           0,
           0
          ],
          [
           "2015Trimestre 4",
           "Trimestre 4",
           2862936,
           1347421,
           1109908,
           215148,
           0,
           0
          ],
          [
           "2016Trimestre 1",
           "Trimestre 1",
           3057664,
           1415778,
           1050703,
           251139,
           0,
           0
          ],
          [
           "2016Trimestre 2",
           "Trimestre 2",
           3205999,
           1449928,
           1005337,
           205539,
           0,
           0
          ],
          [
           "2016Trimestre 3",
           "Trimestre 3",
           3340426,
           1486138,
           952579,
           227183,
           0,
           0
          ],
          [
           "2016Trimestre 4",
           "Trimestre 4",
           3428730,
           1509010,
           897888,
           226736,
           0,
           0
          ],
          [
           "2017Trimestre 1",
           "Trimestre 1",
           3483020,
           1511582,
           857315,
           243162,
           0,
           0
          ],
          [
           "2017Trimestre 2",
           "Trimestre 2",
           3561218,
           1494779,
           833145,
           251531,
           0,
           0
          ],
          [
           "2017Trimestre 3",
           "Trimestre 3",
           3805095,
           1477410,
           811144,
           301302,
           0,
           0
          ],
          [
           "2017Trimestre 4",
           "Trimestre 4",
           3998087,
           1454556,
           788971,
           327613,
           0,
           0
          ],
          [
           "2018Trimestre 1",
           "Trimestre 1",
           4153029,
           1421813,
           761933,
           361254,
           0,
           0
          ],
          [
           "2018Trimestre 2",
           "Trimestre 2",
           4201210,
           1388246,
           732358,
           294885,
           0,
           0
          ],
          [
           "2018Trimestre 3",
           "Trimestre 3",
           4378861,
           1318152,
           705674,
           290142,
           0,
           0
          ],
          [
           "2018Trimestre 4",
           "Trimestre 4",
           4519800,
           1304012,
           673977,
           282479,
           0,
           0
          ],
          [
           "2019Trimestre 1",
           "Trimestre 1",
           4585861,
           1311775,
           638334,
           302902,
           0,
           0
          ],
          [
           "2019Trimestre 2",
           "Trimestre 2",
           4559549,
           1302124,
           612293,
           279810,
           0,
           0
          ],
          [
           "2019Trimestre 3",
           "Trimestre 3",
           4646879,
           1289633,
           580274,
           381813,
           0,
           0
          ],
          [
           "2019Trimestre 4",
           "Trimestre 4",
           4708797,
           1300403,
           554232,
           648035,
           0,
           0
          ],
          [
           "2020Trimestre 1",
           "Trimestre 1",
           4735044,
           1292696,
           524565,
           1276168,
           0,
           0
          ]
         ],
         "type": "scatter",
         "x": [
          "2006Trimestre 1",
          "2006Trimestre 2",
          "2006Trimestre 3",
          "2006Trimestre 4",
          "2007Trimestre 1",
          "2007Trimestre 2",
          "2007Trimestre 3",
          "2007Trimestre 4",
          "2008Trimestre 1",
          "2008Trimestre 2",
          "2008Trimestre 3",
          "2008Trimestre 4",
          "2009Trimestre 1",
          "2009Trimestre 2",
          "2009Trimestre 3",
          "2009Trimestre 4",
          "2010Trimestre 1",
          "2010Trimestre 2",
          "2010Trimestre 3",
          "2010Trimestre 4",
          "2011Trimestre 1",
          "2011Trimestre 2",
          "2011Trimestre 3",
          "2011Trimestre 4",
          "2012Trimestre 1",
          "2012Trimestre 2",
          "2012Trimestre 3",
          "2012Trimestre 4",
          "2013Trimestre 1",
          "2013Trimestre 2",
          "2013Trimestre 3",
          "2013Trimestre 4",
          "2014Trimestre 1",
          "2014Trimestre 2",
          "2014Trimestre 3",
          "2014Trimestre 4",
          "2015Trimestre 1",
          "2015Trimestre 2",
          "2015Trimestre 3",
          "2015Trimestre 4",
          "2016Trimestre 1",
          "2016Trimestre 2",
          "2016Trimestre 3",
          "2016Trimestre 4",
          "2017Trimestre 1",
          "2017Trimestre 2",
          "2017Trimestre 3",
          "2017Trimestre 4",
          "2018Trimestre 1",
          "2018Trimestre 2",
          "2018Trimestre 3",
          "2018Trimestre 4",
          "2019Trimestre 1",
          "2019Trimestre 2",
          "2019Trimestre 3",
          "2019Trimestre 4",
          "2020Trimestre 1"
         ],
         "y": [
          247789,
          265193,
          304087,
          395855,
          435472,
          468940,
          490755,
          565006,
          636140,
          676348,
          683633,
          708167,
          711833,
          709153,
          750080,
          798642,
          823142,
          831043,
          843176,
          854466,
          866360,
          864130,
          883732,
          913148,
          891217,
          869127,
          836416,
          786586,
          724953,
          695820,
          673482,
          817154,
          947748,
          1296592,
          1665765,
          1990972,
          2268318,
          2366186,
          2717924,
          2862936,
          3057664,
          3205999,
          3340426,
          3428730,
          3483020,
          3561218,
          3805095,
          3998087,
          4153029,
          4201210,
          4378861,
          4519800,
          4585861,
          4559549,
          4646879,
          4708797,
          4735044
         ]
        },
        {
         "marker": {
          "color": "darkgrey"
         },
         "mode": "lines+markers",
         "name": "TV Cable",
         "text": [
          [
           "2006Trimestre 1",
           "Trimestre 1",
           247789,
           1070742,
           1985000,
           0,
           0,
           0
          ],
          [
           "2006Trimestre 2",
           "Trimestre 2",
           265193,
           1090271,
           1990000,
           0,
           0,
           0
          ],
          [
           "2006Trimestre 3",
           "Trimestre 3",
           304087,
           1107013,
           2006000,
           0,
           0,
           0
          ],
          [
           "2006Trimestre 4",
           "Trimestre 4",
           395855,
           1122221,
           2044000,
           0,
           0,
           0
          ],
          [
           "2007Trimestre 1",
           "Trimestre 1",
           435472,
           1123228,
           2065000,
           0,
           0,
           0
          ],
          [
           "2007Trimestre 2",
           "Trimestre 2",
           468940,
           1126846,
           2056002,
           0,
           0,
           0
          ],
          [
           "2007Trimestre 3",
           "Trimestre 3",
           490755,
           1130232,
           2046000,
           0,
           0,
           0
          ],
          [
           "2007Trimestre 4",
           "Trimestre 4",
           565006,
           1179375,
           2065000,
           0,
           0,
           0
          ],
          [
           "2008Trimestre 1",
           "Trimestre 1",
           636140,
           1236093,
           2080000,
           0,
           0,
           259376
          ],
          [
           "2008Trimestre 2",
           "Trimestre 2",
           676348,
           1279447,
           2078000,
           0,
           0,
           291374
          ],
          [
           "2008Trimestre 3",
           "Trimestre 3",
           683633,
           1286654,
           2061000,
           0,
           0,
           271819
          ],
          [
           "2008Trimestre 4",
           "Trimestre 4",
           708167,
           1278807,
           2034865,
           0,
           0,
           269919
          ],
          [
           "2009Trimestre 1",
           "Trimestre 1",
           711833,
           1269121,
           2001295,
           0,
           0,
           277393
          ],
          [
           "2009Trimestre 2",
           "Trimestre 2",
           709153,
           1257106,
           1930793,
           0,
           0,
           269342
          ],
          [
           "2009Trimestre 3",
           "Trimestre 3",
           750080,
           1261353,
           1899216,
           0,
           0,
           265399
          ],
          [
           "2009Trimestre 4",
           "Trimestre 4",
           798642,
           1280006,
           1845805,
           0,
           153151,
           346528
          ],
          [
           "2010Trimestre 1",
           "Trimestre 1",
           823142,
           1298334,
           1798845,
           0,
           190499,
           362990
          ],
          [
           "2010Trimestre 2",
           "Trimestre 2",
           831043,
           1306177,
           1784843,
           0,
           190378,
           425757
          ],
          [
           "2010Trimestre 3",
           "Trimestre 3",
           843176,
           1295205,
           1764055,
           0,
           277600,
           466253
          ],
          [
           "2010Trimestre 4",
           "Trimestre 4",
           854466,
           1321450,
           1772856,
           0,
           347662,
           498530
          ],
          [
           "2011Trimestre 1",
           "Trimestre 1",
           866360,
           1376364,
           1785905,
           0,
           366812,
           638340
          ],
          [
           "2011Trimestre 2",
           "Trimestre 2",
           864130,
           1379458,
           1767275,
           0,
           349719,
           244900
          ],
          [
           "2011Trimestre 3",
           "Trimestre 3",
           883732,
           1368829,
           1774315,
           0,
           373828,
           280488
          ],
          [
           "2011Trimestre 4",
           "Trimestre 4",
           913148,
           1353074,
           1756185,
           0,
           383403,
           200913
          ],
          [
           "2012Trimestre 1",
           "Trimestre 1",
           891217,
           1329432,
           1771236,
           11581,
           366383,
           210226
          ],
          [
           "2012Trimestre 2",
           "Trimestre 2",
           869127,
           1326549,
           1731140,
           13745,
           333246,
           202795
          ],
          [
           "2012Trimestre 3",
           "Trimestre 3",
           836416,
           1306861,
           1723530,
           12720,
           315732,
           212261
          ],
          [
           "2012Trimestre 4",
           "Trimestre 4",
           786586,
           1266625,
           1719811,
           13833,
           290246,
           189800
          ],
          [
           "2013Trimestre 1",
           "Trimestre 1",
           724953,
           1236858,
           1691281,
           13654,
           260098,
           130437
          ],
          [
           "2013Trimestre 2",
           "Trimestre 2",
           695820,
           1206535,
           1631692,
           14480,
           223090,
           120971
          ],
          [
           "2013Trimestre 3",
           "Trimestre 3",
           673482,
           1176382,
           1633527,
           21952,
           234795,
           119501
          ],
          [
           "2013Trimestre 4",
           "Trimestre 4",
           817154,
           1142015,
           1620632,
           28399,
           237178,
           117957
          ],
          [
           "2014Trimestre 1",
           "Trimestre 1",
           947748,
           1128605,
           1631607,
           29779,
           232084,
           118474
          ],
          [
           "2014Trimestre 2",
           "Trimestre 2",
           1296592,
           1141636,
           1597311,
           26664,
           247153,
           49028
          ],
          [
           "2014Trimestre 3",
           "Trimestre 3",
           1665765,
           1131062,
           1580313,
           94532,
           237900,
           48465
          ],
          [
           "2014Trimestre 4",
           "Trimestre 4",
           1990972,
           1141008,
           1553010,
           143575,
           231406,
           42925
          ],
          [
           "2015Trimestre 1",
           "Trimestre 1",
           2268318,
           1161639,
           1549511,
           192809,
           225177,
           9506
          ],
          [
           "2015Trimestre 2",
           "Trimestre 2",
           2366186,
           1201310,
           1399532,
           191744,
           198411,
           10091
          ],
          [
           "2015Trimestre 3",
           "Trimestre 3",
           2717924,
           1265372,
           1233829,
           213762,
           0,
           0
          ],
          [
           "2015Trimestre 4",
           "Trimestre 4",
           2862936,
           1347421,
           1109908,
           215148,
           0,
           0
          ],
          [
           "2016Trimestre 1",
           "Trimestre 1",
           3057664,
           1415778,
           1050703,
           251139,
           0,
           0
          ],
          [
           "2016Trimestre 2",
           "Trimestre 2",
           3205999,
           1449928,
           1005337,
           205539,
           0,
           0
          ],
          [
           "2016Trimestre 3",
           "Trimestre 3",
           3340426,
           1486138,
           952579,
           227183,
           0,
           0
          ],
          [
           "2016Trimestre 4",
           "Trimestre 4",
           3428730,
           1509010,
           897888,
           226736,
           0,
           0
          ],
          [
           "2017Trimestre 1",
           "Trimestre 1",
           3483020,
           1511582,
           857315,
           243162,
           0,
           0
          ],
          [
           "2017Trimestre 2",
           "Trimestre 2",
           3561218,
           1494779,
           833145,
           251531,
           0,
           0
          ],
          [
           "2017Trimestre 3",
           "Trimestre 3",
           3805095,
           1477410,
           811144,
           301302,
           0,
           0
          ],
          [
           "2017Trimestre 4",
           "Trimestre 4",
           3998087,
           1454556,
           788971,
           327613,
           0,
           0
          ],
          [
           "2018Trimestre 1",
           "Trimestre 1",
           4153029,
           1421813,
           761933,
           361254,
           0,
           0
          ],
          [
           "2018Trimestre 2",
           "Trimestre 2",
           4201210,
           1388246,
           732358,
           294885,
           0,
           0
          ],
          [
           "2018Trimestre 3",
           "Trimestre 3",
           4378861,
           1318152,
           705674,
           290142,
           0,
           0
          ],
          [
           "2018Trimestre 4",
           "Trimestre 4",
           4519800,
           1304012,
           673977,
           282479,
           0,
           0
          ],
          [
           "2019Trimestre 1",
           "Trimestre 1",
           4585861,
           1311775,
           638334,
           302902,
           0,
           0
          ],
          [
           "2019Trimestre 2",
           "Trimestre 2",
           4559549,
           1302124,
           612293,
           279810,
           0,
           0
          ],
          [
           "2019Trimestre 3",
           "Trimestre 3",
           4646879,
           1289633,
           580274,
           381813,
           0,
           0
          ],
          [
           "2019Trimestre 4",
           "Trimestre 4",
           4708797,
           1300403,
           554232,
           648035,
           0,
           0
          ],
          [
           "2020Trimestre 1",
           "Trimestre 1",
           4735044,
           1292696,
           524565,
           1276168,
           0,
           0
          ]
         ],
         "type": "scatter",
         "x": [
          "2006Trimestre 1",
          "2006Trimestre 2",
          "2006Trimestre 3",
          "2006Trimestre 4",
          "2007Trimestre 1",
          "2007Trimestre 2",
          "2007Trimestre 3",
          "2007Trimestre 4",
          "2008Trimestre 1",
          "2008Trimestre 2",
          "2008Trimestre 3",
          "2008Trimestre 4",
          "2009Trimestre 1",
          "2009Trimestre 2",
          "2009Trimestre 3",
          "2009Trimestre 4",
          "2010Trimestre 1",
          "2010Trimestre 2",
          "2010Trimestre 3",
          "2010Trimestre 4",
          "2011Trimestre 1",
          "2011Trimestre 2",
          "2011Trimestre 3",
          "2011Trimestre 4",
          "2012Trimestre 1",
          "2012Trimestre 2",
          "2012Trimestre 3",
          "2012Trimestre 4",
          "2013Trimestre 1",
          "2013Trimestre 2",
          "2013Trimestre 3",
          "2013Trimestre 4",
          "2014Trimestre 1",
          "2014Trimestre 2",
          "2014Trimestre 3",
          "2014Trimestre 4",
          "2015Trimestre 1",
          "2015Trimestre 2",
          "2015Trimestre 3",
          "2015Trimestre 4",
          "2016Trimestre 1",
          "2016Trimestre 2",
          "2016Trimestre 3",
          "2016Trimestre 4",
          "2017Trimestre 1",
          "2017Trimestre 2",
          "2017Trimestre 3",
          "2017Trimestre 4",
          "2018Trimestre 1",
          "2018Trimestre 2",
          "2018Trimestre 3",
          "2018Trimestre 4",
          "2019Trimestre 1",
          "2019Trimestre 2",
          "2019Trimestre 3",
          "2019Trimestre 4",
          "2020Trimestre 1"
         ],
         "y": [
          1070742,
          1090271,
          1107013,
          1122221,
          1123228,
          1126846,
          1130232,
          1179375,
          1236093,
          1279447,
          1286654,
          1278807,
          1269121,
          1257106,
          1261353,
          1280006,
          1298334,
          1306177,
          1295205,
          1321450,
          1376364,
          1379458,
          1368829,
          1353074,
          1329432,
          1326549,
          1306861,
          1266625,
          1236858,
          1206535,
          1176382,
          1142015,
          1128605,
          1141636,
          1131062,
          1141008,
          1161639,
          1201310,
          1265372,
          1347421,
          1415778,
          1449928,
          1486138,
          1509010,
          1511582,
          1494779,
          1477410,
          1454556,
          1421813,
          1388246,
          1318152,
          1304012,
          1311775,
          1302124,
          1289633,
          1300403,
          1292696
         ]
        },
        {
         "marker": {
          "color": "darkkhaki"
         },
         "mode": "lines+markers",
         "name": "TV Satelite",
         "text": [
          [
           "2006Trimestre 1",
           "Trimestre 1",
           247789,
           1070742,
           1985000,
           0,
           0,
           0
          ],
          [
           "2006Trimestre 2",
           "Trimestre 2",
           265193,
           1090271,
           1990000,
           0,
           0,
           0
          ],
          [
           "2006Trimestre 3",
           "Trimestre 3",
           304087,
           1107013,
           2006000,
           0,
           0,
           0
          ],
          [
           "2006Trimestre 4",
           "Trimestre 4",
           395855,
           1122221,
           2044000,
           0,
           0,
           0
          ],
          [
           "2007Trimestre 1",
           "Trimestre 1",
           435472,
           1123228,
           2065000,
           0,
           0,
           0
          ],
          [
           "2007Trimestre 2",
           "Trimestre 2",
           468940,
           1126846,
           2056002,
           0,
           0,
           0
          ],
          [
           "2007Trimestre 3",
           "Trimestre 3",
           490755,
           1130232,
           2046000,
           0,
           0,
           0
          ],
          [
           "2007Trimestre 4",
           "Trimestre 4",
           565006,
           1179375,
           2065000,
           0,
           0,
           0
          ],
          [
           "2008Trimestre 1",
           "Trimestre 1",
           636140,
           1236093,
           2080000,
           0,
           0,
           259376
          ],
          [
           "2008Trimestre 2",
           "Trimestre 2",
           676348,
           1279447,
           2078000,
           0,
           0,
           291374
          ],
          [
           "2008Trimestre 3",
           "Trimestre 3",
           683633,
           1286654,
           2061000,
           0,
           0,
           271819
          ],
          [
           "2008Trimestre 4",
           "Trimestre 4",
           708167,
           1278807,
           2034865,
           0,
           0,
           269919
          ],
          [
           "2009Trimestre 1",
           "Trimestre 1",
           711833,
           1269121,
           2001295,
           0,
           0,
           277393
          ],
          [
           "2009Trimestre 2",
           "Trimestre 2",
           709153,
           1257106,
           1930793,
           0,
           0,
           269342
          ],
          [
           "2009Trimestre 3",
           "Trimestre 3",
           750080,
           1261353,
           1899216,
           0,
           0,
           265399
          ],
          [
           "2009Trimestre 4",
           "Trimestre 4",
           798642,
           1280006,
           1845805,
           0,
           153151,
           346528
          ],
          [
           "2010Trimestre 1",
           "Trimestre 1",
           823142,
           1298334,
           1798845,
           0,
           190499,
           362990
          ],
          [
           "2010Trimestre 2",
           "Trimestre 2",
           831043,
           1306177,
           1784843,
           0,
           190378,
           425757
          ],
          [
           "2010Trimestre 3",
           "Trimestre 3",
           843176,
           1295205,
           1764055,
           0,
           277600,
           466253
          ],
          [
           "2010Trimestre 4",
           "Trimestre 4",
           854466,
           1321450,
           1772856,
           0,
           347662,
           498530
          ],
          [
           "2011Trimestre 1",
           "Trimestre 1",
           866360,
           1376364,
           1785905,
           0,
           366812,
           638340
          ],
          [
           "2011Trimestre 2",
           "Trimestre 2",
           864130,
           1379458,
           1767275,
           0,
           349719,
           244900
          ],
          [
           "2011Trimestre 3",
           "Trimestre 3",
           883732,
           1368829,
           1774315,
           0,
           373828,
           280488
          ],
          [
           "2011Trimestre 4",
           "Trimestre 4",
           913148,
           1353074,
           1756185,
           0,
           383403,
           200913
          ],
          [
           "2012Trimestre 1",
           "Trimestre 1",
           891217,
           1329432,
           1771236,
           11581,
           366383,
           210226
          ],
          [
           "2012Trimestre 2",
           "Trimestre 2",
           869127,
           1326549,
           1731140,
           13745,
           333246,
           202795
          ],
          [
           "2012Trimestre 3",
           "Trimestre 3",
           836416,
           1306861,
           1723530,
           12720,
           315732,
           212261
          ],
          [
           "2012Trimestre 4",
           "Trimestre 4",
           786586,
           1266625,
           1719811,
           13833,
           290246,
           189800
          ],
          [
           "2013Trimestre 1",
           "Trimestre 1",
           724953,
           1236858,
           1691281,
           13654,
           260098,
           130437
          ],
          [
           "2013Trimestre 2",
           "Trimestre 2",
           695820,
           1206535,
           1631692,
           14480,
           223090,
           120971
          ],
          [
           "2013Trimestre 3",
           "Trimestre 3",
           673482,
           1176382,
           1633527,
           21952,
           234795,
           119501
          ],
          [
           "2013Trimestre 4",
           "Trimestre 4",
           817154,
           1142015,
           1620632,
           28399,
           237178,
           117957
          ],
          [
           "2014Trimestre 1",
           "Trimestre 1",
           947748,
           1128605,
           1631607,
           29779,
           232084,
           118474
          ],
          [
           "2014Trimestre 2",
           "Trimestre 2",
           1296592,
           1141636,
           1597311,
           26664,
           247153,
           49028
          ],
          [
           "2014Trimestre 3",
           "Trimestre 3",
           1665765,
           1131062,
           1580313,
           94532,
           237900,
           48465
          ],
          [
           "2014Trimestre 4",
           "Trimestre 4",
           1990972,
           1141008,
           1553010,
           143575,
           231406,
           42925
          ],
          [
           "2015Trimestre 1",
           "Trimestre 1",
           2268318,
           1161639,
           1549511,
           192809,
           225177,
           9506
          ],
          [
           "2015Trimestre 2",
           "Trimestre 2",
           2366186,
           1201310,
           1399532,
           191744,
           198411,
           10091
          ],
          [
           "2015Trimestre 3",
           "Trimestre 3",
           2717924,
           1265372,
           1233829,
           213762,
           0,
           0
          ],
          [
           "2015Trimestre 4",
           "Trimestre 4",
           2862936,
           1347421,
           1109908,
           215148,
           0,
           0
          ],
          [
           "2016Trimestre 1",
           "Trimestre 1",
           3057664,
           1415778,
           1050703,
           251139,
           0,
           0
          ],
          [
           "2016Trimestre 2",
           "Trimestre 2",
           3205999,
           1449928,
           1005337,
           205539,
           0,
           0
          ],
          [
           "2016Trimestre 3",
           "Trimestre 3",
           3340426,
           1486138,
           952579,
           227183,
           0,
           0
          ],
          [
           "2016Trimestre 4",
           "Trimestre 4",
           3428730,
           1509010,
           897888,
           226736,
           0,
           0
          ],
          [
           "2017Trimestre 1",
           "Trimestre 1",
           3483020,
           1511582,
           857315,
           243162,
           0,
           0
          ],
          [
           "2017Trimestre 2",
           "Trimestre 2",
           3561218,
           1494779,
           833145,
           251531,
           0,
           0
          ],
          [
           "2017Trimestre 3",
           "Trimestre 3",
           3805095,
           1477410,
           811144,
           301302,
           0,
           0
          ],
          [
           "2017Trimestre 4",
           "Trimestre 4",
           3998087,
           1454556,
           788971,
           327613,
           0,
           0
          ],
          [
           "2018Trimestre 1",
           "Trimestre 1",
           4153029,
           1421813,
           761933,
           361254,
           0,
           0
          ],
          [
           "2018Trimestre 2",
           "Trimestre 2",
           4201210,
           1388246,
           732358,
           294885,
           0,
           0
          ],
          [
           "2018Trimestre 3",
           "Trimestre 3",
           4378861,
           1318152,
           705674,
           290142,
           0,
           0
          ],
          [
           "2018Trimestre 4",
           "Trimestre 4",
           4519800,
           1304012,
           673977,
           282479,
           0,
           0
          ],
          [
           "2019Trimestre 1",
           "Trimestre 1",
           4585861,
           1311775,
           638334,
           302902,
           0,
           0
          ],
          [
           "2019Trimestre 2",
           "Trimestre 2",
           4559549,
           1302124,
           612293,
           279810,
           0,
           0
          ],
          [
           "2019Trimestre 3",
           "Trimestre 3",
           4646879,
           1289633,
           580274,
           381813,
           0,
           0
          ],
          [
           "2019Trimestre 4",
           "Trimestre 4",
           4708797,
           1300403,
           554232,
           648035,
           0,
           0
          ],
          [
           "2020Trimestre 1",
           "Trimestre 1",
           4735044,
           1292696,
           524565,
           1276168,
           0,
           0
          ]
         ],
         "type": "scatter",
         "x": [
          "2006Trimestre 1",
          "2006Trimestre 2",
          "2006Trimestre 3",
          "2006Trimestre 4",
          "2007Trimestre 1",
          "2007Trimestre 2",
          "2007Trimestre 3",
          "2007Trimestre 4",
          "2008Trimestre 1",
          "2008Trimestre 2",
          "2008Trimestre 3",
          "2008Trimestre 4",
          "2009Trimestre 1",
          "2009Trimestre 2",
          "2009Trimestre 3",
          "2009Trimestre 4",
          "2010Trimestre 1",
          "2010Trimestre 2",
          "2010Trimestre 3",
          "2010Trimestre 4",
          "2011Trimestre 1",
          "2011Trimestre 2",
          "2011Trimestre 3",
          "2011Trimestre 4",
          "2012Trimestre 1",
          "2012Trimestre 2",
          "2012Trimestre 3",
          "2012Trimestre 4",
          "2013Trimestre 1",
          "2013Trimestre 2",
          "2013Trimestre 3",
          "2013Trimestre 4",
          "2014Trimestre 1",
          "2014Trimestre 2",
          "2014Trimestre 3",
          "2014Trimestre 4",
          "2015Trimestre 1",
          "2015Trimestre 2",
          "2015Trimestre 3",
          "2015Trimestre 4",
          "2016Trimestre 1",
          "2016Trimestre 2",
          "2016Trimestre 3",
          "2016Trimestre 4",
          "2017Trimestre 1",
          "2017Trimestre 2",
          "2017Trimestre 3",
          "2017Trimestre 4",
          "2018Trimestre 1",
          "2018Trimestre 2",
          "2018Trimestre 3",
          "2018Trimestre 4",
          "2019Trimestre 1",
          "2019Trimestre 2",
          "2019Trimestre 3",
          "2019Trimestre 4",
          "2020Trimestre 1"
         ],
         "y": [
          1985000,
          1990000,
          2006000,
          2044000,
          2065000,
          2056002,
          2046000,
          2065000,
          2080000,
          2078000,
          2061000,
          2034865,
          2001295,
          1930793,
          1899216,
          1845805,
          1798845,
          1784843,
          1764055,
          1772856,
          1785905,
          1767275,
          1774315,
          1756185,
          1771236,
          1731140,
          1723530,
          1719811,
          1691281,
          1631692,
          1633527,
          1620632,
          1631607,
          1597311,
          1580313,
          1553010,
          1549511,
          1399532,
          1233829,
          1109908,
          1050703,
          1005337,
          952579,
          897888,
          857315,
          833145,
          811144,
          788971,
          761933,
          732358,
          705674,
          673977,
          638334,
          612293,
          580274,
          554232,
          524565
         ]
        },
        {
         "marker": {
          "color": "blueviolet"
         },
         "mode": "lines+markers",
         "name": "TV OnLine",
         "text": [
          [
           "2006Trimestre 1",
           "Trimestre 1",
           247789,
           1070742,
           1985000,
           0,
           0,
           0
          ],
          [
           "2006Trimestre 2",
           "Trimestre 2",
           265193,
           1090271,
           1990000,
           0,
           0,
           0
          ],
          [
           "2006Trimestre 3",
           "Trimestre 3",
           304087,
           1107013,
           2006000,
           0,
           0,
           0
          ],
          [
           "2006Trimestre 4",
           "Trimestre 4",
           395855,
           1122221,
           2044000,
           0,
           0,
           0
          ],
          [
           "2007Trimestre 1",
           "Trimestre 1",
           435472,
           1123228,
           2065000,
           0,
           0,
           0
          ],
          [
           "2007Trimestre 2",
           "Trimestre 2",
           468940,
           1126846,
           2056002,
           0,
           0,
           0
          ],
          [
           "2007Trimestre 3",
           "Trimestre 3",
           490755,
           1130232,
           2046000,
           0,
           0,
           0
          ],
          [
           "2007Trimestre 4",
           "Trimestre 4",
           565006,
           1179375,
           2065000,
           0,
           0,
           0
          ],
          [
           "2008Trimestre 1",
           "Trimestre 1",
           636140,
           1236093,
           2080000,
           0,
           0,
           259376
          ],
          [
           "2008Trimestre 2",
           "Trimestre 2",
           676348,
           1279447,
           2078000,
           0,
           0,
           291374
          ],
          [
           "2008Trimestre 3",
           "Trimestre 3",
           683633,
           1286654,
           2061000,
           0,
           0,
           271819
          ],
          [
           "2008Trimestre 4",
           "Trimestre 4",
           708167,
           1278807,
           2034865,
           0,
           0,
           269919
          ],
          [
           "2009Trimestre 1",
           "Trimestre 1",
           711833,
           1269121,
           2001295,
           0,
           0,
           277393
          ],
          [
           "2009Trimestre 2",
           "Trimestre 2",
           709153,
           1257106,
           1930793,
           0,
           0,
           269342
          ],
          [
           "2009Trimestre 3",
           "Trimestre 3",
           750080,
           1261353,
           1899216,
           0,
           0,
           265399
          ],
          [
           "2009Trimestre 4",
           "Trimestre 4",
           798642,
           1280006,
           1845805,
           0,
           153151,
           346528
          ],
          [
           "2010Trimestre 1",
           "Trimestre 1",
           823142,
           1298334,
           1798845,
           0,
           190499,
           362990
          ],
          [
           "2010Trimestre 2",
           "Trimestre 2",
           831043,
           1306177,
           1784843,
           0,
           190378,
           425757
          ],
          [
           "2010Trimestre 3",
           "Trimestre 3",
           843176,
           1295205,
           1764055,
           0,
           277600,
           466253
          ],
          [
           "2010Trimestre 4",
           "Trimestre 4",
           854466,
           1321450,
           1772856,
           0,
           347662,
           498530
          ],
          [
           "2011Trimestre 1",
           "Trimestre 1",
           866360,
           1376364,
           1785905,
           0,
           366812,
           638340
          ],
          [
           "2011Trimestre 2",
           "Trimestre 2",
           864130,
           1379458,
           1767275,
           0,
           349719,
           244900
          ],
          [
           "2011Trimestre 3",
           "Trimestre 3",
           883732,
           1368829,
           1774315,
           0,
           373828,
           280488
          ],
          [
           "2011Trimestre 4",
           "Trimestre 4",
           913148,
           1353074,
           1756185,
           0,
           383403,
           200913
          ],
          [
           "2012Trimestre 1",
           "Trimestre 1",
           891217,
           1329432,
           1771236,
           11581,
           366383,
           210226
          ],
          [
           "2012Trimestre 2",
           "Trimestre 2",
           869127,
           1326549,
           1731140,
           13745,
           333246,
           202795
          ],
          [
           "2012Trimestre 3",
           "Trimestre 3",
           836416,
           1306861,
           1723530,
           12720,
           315732,
           212261
          ],
          [
           "2012Trimestre 4",
           "Trimestre 4",
           786586,
           1266625,
           1719811,
           13833,
           290246,
           189800
          ],
          [
           "2013Trimestre 1",
           "Trimestre 1",
           724953,
           1236858,
           1691281,
           13654,
           260098,
           130437
          ],
          [
           "2013Trimestre 2",
           "Trimestre 2",
           695820,
           1206535,
           1631692,
           14480,
           223090,
           120971
          ],
          [
           "2013Trimestre 3",
           "Trimestre 3",
           673482,
           1176382,
           1633527,
           21952,
           234795,
           119501
          ],
          [
           "2013Trimestre 4",
           "Trimestre 4",
           817154,
           1142015,
           1620632,
           28399,
           237178,
           117957
          ],
          [
           "2014Trimestre 1",
           "Trimestre 1",
           947748,
           1128605,
           1631607,
           29779,
           232084,
           118474
          ],
          [
           "2014Trimestre 2",
           "Trimestre 2",
           1296592,
           1141636,
           1597311,
           26664,
           247153,
           49028
          ],
          [
           "2014Trimestre 3",
           "Trimestre 3",
           1665765,
           1131062,
           1580313,
           94532,
           237900,
           48465
          ],
          [
           "2014Trimestre 4",
           "Trimestre 4",
           1990972,
           1141008,
           1553010,
           143575,
           231406,
           42925
          ],
          [
           "2015Trimestre 1",
           "Trimestre 1",
           2268318,
           1161639,
           1549511,
           192809,
           225177,
           9506
          ],
          [
           "2015Trimestre 2",
           "Trimestre 2",
           2366186,
           1201310,
           1399532,
           191744,
           198411,
           10091
          ],
          [
           "2015Trimestre 3",
           "Trimestre 3",
           2717924,
           1265372,
           1233829,
           213762,
           0,
           0
          ],
          [
           "2015Trimestre 4",
           "Trimestre 4",
           2862936,
           1347421,
           1109908,
           215148,
           0,
           0
          ],
          [
           "2016Trimestre 1",
           "Trimestre 1",
           3057664,
           1415778,
           1050703,
           251139,
           0,
           0
          ],
          [
           "2016Trimestre 2",
           "Trimestre 2",
           3205999,
           1449928,
           1005337,
           205539,
           0,
           0
          ],
          [
           "2016Trimestre 3",
           "Trimestre 3",
           3340426,
           1486138,
           952579,
           227183,
           0,
           0
          ],
          [
           "2016Trimestre 4",
           "Trimestre 4",
           3428730,
           1509010,
           897888,
           226736,
           0,
           0
          ],
          [
           "2017Trimestre 1",
           "Trimestre 1",
           3483020,
           1511582,
           857315,
           243162,
           0,
           0
          ],
          [
           "2017Trimestre 2",
           "Trimestre 2",
           3561218,
           1494779,
           833145,
           251531,
           0,
           0
          ],
          [
           "2017Trimestre 3",
           "Trimestre 3",
           3805095,
           1477410,
           811144,
           301302,
           0,
           0
          ],
          [
           "2017Trimestre 4",
           "Trimestre 4",
           3998087,
           1454556,
           788971,
           327613,
           0,
           0
          ],
          [
           "2018Trimestre 1",
           "Trimestre 1",
           4153029,
           1421813,
           761933,
           361254,
           0,
           0
          ],
          [
           "2018Trimestre 2",
           "Trimestre 2",
           4201210,
           1388246,
           732358,
           294885,
           0,
           0
          ],
          [
           "2018Trimestre 3",
           "Trimestre 3",
           4378861,
           1318152,
           705674,
           290142,
           0,
           0
          ],
          [
           "2018Trimestre 4",
           "Trimestre 4",
           4519800,
           1304012,
           673977,
           282479,
           0,
           0
          ],
          [
           "2019Trimestre 1",
           "Trimestre 1",
           4585861,
           1311775,
           638334,
           302902,
           0,
           0
          ],
          [
           "2019Trimestre 2",
           "Trimestre 2",
           4559549,
           1302124,
           612293,
           279810,
           0,
           0
          ],
          [
           "2019Trimestre 3",
           "Trimestre 3",
           4646879,
           1289633,
           580274,
           381813,
           0,
           0
          ],
          [
           "2019Trimestre 4",
           "Trimestre 4",
           4708797,
           1300403,
           554232,
           648035,
           0,
           0
          ],
          [
           "2020Trimestre 1",
           "Trimestre 1",
           4735044,
           1292696,
           524565,
           1276168,
           0,
           0
          ]
         ],
         "type": "scatter",
         "x": [
          "2006Trimestre 1",
          "2006Trimestre 2",
          "2006Trimestre 3",
          "2006Trimestre 4",
          "2007Trimestre 1",
          "2007Trimestre 2",
          "2007Trimestre 3",
          "2007Trimestre 4",
          "2008Trimestre 1",
          "2008Trimestre 2",
          "2008Trimestre 3",
          "2008Trimestre 4",
          "2009Trimestre 1",
          "2009Trimestre 2",
          "2009Trimestre 3",
          "2009Trimestre 4",
          "2010Trimestre 1",
          "2010Trimestre 2",
          "2010Trimestre 3",
          "2010Trimestre 4",
          "2011Trimestre 1",
          "2011Trimestre 2",
          "2011Trimestre 3",
          "2011Trimestre 4",
          "2012Trimestre 1",
          "2012Trimestre 2",
          "2012Trimestre 3",
          "2012Trimestre 4",
          "2013Trimestre 1",
          "2013Trimestre 2",
          "2013Trimestre 3",
          "2013Trimestre 4",
          "2014Trimestre 1",
          "2014Trimestre 2",
          "2014Trimestre 3",
          "2014Trimestre 4",
          "2015Trimestre 1",
          "2015Trimestre 2",
          "2015Trimestre 3",
          "2015Trimestre 4",
          "2016Trimestre 1",
          "2016Trimestre 2",
          "2016Trimestre 3",
          "2016Trimestre 4",
          "2017Trimestre 1",
          "2017Trimestre 2",
          "2017Trimestre 3",
          "2017Trimestre 4",
          "2018Trimestre 1",
          "2018Trimestre 2",
          "2018Trimestre 3",
          "2018Trimestre 4",
          "2019Trimestre 1",
          "2019Trimestre 2",
          "2019Trimestre 3",
          "2019Trimestre 4",
          "2020Trimestre 1"
         ],
         "y": [
          0,
          0,
          0,
          0,
          0,
          0,
          0,
          0,
          0,
          0,
          0,
          0,
          0,
          0,
          0,
          0,
          0,
          0,
          0,
          0,
          0,
          0,
          0,
          0,
          11581,
          13745,
          12720,
          13833,
          13654,
          14480,
          21952,
          28399,
          29779,
          26664,
          94532,
          143575,
          192809,
          191744,
          213762,
          215148,
          251139,
          205539,
          227183,
          226736,
          243162,
          251531,
          301302,
          327613,
          361254,
          294885,
          290142,
          282479,
          302902,
          279810,
          381813,
          648035,
          1276168
         ]
        },
        {
         "marker": {
          "color": "darkorange"
         },
         "mode": "lines+markers",
         "name": "TV Terrestre",
         "text": [
          [
           "2006Trimestre 1",
           "Trimestre 1",
           247789,
           1070742,
           1985000,
           0,
           0,
           0
          ],
          [
           "2006Trimestre 2",
           "Trimestre 2",
           265193,
           1090271,
           1990000,
           0,
           0,
           0
          ],
          [
           "2006Trimestre 3",
           "Trimestre 3",
           304087,
           1107013,
           2006000,
           0,
           0,
           0
          ],
          [
           "2006Trimestre 4",
           "Trimestre 4",
           395855,
           1122221,
           2044000,
           0,
           0,
           0
          ],
          [
           "2007Trimestre 1",
           "Trimestre 1",
           435472,
           1123228,
           2065000,
           0,
           0,
           0
          ],
          [
           "2007Trimestre 2",
           "Trimestre 2",
           468940,
           1126846,
           2056002,
           0,
           0,
           0
          ],
          [
           "2007Trimestre 3",
           "Trimestre 3",
           490755,
           1130232,
           2046000,
           0,
           0,
           0
          ],
          [
           "2007Trimestre 4",
           "Trimestre 4",
           565006,
           1179375,
           2065000,
           0,
           0,
           0
          ],
          [
           "2008Trimestre 1",
           "Trimestre 1",
           636140,
           1236093,
           2080000,
           0,
           0,
           259376
          ],
          [
           "2008Trimestre 2",
           "Trimestre 2",
           676348,
           1279447,
           2078000,
           0,
           0,
           291374
          ],
          [
           "2008Trimestre 3",
           "Trimestre 3",
           683633,
           1286654,
           2061000,
           0,
           0,
           271819
          ],
          [
           "2008Trimestre 4",
           "Trimestre 4",
           708167,
           1278807,
           2034865,
           0,
           0,
           269919
          ],
          [
           "2009Trimestre 1",
           "Trimestre 1",
           711833,
           1269121,
           2001295,
           0,
           0,
           277393
          ],
          [
           "2009Trimestre 2",
           "Trimestre 2",
           709153,
           1257106,
           1930793,
           0,
           0,
           269342
          ],
          [
           "2009Trimestre 3",
           "Trimestre 3",
           750080,
           1261353,
           1899216,
           0,
           0,
           265399
          ],
          [
           "2009Trimestre 4",
           "Trimestre 4",
           798642,
           1280006,
           1845805,
           0,
           153151,
           346528
          ],
          [
           "2010Trimestre 1",
           "Trimestre 1",
           823142,
           1298334,
           1798845,
           0,
           190499,
           362990
          ],
          [
           "2010Trimestre 2",
           "Trimestre 2",
           831043,
           1306177,
           1784843,
           0,
           190378,
           425757
          ],
          [
           "2010Trimestre 3",
           "Trimestre 3",
           843176,
           1295205,
           1764055,
           0,
           277600,
           466253
          ],
          [
           "2010Trimestre 4",
           "Trimestre 4",
           854466,
           1321450,
           1772856,
           0,
           347662,
           498530
          ],
          [
           "2011Trimestre 1",
           "Trimestre 1",
           866360,
           1376364,
           1785905,
           0,
           366812,
           638340
          ],
          [
           "2011Trimestre 2",
           "Trimestre 2",
           864130,
           1379458,
           1767275,
           0,
           349719,
           244900
          ],
          [
           "2011Trimestre 3",
           "Trimestre 3",
           883732,
           1368829,
           1774315,
           0,
           373828,
           280488
          ],
          [
           "2011Trimestre 4",
           "Trimestre 4",
           913148,
           1353074,
           1756185,
           0,
           383403,
           200913
          ],
          [
           "2012Trimestre 1",
           "Trimestre 1",
           891217,
           1329432,
           1771236,
           11581,
           366383,
           210226
          ],
          [
           "2012Trimestre 2",
           "Trimestre 2",
           869127,
           1326549,
           1731140,
           13745,
           333246,
           202795
          ],
          [
           "2012Trimestre 3",
           "Trimestre 3",
           836416,
           1306861,
           1723530,
           12720,
           315732,
           212261
          ],
          [
           "2012Trimestre 4",
           "Trimestre 4",
           786586,
           1266625,
           1719811,
           13833,
           290246,
           189800
          ],
          [
           "2013Trimestre 1",
           "Trimestre 1",
           724953,
           1236858,
           1691281,
           13654,
           260098,
           130437
          ],
          [
           "2013Trimestre 2",
           "Trimestre 2",
           695820,
           1206535,
           1631692,
           14480,
           223090,
           120971
          ],
          [
           "2013Trimestre 3",
           "Trimestre 3",
           673482,
           1176382,
           1633527,
           21952,
           234795,
           119501
          ],
          [
           "2013Trimestre 4",
           "Trimestre 4",
           817154,
           1142015,
           1620632,
           28399,
           237178,
           117957
          ],
          [
           "2014Trimestre 1",
           "Trimestre 1",
           947748,
           1128605,
           1631607,
           29779,
           232084,
           118474
          ],
          [
           "2014Trimestre 2",
           "Trimestre 2",
           1296592,
           1141636,
           1597311,
           26664,
           247153,
           49028
          ],
          [
           "2014Trimestre 3",
           "Trimestre 3",
           1665765,
           1131062,
           1580313,
           94532,
           237900,
           48465
          ],
          [
           "2014Trimestre 4",
           "Trimestre 4",
           1990972,
           1141008,
           1553010,
           143575,
           231406,
           42925
          ],
          [
           "2015Trimestre 1",
           "Trimestre 1",
           2268318,
           1161639,
           1549511,
           192809,
           225177,
           9506
          ],
          [
           "2015Trimestre 2",
           "Trimestre 2",
           2366186,
           1201310,
           1399532,
           191744,
           198411,
           10091
          ],
          [
           "2015Trimestre 3",
           "Trimestre 3",
           2717924,
           1265372,
           1233829,
           213762,
           0,
           0
          ],
          [
           "2015Trimestre 4",
           "Trimestre 4",
           2862936,
           1347421,
           1109908,
           215148,
           0,
           0
          ],
          [
           "2016Trimestre 1",
           "Trimestre 1",
           3057664,
           1415778,
           1050703,
           251139,
           0,
           0
          ],
          [
           "2016Trimestre 2",
           "Trimestre 2",
           3205999,
           1449928,
           1005337,
           205539,
           0,
           0
          ],
          [
           "2016Trimestre 3",
           "Trimestre 3",
           3340426,
           1486138,
           952579,
           227183,
           0,
           0
          ],
          [
           "2016Trimestre 4",
           "Trimestre 4",
           3428730,
           1509010,
           897888,
           226736,
           0,
           0
          ],
          [
           "2017Trimestre 1",
           "Trimestre 1",
           3483020,
           1511582,
           857315,
           243162,
           0,
           0
          ],
          [
           "2017Trimestre 2",
           "Trimestre 2",
           3561218,
           1494779,
           833145,
           251531,
           0,
           0
          ],
          [
           "2017Trimestre 3",
           "Trimestre 3",
           3805095,
           1477410,
           811144,
           301302,
           0,
           0
          ],
          [
           "2017Trimestre 4",
           "Trimestre 4",
           3998087,
           1454556,
           788971,
           327613,
           0,
           0
          ],
          [
           "2018Trimestre 1",
           "Trimestre 1",
           4153029,
           1421813,
           761933,
           361254,
           0,
           0
          ],
          [
           "2018Trimestre 2",
           "Trimestre 2",
           4201210,
           1388246,
           732358,
           294885,
           0,
           0
          ],
          [
           "2018Trimestre 3",
           "Trimestre 3",
           4378861,
           1318152,
           705674,
           290142,
           0,
           0
          ],
          [
           "2018Trimestre 4",
           "Trimestre 4",
           4519800,
           1304012,
           673977,
           282479,
           0,
           0
          ],
          [
           "2019Trimestre 1",
           "Trimestre 1",
           4585861,
           1311775,
           638334,
           302902,
           0,
           0
          ],
          [
           "2019Trimestre 2",
           "Trimestre 2",
           4559549,
           1302124,
           612293,
           279810,
           0,
           0
          ],
          [
           "2019Trimestre 3",
           "Trimestre 3",
           4646879,
           1289633,
           580274,
           381813,
           0,
           0
          ],
          [
           "2019Trimestre 4",
           "Trimestre 4",
           4708797,
           1300403,
           554232,
           648035,
           0,
           0
          ],
          [
           "2020Trimestre 1",
           "Trimestre 1",
           4735044,
           1292696,
           524565,
           1276168,
           0,
           0
          ]
         ],
         "type": "scatter",
         "x": [
          "2006Trimestre 1",
          "2006Trimestre 2",
          "2006Trimestre 3",
          "2006Trimestre 4",
          "2007Trimestre 1",
          "2007Trimestre 2",
          "2007Trimestre 3",
          "2007Trimestre 4",
          "2008Trimestre 1",
          "2008Trimestre 2",
          "2008Trimestre 3",
          "2008Trimestre 4",
          "2009Trimestre 1",
          "2009Trimestre 2",
          "2009Trimestre 3",
          "2009Trimestre 4",
          "2010Trimestre 1",
          "2010Trimestre 2",
          "2010Trimestre 3",
          "2010Trimestre 4",
          "2011Trimestre 1",
          "2011Trimestre 2",
          "2011Trimestre 3",
          "2011Trimestre 4",
          "2012Trimestre 1",
          "2012Trimestre 2",
          "2012Trimestre 3",
          "2012Trimestre 4",
          "2013Trimestre 1",
          "2013Trimestre 2",
          "2013Trimestre 3",
          "2013Trimestre 4",
          "2014Trimestre 1",
          "2014Trimestre 2",
          "2014Trimestre 3",
          "2014Trimestre 4",
          "2015Trimestre 1",
          "2015Trimestre 2",
          "2015Trimestre 3",
          "2015Trimestre 4",
          "2016Trimestre 1",
          "2016Trimestre 2",
          "2016Trimestre 3",
          "2016Trimestre 4",
          "2017Trimestre 1",
          "2017Trimestre 2",
          "2017Trimestre 3",
          "2017Trimestre 4",
          "2018Trimestre 1",
          "2018Trimestre 2",
          "2018Trimestre 3",
          "2018Trimestre 4",
          "2019Trimestre 1",
          "2019Trimestre 2",
          "2019Trimestre 3",
          "2019Trimestre 4",
          "2020Trimestre 1"
         ],
         "y": [
          0,
          0,
          0,
          0,
          0,
          0,
          0,
          0,
          0,
          0,
          0,
          0,
          0,
          0,
          0,
          153151,
          190499,
          190378,
          277600,
          347662,
          366812,
          349719,
          373828,
          383403,
          366383,
          333246,
          315732,
          290246,
          260098,
          223090,
          234795,
          237178,
          232084,
          247153,
          237900,
          231406,
          225177,
          198411,
          0,
          0,
          0,
          0,
          0,
          0,
          0,
          0,
          0,
          0,
          0,
          0,
          0,
          0,
          0,
          0,
          0,
          0,
          0
         ]
        },
        {
         "marker": {
          "color": "black"
         },
         "mode": "lines+markers",
         "name": "TV Movil",
         "text": [
          [
           "2006Trimestre 1",
           "Trimestre 1",
           247789,
           1070742,
           1985000,
           0,
           0,
           0
          ],
          [
           "2006Trimestre 2",
           "Trimestre 2",
           265193,
           1090271,
           1990000,
           0,
           0,
           0
          ],
          [
           "2006Trimestre 3",
           "Trimestre 3",
           304087,
           1107013,
           2006000,
           0,
           0,
           0
          ],
          [
           "2006Trimestre 4",
           "Trimestre 4",
           395855,
           1122221,
           2044000,
           0,
           0,
           0
          ],
          [
           "2007Trimestre 1",
           "Trimestre 1",
           435472,
           1123228,
           2065000,
           0,
           0,
           0
          ],
          [
           "2007Trimestre 2",
           "Trimestre 2",
           468940,
           1126846,
           2056002,
           0,
           0,
           0
          ],
          [
           "2007Trimestre 3",
           "Trimestre 3",
           490755,
           1130232,
           2046000,
           0,
           0,
           0
          ],
          [
           "2007Trimestre 4",
           "Trimestre 4",
           565006,
           1179375,
           2065000,
           0,
           0,
           0
          ],
          [
           "2008Trimestre 1",
           "Trimestre 1",
           636140,
           1236093,
           2080000,
           0,
           0,
           259376
          ],
          [
           "2008Trimestre 2",
           "Trimestre 2",
           676348,
           1279447,
           2078000,
           0,
           0,
           291374
          ],
          [
           "2008Trimestre 3",
           "Trimestre 3",
           683633,
           1286654,
           2061000,
           0,
           0,
           271819
          ],
          [
           "2008Trimestre 4",
           "Trimestre 4",
           708167,
           1278807,
           2034865,
           0,
           0,
           269919
          ],
          [
           "2009Trimestre 1",
           "Trimestre 1",
           711833,
           1269121,
           2001295,
           0,
           0,
           277393
          ],
          [
           "2009Trimestre 2",
           "Trimestre 2",
           709153,
           1257106,
           1930793,
           0,
           0,
           269342
          ],
          [
           "2009Trimestre 3",
           "Trimestre 3",
           750080,
           1261353,
           1899216,
           0,
           0,
           265399
          ],
          [
           "2009Trimestre 4",
           "Trimestre 4",
           798642,
           1280006,
           1845805,
           0,
           153151,
           346528
          ],
          [
           "2010Trimestre 1",
           "Trimestre 1",
           823142,
           1298334,
           1798845,
           0,
           190499,
           362990
          ],
          [
           "2010Trimestre 2",
           "Trimestre 2",
           831043,
           1306177,
           1784843,
           0,
           190378,
           425757
          ],
          [
           "2010Trimestre 3",
           "Trimestre 3",
           843176,
           1295205,
           1764055,
           0,
           277600,
           466253
          ],
          [
           "2010Trimestre 4",
           "Trimestre 4",
           854466,
           1321450,
           1772856,
           0,
           347662,
           498530
          ],
          [
           "2011Trimestre 1",
           "Trimestre 1",
           866360,
           1376364,
           1785905,
           0,
           366812,
           638340
          ],
          [
           "2011Trimestre 2",
           "Trimestre 2",
           864130,
           1379458,
           1767275,
           0,
           349719,
           244900
          ],
          [
           "2011Trimestre 3",
           "Trimestre 3",
           883732,
           1368829,
           1774315,
           0,
           373828,
           280488
          ],
          [
           "2011Trimestre 4",
           "Trimestre 4",
           913148,
           1353074,
           1756185,
           0,
           383403,
           200913
          ],
          [
           "2012Trimestre 1",
           "Trimestre 1",
           891217,
           1329432,
           1771236,
           11581,
           366383,
           210226
          ],
          [
           "2012Trimestre 2",
           "Trimestre 2",
           869127,
           1326549,
           1731140,
           13745,
           333246,
           202795
          ],
          [
           "2012Trimestre 3",
           "Trimestre 3",
           836416,
           1306861,
           1723530,
           12720,
           315732,
           212261
          ],
          [
           "2012Trimestre 4",
           "Trimestre 4",
           786586,
           1266625,
           1719811,
           13833,
           290246,
           189800
          ],
          [
           "2013Trimestre 1",
           "Trimestre 1",
           724953,
           1236858,
           1691281,
           13654,
           260098,
           130437
          ],
          [
           "2013Trimestre 2",
           "Trimestre 2",
           695820,
           1206535,
           1631692,
           14480,
           223090,
           120971
          ],
          [
           "2013Trimestre 3",
           "Trimestre 3",
           673482,
           1176382,
           1633527,
           21952,
           234795,
           119501
          ],
          [
           "2013Trimestre 4",
           "Trimestre 4",
           817154,
           1142015,
           1620632,
           28399,
           237178,
           117957
          ],
          [
           "2014Trimestre 1",
           "Trimestre 1",
           947748,
           1128605,
           1631607,
           29779,
           232084,
           118474
          ],
          [
           "2014Trimestre 2",
           "Trimestre 2",
           1296592,
           1141636,
           1597311,
           26664,
           247153,
           49028
          ],
          [
           "2014Trimestre 3",
           "Trimestre 3",
           1665765,
           1131062,
           1580313,
           94532,
           237900,
           48465
          ],
          [
           "2014Trimestre 4",
           "Trimestre 4",
           1990972,
           1141008,
           1553010,
           143575,
           231406,
           42925
          ],
          [
           "2015Trimestre 1",
           "Trimestre 1",
           2268318,
           1161639,
           1549511,
           192809,
           225177,
           9506
          ],
          [
           "2015Trimestre 2",
           "Trimestre 2",
           2366186,
           1201310,
           1399532,
           191744,
           198411,
           10091
          ],
          [
           "2015Trimestre 3",
           "Trimestre 3",
           2717924,
           1265372,
           1233829,
           213762,
           0,
           0
          ],
          [
           "2015Trimestre 4",
           "Trimestre 4",
           2862936,
           1347421,
           1109908,
           215148,
           0,
           0
          ],
          [
           "2016Trimestre 1",
           "Trimestre 1",
           3057664,
           1415778,
           1050703,
           251139,
           0,
           0
          ],
          [
           "2016Trimestre 2",
           "Trimestre 2",
           3205999,
           1449928,
           1005337,
           205539,
           0,
           0
          ],
          [
           "2016Trimestre 3",
           "Trimestre 3",
           3340426,
           1486138,
           952579,
           227183,
           0,
           0
          ],
          [
           "2016Trimestre 4",
           "Trimestre 4",
           3428730,
           1509010,
           897888,
           226736,
           0,
           0
          ],
          [
           "2017Trimestre 1",
           "Trimestre 1",
           3483020,
           1511582,
           857315,
           243162,
           0,
           0
          ],
          [
           "2017Trimestre 2",
           "Trimestre 2",
           3561218,
           1494779,
           833145,
           251531,
           0,
           0
          ],
          [
           "2017Trimestre 3",
           "Trimestre 3",
           3805095,
           1477410,
           811144,
           301302,
           0,
           0
          ],
          [
           "2017Trimestre 4",
           "Trimestre 4",
           3998087,
           1454556,
           788971,
           327613,
           0,
           0
          ],
          [
           "2018Trimestre 1",
           "Trimestre 1",
           4153029,
           1421813,
           761933,
           361254,
           0,
           0
          ],
          [
           "2018Trimestre 2",
           "Trimestre 2",
           4201210,
           1388246,
           732358,
           294885,
           0,
           0
          ],
          [
           "2018Trimestre 3",
           "Trimestre 3",
           4378861,
           1318152,
           705674,
           290142,
           0,
           0
          ],
          [
           "2018Trimestre 4",
           "Trimestre 4",
           4519800,
           1304012,
           673977,
           282479,
           0,
           0
          ],
          [
           "2019Trimestre 1",
           "Trimestre 1",
           4585861,
           1311775,
           638334,
           302902,
           0,
           0
          ],
          [
           "2019Trimestre 2",
           "Trimestre 2",
           4559549,
           1302124,
           612293,
           279810,
           0,
           0
          ],
          [
           "2019Trimestre 3",
           "Trimestre 3",
           4646879,
           1289633,
           580274,
           381813,
           0,
           0
          ],
          [
           "2019Trimestre 4",
           "Trimestre 4",
           4708797,
           1300403,
           554232,
           648035,
           0,
           0
          ],
          [
           "2020Trimestre 1",
           "Trimestre 1",
           4735044,
           1292696,
           524565,
           1276168,
           0,
           0
          ]
         ],
         "type": "scatter",
         "x": [
          "2006Trimestre 1",
          "2006Trimestre 2",
          "2006Trimestre 3",
          "2006Trimestre 4",
          "2007Trimestre 1",
          "2007Trimestre 2",
          "2007Trimestre 3",
          "2007Trimestre 4",
          "2008Trimestre 1",
          "2008Trimestre 2",
          "2008Trimestre 3",
          "2008Trimestre 4",
          "2009Trimestre 1",
          "2009Trimestre 2",
          "2009Trimestre 3",
          "2009Trimestre 4",
          "2010Trimestre 1",
          "2010Trimestre 2",
          "2010Trimestre 3",
          "2010Trimestre 4",
          "2011Trimestre 1",
          "2011Trimestre 2",
          "2011Trimestre 3",
          "2011Trimestre 4",
          "2012Trimestre 1",
          "2012Trimestre 2",
          "2012Trimestre 3",
          "2012Trimestre 4",
          "2013Trimestre 1",
          "2013Trimestre 2",
          "2013Trimestre 3",
          "2013Trimestre 4",
          "2014Trimestre 1",
          "2014Trimestre 2",
          "2014Trimestre 3",
          "2014Trimestre 4",
          "2015Trimestre 1",
          "2015Trimestre 2",
          "2015Trimestre 3",
          "2015Trimestre 4",
          "2016Trimestre 1",
          "2016Trimestre 2",
          "2016Trimestre 3",
          "2016Trimestre 4",
          "2017Trimestre 1",
          "2017Trimestre 2",
          "2017Trimestre 3",
          "2017Trimestre 4",
          "2018Trimestre 1",
          "2018Trimestre 2",
          "2018Trimestre 3",
          "2018Trimestre 4",
          "2019Trimestre 1",
          "2019Trimestre 2",
          "2019Trimestre 3",
          "2019Trimestre 4",
          "2020Trimestre 1"
         ],
         "y": [
          0,
          0,
          0,
          0,
          0,
          0,
          0,
          0,
          259376,
          291374,
          271819,
          269919,
          277393,
          269342,
          265399,
          346528,
          362990,
          425757,
          466253,
          498530,
          638340,
          244900,
          280488,
          200913,
          210226,
          202795,
          212261,
          189800,
          130437,
          120971,
          119501,
          117957,
          118474,
          49028,
          48465,
          42925,
          9506,
          10091,
          0,
          0,
          0,
          0,
          0,
          0,
          0,
          0,
          0,
          0,
          0,
          0,
          0,
          0,
          0,
          0,
          0,
          0,
          0
         ]
        }
       ],
       "layout": {
        "template": {
         "data": {
          "bar": [
           {
            "error_x": {
             "color": "#2a3f5f"
            },
            "error_y": {
             "color": "#2a3f5f"
            },
            "marker": {
             "line": {
              "color": "#E5ECF6",
              "width": 0.5
             },
             "pattern": {
              "fillmode": "overlay",
              "size": 10,
              "solidity": 0.2
             }
            },
            "type": "bar"
           }
          ],
          "barpolar": [
           {
            "marker": {
             "line": {
              "color": "#E5ECF6",
              "width": 0.5
             },
             "pattern": {
              "fillmode": "overlay",
              "size": 10,
              "solidity": 0.2
             }
            },
            "type": "barpolar"
           }
          ],
          "carpet": [
           {
            "aaxis": {
             "endlinecolor": "#2a3f5f",
             "gridcolor": "white",
             "linecolor": "white",
             "minorgridcolor": "white",
             "startlinecolor": "#2a3f5f"
            },
            "baxis": {
             "endlinecolor": "#2a3f5f",
             "gridcolor": "white",
             "linecolor": "white",
             "minorgridcolor": "white",
             "startlinecolor": "#2a3f5f"
            },
            "type": "carpet"
           }
          ],
          "choropleth": [
           {
            "colorbar": {
             "outlinewidth": 0,
             "ticks": ""
            },
            "type": "choropleth"
           }
          ],
          "contour": [
           {
            "colorbar": {
             "outlinewidth": 0,
             "ticks": ""
            },
            "colorscale": [
             [
              0,
              "#0d0887"
             ],
             [
              0.1111111111111111,
              "#46039f"
             ],
             [
              0.2222222222222222,
              "#7201a8"
             ],
             [
              0.3333333333333333,
              "#9c179e"
             ],
             [
              0.4444444444444444,
              "#bd3786"
             ],
             [
              0.5555555555555556,
              "#d8576b"
             ],
             [
              0.6666666666666666,
              "#ed7953"
             ],
             [
              0.7777777777777778,
              "#fb9f3a"
             ],
             [
              0.8888888888888888,
              "#fdca26"
             ],
             [
              1,
              "#f0f921"
             ]
            ],
            "type": "contour"
           }
          ],
          "contourcarpet": [
           {
            "colorbar": {
             "outlinewidth": 0,
             "ticks": ""
            },
            "type": "contourcarpet"
           }
          ],
          "heatmap": [
           {
            "colorbar": {
             "outlinewidth": 0,
             "ticks": ""
            },
            "colorscale": [
             [
              0,
              "#0d0887"
             ],
             [
              0.1111111111111111,
              "#46039f"
             ],
             [
              0.2222222222222222,
              "#7201a8"
             ],
             [
              0.3333333333333333,
              "#9c179e"
             ],
             [
              0.4444444444444444,
              "#bd3786"
             ],
             [
              0.5555555555555556,
              "#d8576b"
             ],
             [
              0.6666666666666666,
              "#ed7953"
             ],
             [
              0.7777777777777778,
              "#fb9f3a"
             ],
             [
              0.8888888888888888,
              "#fdca26"
             ],
             [
              1,
              "#f0f921"
             ]
            ],
            "type": "heatmap"
           }
          ],
          "heatmapgl": [
           {
            "colorbar": {
             "outlinewidth": 0,
             "ticks": ""
            },
            "colorscale": [
             [
              0,
              "#0d0887"
             ],
             [
              0.1111111111111111,
              "#46039f"
             ],
             [
              0.2222222222222222,
              "#7201a8"
             ],
             [
              0.3333333333333333,
              "#9c179e"
             ],
             [
              0.4444444444444444,
              "#bd3786"
             ],
             [
              0.5555555555555556,
              "#d8576b"
             ],
             [
              0.6666666666666666,
              "#ed7953"
             ],
             [
              0.7777777777777778,
              "#fb9f3a"
             ],
             [
              0.8888888888888888,
              "#fdca26"
             ],
             [
              1,
              "#f0f921"
             ]
            ],
            "type": "heatmapgl"
           }
          ],
          "histogram": [
           {
            "marker": {
             "pattern": {
              "fillmode": "overlay",
              "size": 10,
              "solidity": 0.2
             }
            },
            "type": "histogram"
           }
          ],
          "histogram2d": [
           {
            "colorbar": {
             "outlinewidth": 0,
             "ticks": ""
            },
            "colorscale": [
             [
              0,
              "#0d0887"
             ],
             [
              0.1111111111111111,
              "#46039f"
             ],
             [
              0.2222222222222222,
              "#7201a8"
             ],
             [
              0.3333333333333333,
              "#9c179e"
             ],
             [
              0.4444444444444444,
              "#bd3786"
             ],
             [
              0.5555555555555556,
              "#d8576b"
             ],
             [
              0.6666666666666666,
              "#ed7953"
             ],
             [
              0.7777777777777778,
              "#fb9f3a"
             ],
             [
              0.8888888888888888,
              "#fdca26"
             ],
             [
              1,
              "#f0f921"
             ]
            ],
            "type": "histogram2d"
           }
          ],
          "histogram2dcontour": [
           {
            "colorbar": {
             "outlinewidth": 0,
             "ticks": ""
            },
            "colorscale": [
             [
              0,
              "#0d0887"
             ],
             [
              0.1111111111111111,
              "#46039f"
             ],
             [
              0.2222222222222222,
              "#7201a8"
             ],
             [
              0.3333333333333333,
              "#9c179e"
             ],
             [
              0.4444444444444444,
              "#bd3786"
             ],
             [
              0.5555555555555556,
              "#d8576b"
             ],
             [
              0.6666666666666666,
              "#ed7953"
             ],
             [
              0.7777777777777778,
              "#fb9f3a"
             ],
             [
              0.8888888888888888,
              "#fdca26"
             ],
             [
              1,
              "#f0f921"
             ]
            ],
            "type": "histogram2dcontour"
           }
          ],
          "mesh3d": [
           {
            "colorbar": {
             "outlinewidth": 0,
             "ticks": ""
            },
            "type": "mesh3d"
           }
          ],
          "parcoords": [
           {
            "line": {
             "colorbar": {
              "outlinewidth": 0,
              "ticks": ""
             }
            },
            "type": "parcoords"
           }
          ],
          "pie": [
           {
            "automargin": true,
            "type": "pie"
           }
          ],
          "scatter": [
           {
            "marker": {
             "colorbar": {
              "outlinewidth": 0,
              "ticks": ""
             }
            },
            "type": "scatter"
           }
          ],
          "scatter3d": [
           {
            "line": {
             "colorbar": {
              "outlinewidth": 0,
              "ticks": ""
             }
            },
            "marker": {
             "colorbar": {
              "outlinewidth": 0,
              "ticks": ""
             }
            },
            "type": "scatter3d"
           }
          ],
          "scattercarpet": [
           {
            "marker": {
             "colorbar": {
              "outlinewidth": 0,
              "ticks": ""
             }
            },
            "type": "scattercarpet"
           }
          ],
          "scattergeo": [
           {
            "marker": {
             "colorbar": {
              "outlinewidth": 0,
              "ticks": ""
             }
            },
            "type": "scattergeo"
           }
          ],
          "scattergl": [
           {
            "marker": {
             "colorbar": {
              "outlinewidth": 0,
              "ticks": ""
             }
            },
            "type": "scattergl"
           }
          ],
          "scattermapbox": [
           {
            "marker": {
             "colorbar": {
              "outlinewidth": 0,
              "ticks": ""
             }
            },
            "type": "scattermapbox"
           }
          ],
          "scatterpolar": [
           {
            "marker": {
             "colorbar": {
              "outlinewidth": 0,
              "ticks": ""
             }
            },
            "type": "scatterpolar"
           }
          ],
          "scatterpolargl": [
           {
            "marker": {
             "colorbar": {
              "outlinewidth": 0,
              "ticks": ""
             }
            },
            "type": "scatterpolargl"
           }
          ],
          "scatterternary": [
           {
            "marker": {
             "colorbar": {
              "outlinewidth": 0,
              "ticks": ""
             }
            },
            "type": "scatterternary"
           }
          ],
          "surface": [
           {
            "colorbar": {
             "outlinewidth": 0,
             "ticks": ""
            },
            "colorscale": [
             [
              0,
              "#0d0887"
             ],
             [
              0.1111111111111111,
              "#46039f"
             ],
             [
              0.2222222222222222,
              "#7201a8"
             ],
             [
              0.3333333333333333,
              "#9c179e"
             ],
             [
              0.4444444444444444,
              "#bd3786"
             ],
             [
              0.5555555555555556,
              "#d8576b"
             ],
             [
              0.6666666666666666,
              "#ed7953"
             ],
             [
              0.7777777777777778,
              "#fb9f3a"
             ],
             [
              0.8888888888888888,
              "#fdca26"
             ],
             [
              1,
              "#f0f921"
             ]
            ],
            "type": "surface"
           }
          ],
          "table": [
           {
            "cells": {
             "fill": {
              "color": "#EBF0F8"
             },
             "line": {
              "color": "white"
             }
            },
            "header": {
             "fill": {
              "color": "#C8D4E3"
             },
             "line": {
              "color": "white"
             }
            },
            "type": "table"
           }
          ]
         },
         "layout": {
          "annotationdefaults": {
           "arrowcolor": "#2a3f5f",
           "arrowhead": 0,
           "arrowwidth": 1
          },
          "autotypenumbers": "strict",
          "coloraxis": {
           "colorbar": {
            "outlinewidth": 0,
            "ticks": ""
           }
          },
          "colorscale": {
           "diverging": [
            [
             0,
             "#8e0152"
            ],
            [
             0.1,
             "#c51b7d"
            ],
            [
             0.2,
             "#de77ae"
            ],
            [
             0.3,
             "#f1b6da"
            ],
            [
             0.4,
             "#fde0ef"
            ],
            [
             0.5,
             "#f7f7f7"
            ],
            [
             0.6,
             "#e6f5d0"
            ],
            [
             0.7,
             "#b8e186"
            ],
            [
             0.8,
             "#7fbc41"
            ],
            [
             0.9,
             "#4d9221"
            ],
            [
             1,
             "#276419"
            ]
           ],
           "sequential": [
            [
             0,
             "#0d0887"
            ],
            [
             0.1111111111111111,
             "#46039f"
            ],
            [
             0.2222222222222222,
             "#7201a8"
            ],
            [
             0.3333333333333333,
             "#9c179e"
            ],
            [
             0.4444444444444444,
             "#bd3786"
            ],
            [
             0.5555555555555556,
             "#d8576b"
            ],
            [
             0.6666666666666666,
             "#ed7953"
            ],
            [
             0.7777777777777778,
             "#fb9f3a"
            ],
            [
             0.8888888888888888,
             "#fdca26"
            ],
            [
             1,
             "#f0f921"
            ]
           ],
           "sequentialminus": [
            [
             0,
             "#0d0887"
            ],
            [
             0.1111111111111111,
             "#46039f"
            ],
            [
             0.2222222222222222,
             "#7201a8"
            ],
            [
             0.3333333333333333,
             "#9c179e"
            ],
            [
             0.4444444444444444,
             "#bd3786"
            ],
            [
             0.5555555555555556,
             "#d8576b"
            ],
            [
             0.6666666666666666,
             "#ed7953"
            ],
            [
             0.7777777777777778,
             "#fb9f3a"
            ],
            [
             0.8888888888888888,
             "#fdca26"
            ],
            [
             1,
             "#f0f921"
            ]
           ]
          },
          "colorway": [
           "#636efa",
           "#EF553B",
           "#00cc96",
           "#ab63fa",
           "#FFA15A",
           "#19d3f3",
           "#FF6692",
           "#B6E880",
           "#FF97FF",
           "#FECB52"
          ],
          "font": {
           "color": "#2a3f5f"
          },
          "geo": {
           "bgcolor": "white",
           "lakecolor": "white",
           "landcolor": "#E5ECF6",
           "showlakes": true,
           "showland": true,
           "subunitcolor": "white"
          },
          "hoverlabel": {
           "align": "left"
          },
          "hovermode": "closest",
          "mapbox": {
           "style": "light"
          },
          "paper_bgcolor": "white",
          "plot_bgcolor": "#E5ECF6",
          "polar": {
           "angularaxis": {
            "gridcolor": "white",
            "linecolor": "white",
            "ticks": ""
           },
           "bgcolor": "#E5ECF6",
           "radialaxis": {
            "gridcolor": "white",
            "linecolor": "white",
            "ticks": ""
           }
          },
          "scene": {
           "xaxis": {
            "backgroundcolor": "#E5ECF6",
            "gridcolor": "white",
            "gridwidth": 2,
            "linecolor": "white",
            "showbackground": true,
            "ticks": "",
            "zerolinecolor": "white"
           },
           "yaxis": {
            "backgroundcolor": "#E5ECF6",
            "gridcolor": "white",
            "gridwidth": 2,
            "linecolor": "white",
            "showbackground": true,
            "ticks": "",
            "zerolinecolor": "white"
           },
           "zaxis": {
            "backgroundcolor": "#E5ECF6",
            "gridcolor": "white",
            "gridwidth": 2,
            "linecolor": "white",
            "showbackground": true,
            "ticks": "",
            "zerolinecolor": "white"
           }
          },
          "shapedefaults": {
           "line": {
            "color": "#2a3f5f"
           }
          },
          "ternary": {
           "aaxis": {
            "gridcolor": "white",
            "linecolor": "white",
            "ticks": ""
           },
           "baxis": {
            "gridcolor": "white",
            "linecolor": "white",
            "ticks": ""
           },
           "bgcolor": "#E5ECF6",
           "caxis": {
            "gridcolor": "white",
            "linecolor": "white",
            "ticks": ""
           }
          },
          "title": {
           "x": 0.05
          },
          "xaxis": {
           "automargin": true,
           "gridcolor": "white",
           "linecolor": "white",
           "ticks": "",
           "title": {
            "standoff": 15
           },
           "zerolinecolor": "white",
           "zerolinewidth": 2
          },
          "yaxis": {
           "automargin": true,
           "gridcolor": "white",
           "linecolor": "white",
           "ticks": "",
           "title": {
            "standoff": 15
           },
           "zerolinecolor": "white",
           "zerolinewidth": 2
          }
         }
        },
        "title": {
         "text": "Abonados TV por modalidades"
        },
        "xaxis": {
         "ticklen": 5,
         "title": {
          "text": "Abonados"
         }
        }
       }
      }
     },
     "metadata": {},
     "output_type": "display_data"
    }
   ],
   "source": [
    "import plotly.graph_objs as go\n",
    "\n",
    "trace1 = go.Scatter(\n",
    "                    x = df_abonadosTV[\"Año\"],\n",
    "                    y = df_abonadosTV['Televisión IP'],\n",
    "                    name = 'TV IP',\n",
    "                    mode= 'lines',\n",
    "                    marker = dict(color = 'cadetblue'),\n",
    "                    text = df_abonadosTV)\n",
    "trace2 = go.Scatter(\n",
    "                    x = df_abonadosTV[\"Año\"],\n",
    "                    y = df_abonadosTV['Televisión por cable'],\n",
    "                    name = 'TV Cable',\n",
    "                    mode= 'lines+markers',\n",
    "                    marker = dict(color = 'darkgrey'),\n",
    "                    text = df_abonadosTV)\n",
    "\n",
    "trace3 = go.Scatter(\n",
    "                    x = df_abonadosTV[\"Año\"],\n",
    "                    y = df_abonadosTV['Televisión satélite'],\n",
    "                    name = 'TV Satelite',\n",
    "                    mode= 'lines+markers',\n",
    "                    marker = dict(color = 'darkkhaki'),\n",
    "                    text = df_abonadosTV)\n",
    "\n",
    "trace4 = go.Scatter(\n",
    "                    x = df_abonadosTV[\"Año\"],\n",
    "                    y = df_abonadosTV['Televisión online'],\n",
    "                    name = 'TV OnLine',\n",
    "                    mode= 'lines+markers',\n",
    "                    marker = dict(color = 'blueviolet'),\n",
    "                    text = df_abonadosTV)\n",
    "trace5 = go.Scatter(\n",
    "                    x = df_abonadosTV[\"Año\"],\n",
    "                    y = df_abonadosTV['Televisión terrestre'],\n",
    "                    name = 'TV Terrestre',\n",
    "                    mode= 'lines+markers',\n",
    "                    marker = dict(color = 'darkorange'),\n",
    "                    text = df_abonadosTV)\n",
    "trace6 = go.Scatter(\n",
    "                    x = df_abonadosTV[\"Año\"],\n",
    "                    y = df_abonadosTV['TV móvil'],\n",
    "                    name = 'TV Movil',\n",
    "                    mode= 'lines+markers',\n",
    "                    marker = dict(color = 'black'),\n",
    "                    text = df_abonadosTV)\n",
    "data = [trace1, trace2, trace3, trace4, trace5, trace6]\n",
    "\n",
    "layout = dict(title = \"Abonados TV por modalidades\",\n",
    "             xaxis= dict(title= 'Abonados',ticklen= 5)\n",
    "           )\n",
    "\n",
    "fig = go.Figure(data = data, layout=layout)\n",
    "\n",
    "iplot(fig)"
   ]
  },
  {
   "cell_type": "code",
   "execution_count": 179,
   "metadata": {},
   "outputs": [
    {
     "data": {
      "text/html": [
       "<div>\n",
       "<style scoped>\n",
       "    .dataframe tbody tr th:only-of-type {\n",
       "        vertical-align: middle;\n",
       "    }\n",
       "\n",
       "    .dataframe tbody tr th {\n",
       "        vertical-align: top;\n",
       "    }\n",
       "\n",
       "    .dataframe thead th {\n",
       "        text-align: right;\n",
       "    }\n",
       "</style>\n",
       "<table border=\"1\" class=\"dataframe\">\n",
       "  <thead>\n",
       "    <tr style=\"text-align: right;\">\n",
       "      <th></th>\n",
       "      <th>Año</th>\n",
       "      <th>Periodo</th>\n",
       "      <th>Lineal+Diferido</th>\n",
       "    </tr>\n",
       "  </thead>\n",
       "  <tbody>\n",
       "    <tr>\n",
       "      <th>0</th>\n",
       "      <td>2019Enero</td>\n",
       "      <td>Enero</td>\n",
       "      <td>247.0</td>\n",
       "    </tr>\n",
       "    <tr>\n",
       "      <th>1</th>\n",
       "      <td>2019Febrero</td>\n",
       "      <td>Febrero</td>\n",
       "      <td>240.0</td>\n",
       "    </tr>\n",
       "    <tr>\n",
       "      <th>2</th>\n",
       "      <td>2019Marzo</td>\n",
       "      <td>Marzo</td>\n",
       "      <td>233.0</td>\n",
       "    </tr>\n",
       "    <tr>\n",
       "      <th>3</th>\n",
       "      <td>2019Abril</td>\n",
       "      <td>Abril</td>\n",
       "      <td>233.0</td>\n",
       "    </tr>\n",
       "    <tr>\n",
       "      <th>4</th>\n",
       "      <td>2019Mayo</td>\n",
       "      <td>Mayo</td>\n",
       "      <td>223.0</td>\n",
       "    </tr>\n",
       "    <tr>\n",
       "      <th>5</th>\n",
       "      <td>2019Junio</td>\n",
       "      <td>Junio</td>\n",
       "      <td>215.0</td>\n",
       "    </tr>\n",
       "    <tr>\n",
       "      <th>6</th>\n",
       "      <td>2019Julio</td>\n",
       "      <td>Julio</td>\n",
       "      <td>197.0</td>\n",
       "    </tr>\n",
       "    <tr>\n",
       "      <th>7</th>\n",
       "      <td>2019Agosto</td>\n",
       "      <td>Agosto</td>\n",
       "      <td>184.0</td>\n",
       "    </tr>\n",
       "    <tr>\n",
       "      <th>8</th>\n",
       "      <td>2019Septiembre</td>\n",
       "      <td>Septiembre</td>\n",
       "      <td>211.0</td>\n",
       "    </tr>\n",
       "    <tr>\n",
       "      <th>9</th>\n",
       "      <td>2019Octubre</td>\n",
       "      <td>Octubre</td>\n",
       "      <td>219.0</td>\n",
       "    </tr>\n",
       "    <tr>\n",
       "      <th>10</th>\n",
       "      <td>2019Noviembre</td>\n",
       "      <td>Noviembre</td>\n",
       "      <td>236.0</td>\n",
       "    </tr>\n",
       "    <tr>\n",
       "      <th>11</th>\n",
       "      <td>2019Diciembre</td>\n",
       "      <td>Diciembre</td>\n",
       "      <td>230.0</td>\n",
       "    </tr>\n",
       "    <tr>\n",
       "      <th>12</th>\n",
       "      <td>2020Enero</td>\n",
       "      <td>Enero</td>\n",
       "      <td>237.0</td>\n",
       "    </tr>\n",
       "    <tr>\n",
       "      <th>13</th>\n",
       "      <td>2020Febrero</td>\n",
       "      <td>Febrero</td>\n",
       "      <td>224.0</td>\n",
       "    </tr>\n",
       "    <tr>\n",
       "      <th>14</th>\n",
       "      <td>2020Marzo</td>\n",
       "      <td>Marzo</td>\n",
       "      <td>284.0</td>\n",
       "    </tr>\n",
       "    <tr>\n",
       "      <th>15</th>\n",
       "      <td>2020Abril</td>\n",
       "      <td>Abril</td>\n",
       "      <td>302.0</td>\n",
       "    </tr>\n",
       "    <tr>\n",
       "      <th>16</th>\n",
       "      <td>2020Mayo</td>\n",
       "      <td>Mayo</td>\n",
       "      <td>260.0</td>\n",
       "    </tr>\n",
       "    <tr>\n",
       "      <th>17</th>\n",
       "      <td>2020Junio</td>\n",
       "      <td>Junio</td>\n",
       "      <td>225.0</td>\n",
       "    </tr>\n",
       "    <tr>\n",
       "      <th>18</th>\n",
       "      <td>2020Julio</td>\n",
       "      <td>Julio</td>\n",
       "      <td>197.0</td>\n",
       "    </tr>\n",
       "    <tr>\n",
       "      <th>19</th>\n",
       "      <td>2020Agosto</td>\n",
       "      <td>Agosto</td>\n",
       "      <td>191.0</td>\n",
       "    </tr>\n",
       "    <tr>\n",
       "      <th>20</th>\n",
       "      <td>2020Septiembre</td>\n",
       "      <td>Septiembre</td>\n",
       "      <td>216.0</td>\n",
       "    </tr>\n",
       "    <tr>\n",
       "      <th>21</th>\n",
       "      <td>2020Octubre</td>\n",
       "      <td>Octubre</td>\n",
       "      <td>232.0</td>\n",
       "    </tr>\n",
       "    <tr>\n",
       "      <th>22</th>\n",
       "      <td>2020Noviembre</td>\n",
       "      <td>Noviembre</td>\n",
       "      <td>249.0</td>\n",
       "    </tr>\n",
       "    <tr>\n",
       "      <th>23</th>\n",
       "      <td>2020Diciembre</td>\n",
       "      <td>Diciembre</td>\n",
       "      <td>247.0</td>\n",
       "    </tr>\n",
       "    <tr>\n",
       "      <th>24</th>\n",
       "      <td>2021Enero</td>\n",
       "      <td>Enero</td>\n",
       "      <td>259.0</td>\n",
       "    </tr>\n",
       "    <tr>\n",
       "      <th>25</th>\n",
       "      <td>2021Febrero</td>\n",
       "      <td>Febrero</td>\n",
       "      <td>247.0</td>\n",
       "    </tr>\n",
       "    <tr>\n",
       "      <th>26</th>\n",
       "      <td>2021Marzo</td>\n",
       "      <td>Marzo</td>\n",
       "      <td>233.0</td>\n",
       "    </tr>\n",
       "    <tr>\n",
       "      <th>27</th>\n",
       "      <td>2021Abril</td>\n",
       "      <td>Abril</td>\n",
       "      <td>229.0</td>\n",
       "    </tr>\n",
       "    <tr>\n",
       "      <th>28</th>\n",
       "      <td>2021Mayo</td>\n",
       "      <td>Mayo</td>\n",
       "      <td>215.0</td>\n",
       "    </tr>\n",
       "    <tr>\n",
       "      <th>29</th>\n",
       "      <td>NaN</td>\n",
       "      <td>NaN</td>\n",
       "      <td>NaN</td>\n",
       "    </tr>\n",
       "    <tr>\n",
       "      <th>30</th>\n",
       "      <td>NaN</td>\n",
       "      <td>NaN</td>\n",
       "      <td>NaN</td>\n",
       "    </tr>\n",
       "  </tbody>\n",
       "</table>\n",
       "</div>"
      ],
      "text/plain": [
       "               Año     Periodo  Lineal+Diferido\n",
       "0        2019Enero       Enero            247.0\n",
       "1      2019Febrero     Febrero            240.0\n",
       "2        2019Marzo       Marzo            233.0\n",
       "3        2019Abril       Abril            233.0\n",
       "4         2019Mayo        Mayo            223.0\n",
       "5        2019Junio       Junio            215.0\n",
       "6        2019Julio       Julio            197.0\n",
       "7       2019Agosto      Agosto            184.0\n",
       "8   2019Septiembre  Septiembre            211.0\n",
       "9      2019Octubre     Octubre            219.0\n",
       "10   2019Noviembre   Noviembre            236.0\n",
       "11   2019Diciembre   Diciembre            230.0\n",
       "12       2020Enero       Enero            237.0\n",
       "13     2020Febrero     Febrero            224.0\n",
       "14       2020Marzo       Marzo            284.0\n",
       "15       2020Abril       Abril            302.0\n",
       "16        2020Mayo        Mayo            260.0\n",
       "17       2020Junio       Junio            225.0\n",
       "18       2020Julio       Julio            197.0\n",
       "19      2020Agosto      Agosto            191.0\n",
       "20  2020Septiembre  Septiembre            216.0\n",
       "21     2020Octubre     Octubre            232.0\n",
       "22   2020Noviembre   Noviembre            249.0\n",
       "23   2020Diciembre   Diciembre            247.0\n",
       "24       2021Enero       Enero            259.0\n",
       "25     2021Febrero     Febrero            247.0\n",
       "26       2021Marzo       Marzo            233.0\n",
       "27       2021Abril       Abril            229.0\n",
       "28        2021Mayo        Mayo            215.0\n",
       "29             NaN         NaN              NaN\n",
       "30             NaN         NaN              NaN"
      ]
     },
     "execution_count": 179,
     "metadata": {},
     "output_type": "execute_result"
    }
   ],
   "source": [
    "df_evolumin[\"Año\"] = df_evolumin[\"Año\"] + df_evolumin[\"Periodo\"]\n",
    "df_evolumin"
   ]
  },
  {
   "cell_type": "code",
   "execution_count": 180,
   "metadata": {},
   "outputs": [
    {
     "data": {
      "application/vnd.plotly.v1+json": {
       "config": {
        "plotlyServerURL": "https://plot.ly"
       },
       "data": [
        {
         "marker": {
          "color": "rgba(16, 112, 2, 0.8)"
         },
         "mode": "lines",
         "type": "scatter",
         "x": [
          "2019Enero",
          "2019Febrero",
          "2019Marzo",
          "2019Abril",
          "2019Mayo",
          "2019Junio",
          "2019Julio",
          "2019Agosto",
          "2019Septiembre",
          "2019Octubre",
          "2019Noviembre",
          "2019Diciembre",
          "2020Enero",
          "2020Febrero",
          "2020Marzo",
          "2020Abril",
          "2020Mayo",
          "2020Junio",
          "2020Julio",
          "2020Agosto",
          "2020Septiembre",
          "2020Octubre",
          "2020Noviembre",
          "2020Diciembre",
          "2021Enero",
          "2021Febrero",
          "2021Marzo",
          "2021Abril",
          "2021Mayo",
          null,
          null
         ],
         "y": [
          247,
          240,
          233,
          233,
          223,
          215,
          197,
          184,
          211,
          219,
          236,
          230,
          237,
          224,
          284,
          302,
          260,
          225,
          197,
          191,
          216,
          232,
          249,
          247,
          259,
          247,
          233,
          229,
          215,
          null,
          null
         ]
        }
       ],
       "layout": {
        "template": {
         "data": {
          "bar": [
           {
            "error_x": {
             "color": "#2a3f5f"
            },
            "error_y": {
             "color": "#2a3f5f"
            },
            "marker": {
             "line": {
              "color": "#E5ECF6",
              "width": 0.5
             },
             "pattern": {
              "fillmode": "overlay",
              "size": 10,
              "solidity": 0.2
             }
            },
            "type": "bar"
           }
          ],
          "barpolar": [
           {
            "marker": {
             "line": {
              "color": "#E5ECF6",
              "width": 0.5
             },
             "pattern": {
              "fillmode": "overlay",
              "size": 10,
              "solidity": 0.2
             }
            },
            "type": "barpolar"
           }
          ],
          "carpet": [
           {
            "aaxis": {
             "endlinecolor": "#2a3f5f",
             "gridcolor": "white",
             "linecolor": "white",
             "minorgridcolor": "white",
             "startlinecolor": "#2a3f5f"
            },
            "baxis": {
             "endlinecolor": "#2a3f5f",
             "gridcolor": "white",
             "linecolor": "white",
             "minorgridcolor": "white",
             "startlinecolor": "#2a3f5f"
            },
            "type": "carpet"
           }
          ],
          "choropleth": [
           {
            "colorbar": {
             "outlinewidth": 0,
             "ticks": ""
            },
            "type": "choropleth"
           }
          ],
          "contour": [
           {
            "colorbar": {
             "outlinewidth": 0,
             "ticks": ""
            },
            "colorscale": [
             [
              0,
              "#0d0887"
             ],
             [
              0.1111111111111111,
              "#46039f"
             ],
             [
              0.2222222222222222,
              "#7201a8"
             ],
             [
              0.3333333333333333,
              "#9c179e"
             ],
             [
              0.4444444444444444,
              "#bd3786"
             ],
             [
              0.5555555555555556,
              "#d8576b"
             ],
             [
              0.6666666666666666,
              "#ed7953"
             ],
             [
              0.7777777777777778,
              "#fb9f3a"
             ],
             [
              0.8888888888888888,
              "#fdca26"
             ],
             [
              1,
              "#f0f921"
             ]
            ],
            "type": "contour"
           }
          ],
          "contourcarpet": [
           {
            "colorbar": {
             "outlinewidth": 0,
             "ticks": ""
            },
            "type": "contourcarpet"
           }
          ],
          "heatmap": [
           {
            "colorbar": {
             "outlinewidth": 0,
             "ticks": ""
            },
            "colorscale": [
             [
              0,
              "#0d0887"
             ],
             [
              0.1111111111111111,
              "#46039f"
             ],
             [
              0.2222222222222222,
              "#7201a8"
             ],
             [
              0.3333333333333333,
              "#9c179e"
             ],
             [
              0.4444444444444444,
              "#bd3786"
             ],
             [
              0.5555555555555556,
              "#d8576b"
             ],
             [
              0.6666666666666666,
              "#ed7953"
             ],
             [
              0.7777777777777778,
              "#fb9f3a"
             ],
             [
              0.8888888888888888,
              "#fdca26"
             ],
             [
              1,
              "#f0f921"
             ]
            ],
            "type": "heatmap"
           }
          ],
          "heatmapgl": [
           {
            "colorbar": {
             "outlinewidth": 0,
             "ticks": ""
            },
            "colorscale": [
             [
              0,
              "#0d0887"
             ],
             [
              0.1111111111111111,
              "#46039f"
             ],
             [
              0.2222222222222222,
              "#7201a8"
             ],
             [
              0.3333333333333333,
              "#9c179e"
             ],
             [
              0.4444444444444444,
              "#bd3786"
             ],
             [
              0.5555555555555556,
              "#d8576b"
             ],
             [
              0.6666666666666666,
              "#ed7953"
             ],
             [
              0.7777777777777778,
              "#fb9f3a"
             ],
             [
              0.8888888888888888,
              "#fdca26"
             ],
             [
              1,
              "#f0f921"
             ]
            ],
            "type": "heatmapgl"
           }
          ],
          "histogram": [
           {
            "marker": {
             "pattern": {
              "fillmode": "overlay",
              "size": 10,
              "solidity": 0.2
             }
            },
            "type": "histogram"
           }
          ],
          "histogram2d": [
           {
            "colorbar": {
             "outlinewidth": 0,
             "ticks": ""
            },
            "colorscale": [
             [
              0,
              "#0d0887"
             ],
             [
              0.1111111111111111,
              "#46039f"
             ],
             [
              0.2222222222222222,
              "#7201a8"
             ],
             [
              0.3333333333333333,
              "#9c179e"
             ],
             [
              0.4444444444444444,
              "#bd3786"
             ],
             [
              0.5555555555555556,
              "#d8576b"
             ],
             [
              0.6666666666666666,
              "#ed7953"
             ],
             [
              0.7777777777777778,
              "#fb9f3a"
             ],
             [
              0.8888888888888888,
              "#fdca26"
             ],
             [
              1,
              "#f0f921"
             ]
            ],
            "type": "histogram2d"
           }
          ],
          "histogram2dcontour": [
           {
            "colorbar": {
             "outlinewidth": 0,
             "ticks": ""
            },
            "colorscale": [
             [
              0,
              "#0d0887"
             ],
             [
              0.1111111111111111,
              "#46039f"
             ],
             [
              0.2222222222222222,
              "#7201a8"
             ],
             [
              0.3333333333333333,
              "#9c179e"
             ],
             [
              0.4444444444444444,
              "#bd3786"
             ],
             [
              0.5555555555555556,
              "#d8576b"
             ],
             [
              0.6666666666666666,
              "#ed7953"
             ],
             [
              0.7777777777777778,
              "#fb9f3a"
             ],
             [
              0.8888888888888888,
              "#fdca26"
             ],
             [
              1,
              "#f0f921"
             ]
            ],
            "type": "histogram2dcontour"
           }
          ],
          "mesh3d": [
           {
            "colorbar": {
             "outlinewidth": 0,
             "ticks": ""
            },
            "type": "mesh3d"
           }
          ],
          "parcoords": [
           {
            "line": {
             "colorbar": {
              "outlinewidth": 0,
              "ticks": ""
             }
            },
            "type": "parcoords"
           }
          ],
          "pie": [
           {
            "automargin": true,
            "type": "pie"
           }
          ],
          "scatter": [
           {
            "marker": {
             "colorbar": {
              "outlinewidth": 0,
              "ticks": ""
             }
            },
            "type": "scatter"
           }
          ],
          "scatter3d": [
           {
            "line": {
             "colorbar": {
              "outlinewidth": 0,
              "ticks": ""
             }
            },
            "marker": {
             "colorbar": {
              "outlinewidth": 0,
              "ticks": ""
             }
            },
            "type": "scatter3d"
           }
          ],
          "scattercarpet": [
           {
            "marker": {
             "colorbar": {
              "outlinewidth": 0,
              "ticks": ""
             }
            },
            "type": "scattercarpet"
           }
          ],
          "scattergeo": [
           {
            "marker": {
             "colorbar": {
              "outlinewidth": 0,
              "ticks": ""
             }
            },
            "type": "scattergeo"
           }
          ],
          "scattergl": [
           {
            "marker": {
             "colorbar": {
              "outlinewidth": 0,
              "ticks": ""
             }
            },
            "type": "scattergl"
           }
          ],
          "scattermapbox": [
           {
            "marker": {
             "colorbar": {
              "outlinewidth": 0,
              "ticks": ""
             }
            },
            "type": "scattermapbox"
           }
          ],
          "scatterpolar": [
           {
            "marker": {
             "colorbar": {
              "outlinewidth": 0,
              "ticks": ""
             }
            },
            "type": "scatterpolar"
           }
          ],
          "scatterpolargl": [
           {
            "marker": {
             "colorbar": {
              "outlinewidth": 0,
              "ticks": ""
             }
            },
            "type": "scatterpolargl"
           }
          ],
          "scatterternary": [
           {
            "marker": {
             "colorbar": {
              "outlinewidth": 0,
              "ticks": ""
             }
            },
            "type": "scatterternary"
           }
          ],
          "surface": [
           {
            "colorbar": {
             "outlinewidth": 0,
             "ticks": ""
            },
            "colorscale": [
             [
              0,
              "#0d0887"
             ],
             [
              0.1111111111111111,
              "#46039f"
             ],
             [
              0.2222222222222222,
              "#7201a8"
             ],
             [
              0.3333333333333333,
              "#9c179e"
             ],
             [
              0.4444444444444444,
              "#bd3786"
             ],
             [
              0.5555555555555556,
              "#d8576b"
             ],
             [
              0.6666666666666666,
              "#ed7953"
             ],
             [
              0.7777777777777778,
              "#fb9f3a"
             ],
             [
              0.8888888888888888,
              "#fdca26"
             ],
             [
              1,
              "#f0f921"
             ]
            ],
            "type": "surface"
           }
          ],
          "table": [
           {
            "cells": {
             "fill": {
              "color": "#EBF0F8"
             },
             "line": {
              "color": "white"
             }
            },
            "header": {
             "fill": {
              "color": "#C8D4E3"
             },
             "line": {
              "color": "white"
             }
            },
            "type": "table"
           }
          ]
         },
         "layout": {
          "annotationdefaults": {
           "arrowcolor": "#2a3f5f",
           "arrowhead": 0,
           "arrowwidth": 1
          },
          "autotypenumbers": "strict",
          "coloraxis": {
           "colorbar": {
            "outlinewidth": 0,
            "ticks": ""
           }
          },
          "colorscale": {
           "diverging": [
            [
             0,
             "#8e0152"
            ],
            [
             0.1,
             "#c51b7d"
            ],
            [
             0.2,
             "#de77ae"
            ],
            [
             0.3,
             "#f1b6da"
            ],
            [
             0.4,
             "#fde0ef"
            ],
            [
             0.5,
             "#f7f7f7"
            ],
            [
             0.6,
             "#e6f5d0"
            ],
            [
             0.7,
             "#b8e186"
            ],
            [
             0.8,
             "#7fbc41"
            ],
            [
             0.9,
             "#4d9221"
            ],
            [
             1,
             "#276419"
            ]
           ],
           "sequential": [
            [
             0,
             "#0d0887"
            ],
            [
             0.1111111111111111,
             "#46039f"
            ],
            [
             0.2222222222222222,
             "#7201a8"
            ],
            [
             0.3333333333333333,
             "#9c179e"
            ],
            [
             0.4444444444444444,
             "#bd3786"
            ],
            [
             0.5555555555555556,
             "#d8576b"
            ],
            [
             0.6666666666666666,
             "#ed7953"
            ],
            [
             0.7777777777777778,
             "#fb9f3a"
            ],
            [
             0.8888888888888888,
             "#fdca26"
            ],
            [
             1,
             "#f0f921"
            ]
           ],
           "sequentialminus": [
            [
             0,
             "#0d0887"
            ],
            [
             0.1111111111111111,
             "#46039f"
            ],
            [
             0.2222222222222222,
             "#7201a8"
            ],
            [
             0.3333333333333333,
             "#9c179e"
            ],
            [
             0.4444444444444444,
             "#bd3786"
            ],
            [
             0.5555555555555556,
             "#d8576b"
            ],
            [
             0.6666666666666666,
             "#ed7953"
            ],
            [
             0.7777777777777778,
             "#fb9f3a"
            ],
            [
             0.8888888888888888,
             "#fdca26"
            ],
            [
             1,
             "#f0f921"
            ]
           ]
          },
          "colorway": [
           "#636efa",
           "#EF553B",
           "#00cc96",
           "#ab63fa",
           "#FFA15A",
           "#19d3f3",
           "#FF6692",
           "#B6E880",
           "#FF97FF",
           "#FECB52"
          ],
          "font": {
           "color": "#2a3f5f"
          },
          "geo": {
           "bgcolor": "white",
           "lakecolor": "white",
           "landcolor": "#E5ECF6",
           "showlakes": true,
           "showland": true,
           "subunitcolor": "white"
          },
          "hoverlabel": {
           "align": "left"
          },
          "hovermode": "closest",
          "mapbox": {
           "style": "light"
          },
          "paper_bgcolor": "white",
          "plot_bgcolor": "#E5ECF6",
          "polar": {
           "angularaxis": {
            "gridcolor": "white",
            "linecolor": "white",
            "ticks": ""
           },
           "bgcolor": "#E5ECF6",
           "radialaxis": {
            "gridcolor": "white",
            "linecolor": "white",
            "ticks": ""
           }
          },
          "scene": {
           "xaxis": {
            "backgroundcolor": "#E5ECF6",
            "gridcolor": "white",
            "gridwidth": 2,
            "linecolor": "white",
            "showbackground": true,
            "ticks": "",
            "zerolinecolor": "white"
           },
           "yaxis": {
            "backgroundcolor": "#E5ECF6",
            "gridcolor": "white",
            "gridwidth": 2,
            "linecolor": "white",
            "showbackground": true,
            "ticks": "",
            "zerolinecolor": "white"
           },
           "zaxis": {
            "backgroundcolor": "#E5ECF6",
            "gridcolor": "white",
            "gridwidth": 2,
            "linecolor": "white",
            "showbackground": true,
            "ticks": "",
            "zerolinecolor": "white"
           }
          },
          "shapedefaults": {
           "line": {
            "color": "#2a3f5f"
           }
          },
          "ternary": {
           "aaxis": {
            "gridcolor": "white",
            "linecolor": "white",
            "ticks": ""
           },
           "baxis": {
            "gridcolor": "white",
            "linecolor": "white",
            "ticks": ""
           },
           "bgcolor": "#E5ECF6",
           "caxis": {
            "gridcolor": "white",
            "linecolor": "white",
            "ticks": ""
           }
          },
          "title": {
           "x": 0.05
          },
          "xaxis": {
           "automargin": true,
           "gridcolor": "white",
           "linecolor": "white",
           "ticks": "",
           "title": {
            "standoff": 15
           },
           "zerolinecolor": "white",
           "zerolinewidth": 2
          },
          "yaxis": {
           "automargin": true,
           "gridcolor": "white",
           "linecolor": "white",
           "ticks": "",
           "title": {
            "standoff": 15
           },
           "zerolinecolor": "white",
           "zerolinewidth": 2
          }
         }
        }
       }
      }
     },
     "metadata": {},
     "output_type": "display_data"
    }
   ],
   "source": [
    "fig = go.Figure()\n",
    "\n",
    "fig.add_trace(\n",
    "    go.Scatter(\n",
    "        y = df_evolumin[\"Lineal+Diferido\"],\n",
    "        x = df_evolumin[\"Año\"],\n",
    "        mode = 'lines',\n",
    "        marker = dict(color = 'rgba(16, 112, 2, 0.8)')\n",
    "    ))\n",
    "fig.show()"
   ]
  },
  {
   "cell_type": "code",
   "execution_count": 214,
   "metadata": {},
   "outputs": [],
   "source": [
    "df_evoluTV[\"Año\"] = df_evoluTV[\"Año\"] + \" \" + df_evoluTV[\"Periodo\"]"
   ]
  },
  {
   "cell_type": "code",
   "execution_count": 232,
   "metadata": {},
   "outputs": [
    {
     "data": {
      "text/html": [
       "<div>\n",
       "<style scoped>\n",
       "    .dataframe tbody tr th:only-of-type {\n",
       "        vertical-align: middle;\n",
       "    }\n",
       "\n",
       "    .dataframe tbody tr th {\n",
       "        vertical-align: top;\n",
       "    }\n",
       "\n",
       "    .dataframe thead th {\n",
       "        text-align: right;\n",
       "    }\n",
       "</style>\n",
       "<table border=\"1\" class=\"dataframe\">\n",
       "  <thead>\n",
       "    <tr style=\"text-align: right;\">\n",
       "      <th></th>\n",
       "      <th>Año</th>\n",
       "      <th>Periodo</th>\n",
       "      <th>TV de pago</th>\n",
       "      <th>Plataformas tradicionales (Movistar TV, Vodafone TV, Euskatel TV, Jazztel, etc)</th>\n",
       "      <th>OTT'S (Netflix, Amazone Prime Video, HBO, etc)</th>\n",
       "    </tr>\n",
       "  </thead>\n",
       "  <tbody>\n",
       "    <tr>\n",
       "      <th>0</th>\n",
       "      <td>2015 Marzo</td>\n",
       "      <td>Marzo</td>\n",
       "      <td>26,5</td>\n",
       "      <td>24,1</td>\n",
       "      <td>0</td>\n",
       "    </tr>\n",
       "    <tr>\n",
       "      <th>1</th>\n",
       "      <td>2015 Junio</td>\n",
       "      <td>Junio</td>\n",
       "      <td>26,8</td>\n",
       "      <td>24,5</td>\n",
       "      <td>0</td>\n",
       "    </tr>\n",
       "    <tr>\n",
       "      <th>2</th>\n",
       "      <td>2015 Septiembre</td>\n",
       "      <td>Septiembre</td>\n",
       "      <td>28,6</td>\n",
       "      <td>26</td>\n",
       "      <td>0,1</td>\n",
       "    </tr>\n",
       "    <tr>\n",
       "      <th>3</th>\n",
       "      <td>2016 Marzo</td>\n",
       "      <td>Marzo</td>\n",
       "      <td>30,8</td>\n",
       "      <td>28</td>\n",
       "      <td>0,5</td>\n",
       "    </tr>\n",
       "    <tr>\n",
       "      <th>4</th>\n",
       "      <td>2016 Junio</td>\n",
       "      <td>Junio</td>\n",
       "      <td>32,3</td>\n",
       "      <td>29,1</td>\n",
       "      <td>0,6</td>\n",
       "    </tr>\n",
       "    <tr>\n",
       "      <th>5</th>\n",
       "      <td>2016 Septiembre</td>\n",
       "      <td>Septiembre</td>\n",
       "      <td>33,5</td>\n",
       "      <td>29,9</td>\n",
       "      <td>1,2</td>\n",
       "    </tr>\n",
       "    <tr>\n",
       "      <th>6</th>\n",
       "      <td>2017 Marzo</td>\n",
       "      <td>Marzo</td>\n",
       "      <td>35,2</td>\n",
       "      <td>30,5</td>\n",
       "      <td>2,6</td>\n",
       "    </tr>\n",
       "    <tr>\n",
       "      <th>7</th>\n",
       "      <td>2017 Junio</td>\n",
       "      <td>Junio</td>\n",
       "      <td>35,9</td>\n",
       "      <td>30,2</td>\n",
       "      <td>4,1</td>\n",
       "    </tr>\n",
       "    <tr>\n",
       "      <th>8</th>\n",
       "      <td>2017 Septiembre</td>\n",
       "      <td>Septiembre</td>\n",
       "      <td>39,1</td>\n",
       "      <td>32,4</td>\n",
       "      <td>6,1</td>\n",
       "    </tr>\n",
       "    <tr>\n",
       "      <th>9</th>\n",
       "      <td>2018 Marzo</td>\n",
       "      <td>Marzo</td>\n",
       "      <td>43,7</td>\n",
       "      <td>33,6</td>\n",
       "      <td>20,4</td>\n",
       "    </tr>\n",
       "    <tr>\n",
       "      <th>10</th>\n",
       "      <td>2018 Junio</td>\n",
       "      <td>Junio</td>\n",
       "      <td>45,2</td>\n",
       "      <td>33,9</td>\n",
       "      <td>21,1</td>\n",
       "    </tr>\n",
       "    <tr>\n",
       "      <th>11</th>\n",
       "      <td>2018 Septiembre</td>\n",
       "      <td>Septiembre</td>\n",
       "      <td>51,6</td>\n",
       "      <td>35,3</td>\n",
       "      <td>28,9</td>\n",
       "    </tr>\n",
       "    <tr>\n",
       "      <th>12</th>\n",
       "      <td>2019 Marzo</td>\n",
       "      <td>Marzo</td>\n",
       "      <td>53,3</td>\n",
       "      <td>34,3</td>\n",
       "      <td>33,7</td>\n",
       "    </tr>\n",
       "    <tr>\n",
       "      <th>13</th>\n",
       "      <td>2019 Junio</td>\n",
       "      <td>Junio</td>\n",
       "      <td>55,3</td>\n",
       "      <td>35,3</td>\n",
       "      <td>36,5</td>\n",
       "    </tr>\n",
       "    <tr>\n",
       "      <th>14</th>\n",
       "      <td>2019 Septiembre</td>\n",
       "      <td>Septiembre</td>\n",
       "      <td>57</td>\n",
       "      <td>33,6</td>\n",
       "      <td>41</td>\n",
       "    </tr>\n",
       "  </tbody>\n",
       "</table>\n",
       "</div>"
      ],
      "text/plain": [
       "                Año     Periodo TV de pago  \\\n",
       "0        2015 Marzo       Marzo       26,5   \n",
       "1        2015 Junio       Junio       26,8   \n",
       "2   2015 Septiembre  Septiembre       28,6   \n",
       "3        2016 Marzo       Marzo       30,8   \n",
       "4        2016 Junio       Junio       32,3   \n",
       "5   2016 Septiembre  Septiembre       33,5   \n",
       "6        2017 Marzo       Marzo       35,2   \n",
       "7        2017 Junio       Junio       35,9   \n",
       "8   2017 Septiembre  Septiembre       39,1   \n",
       "9        2018 Marzo       Marzo       43,7   \n",
       "10       2018 Junio       Junio       45,2   \n",
       "11  2018 Septiembre  Septiembre       51,6   \n",
       "12       2019 Marzo       Marzo       53,3   \n",
       "13       2019 Junio       Junio       55,3   \n",
       "14  2019 Septiembre  Septiembre         57   \n",
       "\n",
       "   Plataformas tradicionales (Movistar TV, Vodafone TV, Euskatel TV, Jazztel, etc)  \\\n",
       "0                                                24,1                                \n",
       "1                                                24,5                                \n",
       "2                                                  26                                \n",
       "3                                                  28                                \n",
       "4                                                29,1                                \n",
       "5                                                29,9                                \n",
       "6                                                30,5                                \n",
       "7                                                30,2                                \n",
       "8                                                32,4                                \n",
       "9                                                33,6                                \n",
       "10                                               33,9                                \n",
       "11                                               35,3                                \n",
       "12                                               34,3                                \n",
       "13                                               35,3                                \n",
       "14                                               33,6                                \n",
       "\n",
       "   OTT'S (Netflix, Amazone Prime Video, HBO, etc)  \n",
       "0                                               0  \n",
       "1                                               0  \n",
       "2                                             0,1  \n",
       "3                                             0,5  \n",
       "4                                             0,6  \n",
       "5                                             1,2  \n",
       "6                                             2,6  \n",
       "7                                             4,1  \n",
       "8                                             6,1  \n",
       "9                                            20,4  \n",
       "10                                           21,1  \n",
       "11                                           28,9  \n",
       "12                                           33,7  \n",
       "13                                           36,5  \n",
       "14                                             41  "
      ]
     },
     "execution_count": 232,
     "metadata": {},
     "output_type": "execute_result"
    }
   ],
   "source": [
    "df_evoluTV"
   ]
  },
  {
   "cell_type": "code",
   "execution_count": 220,
   "metadata": {},
   "outputs": [],
   "source": [
    "df_1 = df_evoluTV[[\"Año\", \"TV de pago\"]]\n",
    "df_2 = df_evoluTV[[\"Año\", \"Plataformas tradicionales (Movistar TV, Vodafone TV, Euskatel TV, Jazztel, etc)\"]]\n",
    "df_3 = df_evoluTV[[\"Año\", \"OTT'S (Netflix, Amazone Prime Video, HBO, etc)\"]]"
   ]
  },
  {
   "cell_type": "code",
   "execution_count": null,
   "metadata": {},
   "outputs": [],
   "source": [
    "px.histogram(df_evoluTV[\"\"], \n",
    "  x=\"value column\",\n",
    "  color=\"column\",\n",
    "  facet_col=\"column\")"
   ]
  },
  {
   "cell_type": "code",
   "execution_count": 231,
   "metadata": {},
   "outputs": [
    {
     "data": {
      "application/vnd.plotly.v1+json": {
       "config": {
        "linkText": "Export to plot.ly",
        "plotlyServerURL": "https://plot.ly",
        "showLink": false
       },
       "data": [
        {
         "marker": {
          "color": "rgba(171, 50, 96, 0.6)"
         },
         "name": "TV Pago",
         "opacity": 1,
         "type": "histogram",
         "x": [
          "2015 Marzo",
          "2015 Junio",
          "2015 Septiembre",
          "2016 Marzo",
          "2016 Junio",
          "2016 Septiembre",
          "2017 Marzo",
          "2017 Junio",
          "2017 Septiembre",
          "2018 Marzo",
          "2018 Junio",
          "2018 Septiembre",
          "2019 Marzo",
          "2019 Junio",
          "2019 Septiembre"
         ]
        },
        {
         "marker": {
          "color": "rgba(12, 50, 196, 0.6)"
         },
         "name": "Tradicionales",
         "opacity": 0.75,
         "type": "histogram",
         "x": [
          "2015 Marzo",
          "2015 Junio",
          "2015 Septiembre",
          "2016 Marzo",
          "2016 Junio",
          "2016 Septiembre",
          "2017 Marzo",
          "2017 Junio",
          "2017 Septiembre",
          "2018 Marzo",
          "2018 Junio",
          "2018 Septiembre",
          "2019 Marzo",
          "2019 Junio",
          "2019 Septiembre"
         ],
         "xaxis": "x2"
        },
        {
         "marker": {
          "color": "rgb(171, 50, 96)"
         },
         "name": "Netflix, Disney+, Amazon y HBO",
         "opacity": 0.9,
         "type": "histogram",
         "x": [
          "2015 Marzo",
          "2015 Junio",
          "2015 Septiembre",
          "2016 Marzo",
          "2016 Junio",
          "2016 Septiembre",
          "2017 Marzo",
          "2017 Junio",
          "2017 Septiembre",
          "2018 Marzo",
          "2018 Junio",
          "2018 Septiembre",
          "2019 Marzo",
          "2019 Junio",
          "2019 Septiembre"
         ],
         "xaxis": "x3"
        }
       ],
       "layout": {
        "template": {
         "data": {
          "bar": [
           {
            "error_x": {
             "color": "#2a3f5f"
            },
            "error_y": {
             "color": "#2a3f5f"
            },
            "marker": {
             "line": {
              "color": "#E5ECF6",
              "width": 0.5
             },
             "pattern": {
              "fillmode": "overlay",
              "size": 10,
              "solidity": 0.2
             }
            },
            "type": "bar"
           }
          ],
          "barpolar": [
           {
            "marker": {
             "line": {
              "color": "#E5ECF6",
              "width": 0.5
             },
             "pattern": {
              "fillmode": "overlay",
              "size": 10,
              "solidity": 0.2
             }
            },
            "type": "barpolar"
           }
          ],
          "carpet": [
           {
            "aaxis": {
             "endlinecolor": "#2a3f5f",
             "gridcolor": "white",
             "linecolor": "white",
             "minorgridcolor": "white",
             "startlinecolor": "#2a3f5f"
            },
            "baxis": {
             "endlinecolor": "#2a3f5f",
             "gridcolor": "white",
             "linecolor": "white",
             "minorgridcolor": "white",
             "startlinecolor": "#2a3f5f"
            },
            "type": "carpet"
           }
          ],
          "choropleth": [
           {
            "colorbar": {
             "outlinewidth": 0,
             "ticks": ""
            },
            "type": "choropleth"
           }
          ],
          "contour": [
           {
            "colorbar": {
             "outlinewidth": 0,
             "ticks": ""
            },
            "colorscale": [
             [
              0,
              "#0d0887"
             ],
             [
              0.1111111111111111,
              "#46039f"
             ],
             [
              0.2222222222222222,
              "#7201a8"
             ],
             [
              0.3333333333333333,
              "#9c179e"
             ],
             [
              0.4444444444444444,
              "#bd3786"
             ],
             [
              0.5555555555555556,
              "#d8576b"
             ],
             [
              0.6666666666666666,
              "#ed7953"
             ],
             [
              0.7777777777777778,
              "#fb9f3a"
             ],
             [
              0.8888888888888888,
              "#fdca26"
             ],
             [
              1,
              "#f0f921"
             ]
            ],
            "type": "contour"
           }
          ],
          "contourcarpet": [
           {
            "colorbar": {
             "outlinewidth": 0,
             "ticks": ""
            },
            "type": "contourcarpet"
           }
          ],
          "heatmap": [
           {
            "colorbar": {
             "outlinewidth": 0,
             "ticks": ""
            },
            "colorscale": [
             [
              0,
              "#0d0887"
             ],
             [
              0.1111111111111111,
              "#46039f"
             ],
             [
              0.2222222222222222,
              "#7201a8"
             ],
             [
              0.3333333333333333,
              "#9c179e"
             ],
             [
              0.4444444444444444,
              "#bd3786"
             ],
             [
              0.5555555555555556,
              "#d8576b"
             ],
             [
              0.6666666666666666,
              "#ed7953"
             ],
             [
              0.7777777777777778,
              "#fb9f3a"
             ],
             [
              0.8888888888888888,
              "#fdca26"
             ],
             [
              1,
              "#f0f921"
             ]
            ],
            "type": "heatmap"
           }
          ],
          "heatmapgl": [
           {
            "colorbar": {
             "outlinewidth": 0,
             "ticks": ""
            },
            "colorscale": [
             [
              0,
              "#0d0887"
             ],
             [
              0.1111111111111111,
              "#46039f"
             ],
             [
              0.2222222222222222,
              "#7201a8"
             ],
             [
              0.3333333333333333,
              "#9c179e"
             ],
             [
              0.4444444444444444,
              "#bd3786"
             ],
             [
              0.5555555555555556,
              "#d8576b"
             ],
             [
              0.6666666666666666,
              "#ed7953"
             ],
             [
              0.7777777777777778,
              "#fb9f3a"
             ],
             [
              0.8888888888888888,
              "#fdca26"
             ],
             [
              1,
              "#f0f921"
             ]
            ],
            "type": "heatmapgl"
           }
          ],
          "histogram": [
           {
            "marker": {
             "pattern": {
              "fillmode": "overlay",
              "size": 10,
              "solidity": 0.2
             }
            },
            "type": "histogram"
           }
          ],
          "histogram2d": [
           {
            "colorbar": {
             "outlinewidth": 0,
             "ticks": ""
            },
            "colorscale": [
             [
              0,
              "#0d0887"
             ],
             [
              0.1111111111111111,
              "#46039f"
             ],
             [
              0.2222222222222222,
              "#7201a8"
             ],
             [
              0.3333333333333333,
              "#9c179e"
             ],
             [
              0.4444444444444444,
              "#bd3786"
             ],
             [
              0.5555555555555556,
              "#d8576b"
             ],
             [
              0.6666666666666666,
              "#ed7953"
             ],
             [
              0.7777777777777778,
              "#fb9f3a"
             ],
             [
              0.8888888888888888,
              "#fdca26"
             ],
             [
              1,
              "#f0f921"
             ]
            ],
            "type": "histogram2d"
           }
          ],
          "histogram2dcontour": [
           {
            "colorbar": {
             "outlinewidth": 0,
             "ticks": ""
            },
            "colorscale": [
             [
              0,
              "#0d0887"
             ],
             [
              0.1111111111111111,
              "#46039f"
             ],
             [
              0.2222222222222222,
              "#7201a8"
             ],
             [
              0.3333333333333333,
              "#9c179e"
             ],
             [
              0.4444444444444444,
              "#bd3786"
             ],
             [
              0.5555555555555556,
              "#d8576b"
             ],
             [
              0.6666666666666666,
              "#ed7953"
             ],
             [
              0.7777777777777778,
              "#fb9f3a"
             ],
             [
              0.8888888888888888,
              "#fdca26"
             ],
             [
              1,
              "#f0f921"
             ]
            ],
            "type": "histogram2dcontour"
           }
          ],
          "mesh3d": [
           {
            "colorbar": {
             "outlinewidth": 0,
             "ticks": ""
            },
            "type": "mesh3d"
           }
          ],
          "parcoords": [
           {
            "line": {
             "colorbar": {
              "outlinewidth": 0,
              "ticks": ""
             }
            },
            "type": "parcoords"
           }
          ],
          "pie": [
           {
            "automargin": true,
            "type": "pie"
           }
          ],
          "scatter": [
           {
            "marker": {
             "colorbar": {
              "outlinewidth": 0,
              "ticks": ""
             }
            },
            "type": "scatter"
           }
          ],
          "scatter3d": [
           {
            "line": {
             "colorbar": {
              "outlinewidth": 0,
              "ticks": ""
             }
            },
            "marker": {
             "colorbar": {
              "outlinewidth": 0,
              "ticks": ""
             }
            },
            "type": "scatter3d"
           }
          ],
          "scattercarpet": [
           {
            "marker": {
             "colorbar": {
              "outlinewidth": 0,
              "ticks": ""
             }
            },
            "type": "scattercarpet"
           }
          ],
          "scattergeo": [
           {
            "marker": {
             "colorbar": {
              "outlinewidth": 0,
              "ticks": ""
             }
            },
            "type": "scattergeo"
           }
          ],
          "scattergl": [
           {
            "marker": {
             "colorbar": {
              "outlinewidth": 0,
              "ticks": ""
             }
            },
            "type": "scattergl"
           }
          ],
          "scattermapbox": [
           {
            "marker": {
             "colorbar": {
              "outlinewidth": 0,
              "ticks": ""
             }
            },
            "type": "scattermapbox"
           }
          ],
          "scatterpolar": [
           {
            "marker": {
             "colorbar": {
              "outlinewidth": 0,
              "ticks": ""
             }
            },
            "type": "scatterpolar"
           }
          ],
          "scatterpolargl": [
           {
            "marker": {
             "colorbar": {
              "outlinewidth": 0,
              "ticks": ""
             }
            },
            "type": "scatterpolargl"
           }
          ],
          "scatterternary": [
           {
            "marker": {
             "colorbar": {
              "outlinewidth": 0,
              "ticks": ""
             }
            },
            "type": "scatterternary"
           }
          ],
          "surface": [
           {
            "colorbar": {
             "outlinewidth": 0,
             "ticks": ""
            },
            "colorscale": [
             [
              0,
              "#0d0887"
             ],
             [
              0.1111111111111111,
              "#46039f"
             ],
             [
              0.2222222222222222,
              "#7201a8"
             ],
             [
              0.3333333333333333,
              "#9c179e"
             ],
             [
              0.4444444444444444,
              "#bd3786"
             ],
             [
              0.5555555555555556,
              "#d8576b"
             ],
             [
              0.6666666666666666,
              "#ed7953"
             ],
             [
              0.7777777777777778,
              "#fb9f3a"
             ],
             [
              0.8888888888888888,
              "#fdca26"
             ],
             [
              1,
              "#f0f921"
             ]
            ],
            "type": "surface"
           }
          ],
          "table": [
           {
            "cells": {
             "fill": {
              "color": "#EBF0F8"
             },
             "line": {
              "color": "white"
             }
            },
            "header": {
             "fill": {
              "color": "#C8D4E3"
             },
             "line": {
              "color": "white"
             }
            },
            "type": "table"
           }
          ]
         },
         "layout": {
          "annotationdefaults": {
           "arrowcolor": "#2a3f5f",
           "arrowhead": 0,
           "arrowwidth": 1
          },
          "autotypenumbers": "strict",
          "coloraxis": {
           "colorbar": {
            "outlinewidth": 0,
            "ticks": ""
           }
          },
          "colorscale": {
           "diverging": [
            [
             0,
             "#8e0152"
            ],
            [
             0.1,
             "#c51b7d"
            ],
            [
             0.2,
             "#de77ae"
            ],
            [
             0.3,
             "#f1b6da"
            ],
            [
             0.4,
             "#fde0ef"
            ],
            [
             0.5,
             "#f7f7f7"
            ],
            [
             0.6,
             "#e6f5d0"
            ],
            [
             0.7,
             "#b8e186"
            ],
            [
             0.8,
             "#7fbc41"
            ],
            [
             0.9,
             "#4d9221"
            ],
            [
             1,
             "#276419"
            ]
           ],
           "sequential": [
            [
             0,
             "#0d0887"
            ],
            [
             0.1111111111111111,
             "#46039f"
            ],
            [
             0.2222222222222222,
             "#7201a8"
            ],
            [
             0.3333333333333333,
             "#9c179e"
            ],
            [
             0.4444444444444444,
             "#bd3786"
            ],
            [
             0.5555555555555556,
             "#d8576b"
            ],
            [
             0.6666666666666666,
             "#ed7953"
            ],
            [
             0.7777777777777778,
             "#fb9f3a"
            ],
            [
             0.8888888888888888,
             "#fdca26"
            ],
            [
             1,
             "#f0f921"
            ]
           ],
           "sequentialminus": [
            [
             0,
             "#0d0887"
            ],
            [
             0.1111111111111111,
             "#46039f"
            ],
            [
             0.2222222222222222,
             "#7201a8"
            ],
            [
             0.3333333333333333,
             "#9c179e"
            ],
            [
             0.4444444444444444,
             "#bd3786"
            ],
            [
             0.5555555555555556,
             "#d8576b"
            ],
            [
             0.6666666666666666,
             "#ed7953"
            ],
            [
             0.7777777777777778,
             "#fb9f3a"
            ],
            [
             0.8888888888888888,
             "#fdca26"
            ],
            [
             1,
             "#f0f921"
            ]
           ]
          },
          "colorway": [
           "#636efa",
           "#EF553B",
           "#00cc96",
           "#ab63fa",
           "#FFA15A",
           "#19d3f3",
           "#FF6692",
           "#B6E880",
           "#FF97FF",
           "#FECB52"
          ],
          "font": {
           "color": "#2a3f5f"
          },
          "geo": {
           "bgcolor": "white",
           "lakecolor": "white",
           "landcolor": "#E5ECF6",
           "showlakes": true,
           "showland": true,
           "subunitcolor": "white"
          },
          "hoverlabel": {
           "align": "left"
          },
          "hovermode": "closest",
          "mapbox": {
           "style": "light"
          },
          "paper_bgcolor": "white",
          "plot_bgcolor": "#E5ECF6",
          "polar": {
           "angularaxis": {
            "gridcolor": "white",
            "linecolor": "white",
            "ticks": ""
           },
           "bgcolor": "#E5ECF6",
           "radialaxis": {
            "gridcolor": "white",
            "linecolor": "white",
            "ticks": ""
           }
          },
          "scene": {
           "xaxis": {
            "backgroundcolor": "#E5ECF6",
            "gridcolor": "white",
            "gridwidth": 2,
            "linecolor": "white",
            "showbackground": true,
            "ticks": "",
            "zerolinecolor": "white"
           },
           "yaxis": {
            "backgroundcolor": "#E5ECF6",
            "gridcolor": "white",
            "gridwidth": 2,
            "linecolor": "white",
            "showbackground": true,
            "ticks": "",
            "zerolinecolor": "white"
           },
           "zaxis": {
            "backgroundcolor": "#E5ECF6",
            "gridcolor": "white",
            "gridwidth": 2,
            "linecolor": "white",
            "showbackground": true,
            "ticks": "",
            "zerolinecolor": "white"
           }
          },
          "shapedefaults": {
           "line": {
            "color": "#2a3f5f"
           }
          },
          "ternary": {
           "aaxis": {
            "gridcolor": "white",
            "linecolor": "white",
            "ticks": ""
           },
           "baxis": {
            "gridcolor": "white",
            "linecolor": "white",
            "ticks": ""
           },
           "bgcolor": "#E5ECF6",
           "caxis": {
            "gridcolor": "white",
            "linecolor": "white",
            "ticks": ""
           }
          },
          "title": {
           "x": 0.05
          },
          "xaxis": {
           "automargin": true,
           "gridcolor": "white",
           "linecolor": "white",
           "ticks": "",
           "title": {
            "standoff": 15
           },
           "zerolinecolor": "white",
           "zerolinewidth": 2
          },
          "yaxis": {
           "automargin": true,
           "gridcolor": "white",
           "linecolor": "white",
           "ticks": "",
           "title": {
            "standoff": 15
           },
           "zerolinecolor": "white",
           "zerolinewidth": 2
          }
         }
        },
        "title": {
         "text": "Abonados TV por modalidades"
        },
        "xaxis": {
         "ticklen": 5,
         "title": {
          "text": "Abonados"
         }
        }
       }
      }
     },
     "metadata": {},
     "output_type": "display_data"
    }
   ],
   "source": [
    "trace1 = go.Histogram(\n",
    "    x=df_evoluTV[\"Año\"],\n",
    "    opacity=1,\n",
    "    name = \"TV Pago\",\n",
    "    marker=dict(color='rgba(171, 50, 96, 0.6)'))\n",
    "\n",
    "trace2 = go.Histogram(\n",
    "    x=df_evoluTV[\"Año\"],\n",
    "    xaxis='x2',\n",
    "    opacity=0.75,\n",
    "    name = \"Tradicionales\",\n",
    "    marker=dict(color='rgba(12, 50, 196, 0.6)'))\n",
    "\n",
    "trace3 = go.Histogram(\n",
    "    x=df_evoluTV[\"Año\"],\n",
    "    xaxis='x3',\n",
    "    opacity=0.9,\n",
    "    name = \"Netflix, Disney+, Amazon y HBO\",\n",
    "    marker=dict(color='rgb(171, 50, 96)'))\n",
    "\n",
    "data = [trace1, trace2, trace3]\n",
    "'''layout = go.Layout(\n",
    "    xaxis=dict(\n",
    "        domain=[0, 0.30]\n",
    "    ),\n",
    "    xaxis2=dict(\n",
    "        domain=[0.35, 0.65]\n",
    "    ),\n",
    "    xaxis3=dict(\n",
    "        domain=[0.70, 1],\n",
    "        anchor='y3'\n",
    "    ),\n",
    "    title = 'Evolución de la TV de pago)'''\n",
    "fig = go.Figure(data=data, layout=layout)\n",
    "iplot(fig)"
   ]
  },
  {
   "cell_type": "code",
   "execution_count": null,
   "metadata": {},
   "outputs": [],
   "source": [
    "fig = px.histogram(spfrit, \n",
    " x=df_evoluTV[\"Año\"],\n",
    " y=df_evoluTV[\"TV de pago\"],\n",
    " color=\"color\",\n",
    " barmode=\"group\",\n",
    " title=f\"Histnorm {histnorm} histogram\",\n",
    " category_orders={\"Country Name\":[\"Italy\",\"Spain\",\"France\"]},\n",
    " color_discrete_map=\"identity\"\n",
    ")\n",
    "fig.show()"
   ]
  },
  {
   "cell_type": "code",
   "execution_count": null,
   "metadata": {},
   "outputs": [
    {
     "data": {
      "text/html": [
       "<div>\n",
       "<style scoped>\n",
       "    .dataframe tbody tr th:only-of-type {\n",
       "        vertical-align: middle;\n",
       "    }\n",
       "\n",
       "    .dataframe tbody tr th {\n",
       "        vertical-align: top;\n",
       "    }\n",
       "\n",
       "    .dataframe thead th {\n",
       "        text-align: right;\n",
       "    }\n",
       "</style>\n",
       "<table border=\"1\" class=\"dataframe\">\n",
       "  <thead>\n",
       "    <tr style=\"text-align: right;\">\n",
       "      <th></th>\n",
       "      <th>Año</th>\n",
       "      <th>Periodo</th>\n",
       "      <th>TV de pago</th>\n",
       "      <th>Plataformas tradicionales (Movistar TV, Vodafone TV, Euskatel TV, Jazztel, etc)</th>\n",
       "      <th>OTT'S (Netflix, Amazone Prime Video, HBO, etc)</th>\n",
       "    </tr>\n",
       "  </thead>\n",
       "  <tbody>\n",
       "    <tr>\n",
       "      <th>0</th>\n",
       "      <td>2015Marzo</td>\n",
       "      <td>Marzo</td>\n",
       "      <td>26,5</td>\n",
       "      <td>24,1</td>\n",
       "      <td>0</td>\n",
       "    </tr>\n",
       "    <tr>\n",
       "      <th>1</th>\n",
       "      <td>2015Junio</td>\n",
       "      <td>Junio</td>\n",
       "      <td>26,8</td>\n",
       "      <td>24,5</td>\n",
       "      <td>0</td>\n",
       "    </tr>\n",
       "    <tr>\n",
       "      <th>2</th>\n",
       "      <td>2015Septiembre</td>\n",
       "      <td>Septiembre</td>\n",
       "      <td>28,6</td>\n",
       "      <td>26</td>\n",
       "      <td>0,1</td>\n",
       "    </tr>\n",
       "    <tr>\n",
       "      <th>3</th>\n",
       "      <td>2016Marzo</td>\n",
       "      <td>Marzo</td>\n",
       "      <td>30,8</td>\n",
       "      <td>28</td>\n",
       "      <td>0,5</td>\n",
       "    </tr>\n",
       "    <tr>\n",
       "      <th>4</th>\n",
       "      <td>2016Junio</td>\n",
       "      <td>Junio</td>\n",
       "      <td>32,3</td>\n",
       "      <td>29,1</td>\n",
       "      <td>0,6</td>\n",
       "    </tr>\n",
       "    <tr>\n",
       "      <th>5</th>\n",
       "      <td>2016Septiembre</td>\n",
       "      <td>Septiembre</td>\n",
       "      <td>33,5</td>\n",
       "      <td>29,9</td>\n",
       "      <td>1,2</td>\n",
       "    </tr>\n",
       "    <tr>\n",
       "      <th>6</th>\n",
       "      <td>2017Marzo</td>\n",
       "      <td>Marzo</td>\n",
       "      <td>35,2</td>\n",
       "      <td>30,5</td>\n",
       "      <td>2,6</td>\n",
       "    </tr>\n",
       "    <tr>\n",
       "      <th>7</th>\n",
       "      <td>2017Junio</td>\n",
       "      <td>Junio</td>\n",
       "      <td>35,9</td>\n",
       "      <td>30,2</td>\n",
       "      <td>4,1</td>\n",
       "    </tr>\n",
       "    <tr>\n",
       "      <th>8</th>\n",
       "      <td>2017Septiembre</td>\n",
       "      <td>Septiembre</td>\n",
       "      <td>39,1</td>\n",
       "      <td>32,4</td>\n",
       "      <td>6,1</td>\n",
       "    </tr>\n",
       "    <tr>\n",
       "      <th>9</th>\n",
       "      <td>2018Marzo</td>\n",
       "      <td>Marzo</td>\n",
       "      <td>43,7</td>\n",
       "      <td>33,6</td>\n",
       "      <td>20,4</td>\n",
       "    </tr>\n",
       "    <tr>\n",
       "      <th>10</th>\n",
       "      <td>2018Junio</td>\n",
       "      <td>Junio</td>\n",
       "      <td>45,2</td>\n",
       "      <td>33,9</td>\n",
       "      <td>21,1</td>\n",
       "    </tr>\n",
       "    <tr>\n",
       "      <th>11</th>\n",
       "      <td>2018Septiembre</td>\n",
       "      <td>Septiembre</td>\n",
       "      <td>51,6</td>\n",
       "      <td>35,3</td>\n",
       "      <td>28,9</td>\n",
       "    </tr>\n",
       "    <tr>\n",
       "      <th>12</th>\n",
       "      <td>2019Marzo</td>\n",
       "      <td>Marzo</td>\n",
       "      <td>53,3</td>\n",
       "      <td>34,3</td>\n",
       "      <td>33,7</td>\n",
       "    </tr>\n",
       "    <tr>\n",
       "      <th>13</th>\n",
       "      <td>2019Junio</td>\n",
       "      <td>Junio</td>\n",
       "      <td>55,3</td>\n",
       "      <td>35,3</td>\n",
       "      <td>36,5</td>\n",
       "    </tr>\n",
       "    <tr>\n",
       "      <th>14</th>\n",
       "      <td>2019Septiembre</td>\n",
       "      <td>Septiembre</td>\n",
       "      <td>57</td>\n",
       "      <td>33,6</td>\n",
       "      <td>41</td>\n",
       "    </tr>\n",
       "  </tbody>\n",
       "</table>\n",
       "</div>"
      ],
      "text/plain": [
       "               Año     Periodo TV de pago  \\\n",
       "0        2015Marzo       Marzo       26,5   \n",
       "1        2015Junio       Junio       26,8   \n",
       "2   2015Septiembre  Septiembre       28,6   \n",
       "3        2016Marzo       Marzo       30,8   \n",
       "4        2016Junio       Junio       32,3   \n",
       "5   2016Septiembre  Septiembre       33,5   \n",
       "6        2017Marzo       Marzo       35,2   \n",
       "7        2017Junio       Junio       35,9   \n",
       "8   2017Septiembre  Septiembre       39,1   \n",
       "9        2018Marzo       Marzo       43,7   \n",
       "10       2018Junio       Junio       45,2   \n",
       "11  2018Septiembre  Septiembre       51,6   \n",
       "12       2019Marzo       Marzo       53,3   \n",
       "13       2019Junio       Junio       55,3   \n",
       "14  2019Septiembre  Septiembre         57   \n",
       "\n",
       "   Plataformas tradicionales (Movistar TV, Vodafone TV, Euskatel TV, Jazztel, etc)  \\\n",
       "0                                                24,1                                \n",
       "1                                                24,5                                \n",
       "2                                                  26                                \n",
       "3                                                  28                                \n",
       "4                                                29,1                                \n",
       "5                                                29,9                                \n",
       "6                                                30,5                                \n",
       "7                                                30,2                                \n",
       "8                                                32,4                                \n",
       "9                                                33,6                                \n",
       "10                                               33,9                                \n",
       "11                                               35,3                                \n",
       "12                                               34,3                                \n",
       "13                                               35,3                                \n",
       "14                                               33,6                                \n",
       "\n",
       "   OTT'S (Netflix, Amazone Prime Video, HBO, etc)  \n",
       "0                                               0  \n",
       "1                                               0  \n",
       "2                                             0,1  \n",
       "3                                             0,5  \n",
       "4                                             0,6  \n",
       "5                                             1,2  \n",
       "6                                             2,6  \n",
       "7                                             4,1  \n",
       "8                                             6,1  \n",
       "9                                            20,4  \n",
       "10                                           21,1  \n",
       "11                                           28,9  \n",
       "12                                           33,7  \n",
       "13                                           36,5  \n",
       "14                                             41  "
      ]
     },
     "execution_count": 109,
     "metadata": {},
     "output_type": "execute_result"
    }
   ],
   "source": [
    "df_evoluTV"
   ]
  },
  {
   "cell_type": "code",
   "execution_count": null,
   "metadata": {},
   "outputs": [
    {
     "data": {
      "text/html": [
       "<div>\n",
       "<style scoped>\n",
       "    .dataframe tbody tr th:only-of-type {\n",
       "        vertical-align: middle;\n",
       "    }\n",
       "\n",
       "    .dataframe tbody tr th {\n",
       "        vertical-align: top;\n",
       "    }\n",
       "\n",
       "    .dataframe thead th {\n",
       "        text-align: right;\n",
       "    }\n",
       "</style>\n",
       "<table border=\"1\" class=\"dataframe\">\n",
       "  <thead>\n",
       "    <tr style=\"text-align: right;\">\n",
       "      <th></th>\n",
       "      <th>Cadena</th>\n",
       "      <th>Enero</th>\n",
       "      <th>Febrero</th>\n",
       "      <th>Marzo</th>\n",
       "      <th>Abril</th>\n",
       "      <th>Mayo</th>\n",
       "      <th>Junio</th>\n",
       "      <th>Julio</th>\n",
       "      <th>Agosto</th>\n",
       "      <th>Sept.</th>\n",
       "      <th>Octubre</th>\n",
       "      <th>Noviembre</th>\n",
       "      <th>Diciembre</th>\n",
       "      <th>Media anual 2015</th>\n",
       "      <th>Media anual 2020</th>\n",
       "    </tr>\n",
       "  </thead>\n",
       "  <tbody>\n",
       "    <tr>\n",
       "      <th>1</th>\n",
       "      <td>Antena 3</td>\n",
       "      <td>0.138</td>\n",
       "      <td>0.132</td>\n",
       "      <td>0.134</td>\n",
       "      <td>0.139</td>\n",
       "      <td>0.13</td>\n",
       "      <td>0.131</td>\n",
       "      <td>0.126</td>\n",
       "      <td>0.130</td>\n",
       "      <td>0.134</td>\n",
       "      <td>0.140</td>\n",
       "      <td>0.143</td>\n",
       "      <td>0.134</td>\n",
       "      <td>13,4%*</td>\n",
       "      <td>11.8</td>\n",
       "    </tr>\n",
       "    <tr>\n",
       "      <th>2</th>\n",
       "      <td>La 1</td>\n",
       "      <td>0.104</td>\n",
       "      <td>0.102</td>\n",
       "      <td>0.1</td>\n",
       "      <td>0.099</td>\n",
       "      <td>0.099</td>\n",
       "      <td>0.097</td>\n",
       "      <td>0.090</td>\n",
       "      <td>0.090</td>\n",
       "      <td>0.097</td>\n",
       "      <td>0.100</td>\n",
       "      <td>0.097</td>\n",
       "      <td>0.102</td>\n",
       "      <td>9,8%*</td>\n",
       "      <td>9.3</td>\n",
       "    </tr>\n",
       "    <tr>\n",
       "      <th>3</th>\n",
       "      <td>FORTA</td>\n",
       "      <td>0.077</td>\n",
       "      <td>0.077</td>\n",
       "      <td>0.075</td>\n",
       "      <td>0.075</td>\n",
       "      <td>0.076</td>\n",
       "      <td>0.078</td>\n",
       "      <td>0.072</td>\n",
       "      <td>0.074</td>\n",
       "      <td>0.074</td>\n",
       "      <td>0.077</td>\n",
       "      <td>0.075</td>\n",
       "      <td>0.072</td>\n",
       "      <td>7,5%*</td>\n",
       "      <td>8.4</td>\n",
       "    </tr>\n",
       "    <tr>\n",
       "      <th>4</th>\n",
       "      <td>La Sexta</td>\n",
       "      <td>0.077</td>\n",
       "      <td>0.08</td>\n",
       "      <td>0.077</td>\n",
       "      <td>0.074</td>\n",
       "      <td>0.076</td>\n",
       "      <td>0.076</td>\n",
       "      <td>0.065</td>\n",
       "      <td>0.064</td>\n",
       "      <td>0.067</td>\n",
       "      <td>0.073</td>\n",
       "      <td>0.077</td>\n",
       "      <td>0.076</td>\n",
       "      <td>7,4%*</td>\n",
       "      <td>7.0</td>\n",
       "    </tr>\n",
       "    <tr>\n",
       "      <th>5</th>\n",
       "      <td>Cuatro</td>\n",
       "      <td>0.073</td>\n",
       "      <td>0.075</td>\n",
       "      <td>0.075</td>\n",
       "      <td>0.072</td>\n",
       "      <td>0.073</td>\n",
       "      <td>0.072</td>\n",
       "      <td>0.071</td>\n",
       "      <td>0.073</td>\n",
       "      <td>0.074</td>\n",
       "      <td>0.067</td>\n",
       "      <td>0.067</td>\n",
       "      <td>0.068</td>\n",
       "      <td>7,2%*</td>\n",
       "      <td>5.5</td>\n",
       "    </tr>\n",
       "    <tr>\n",
       "      <th>6</th>\n",
       "      <td>TEM PAGO</td>\n",
       "      <td>0.067</td>\n",
       "      <td>0.065</td>\n",
       "      <td>0.066</td>\n",
       "      <td>0.07</td>\n",
       "      <td>0.068</td>\n",
       "      <td>0.066</td>\n",
       "      <td>0.070</td>\n",
       "      <td>0.074</td>\n",
       "      <td>0.067</td>\n",
       "      <td>0.067</td>\n",
       "      <td>0.065</td>\n",
       "      <td>0.070</td>\n",
       "      <td>6,8%*</td>\n",
       "      <td>8.4</td>\n",
       "    </tr>\n",
       "    <tr>\n",
       "      <th>7</th>\n",
       "      <td>FDF</td>\n",
       "      <td>0.038</td>\n",
       "      <td>0.036</td>\n",
       "      <td>0.035</td>\n",
       "      <td>0.036</td>\n",
       "      <td>0.036</td>\n",
       "      <td>0.035</td>\n",
       "      <td>0.038</td>\n",
       "      <td>0.040</td>\n",
       "      <td>0.036</td>\n",
       "      <td>0.033</td>\n",
       "      <td>0.031</td>\n",
       "      <td>0.033</td>\n",
       "      <td>3,5%*</td>\n",
       "      <td>2.6</td>\n",
       "    </tr>\n",
       "    <tr>\n",
       "      <th>8</th>\n",
       "      <td>La 2</td>\n",
       "      <td>0.03</td>\n",
       "      <td>0.027</td>\n",
       "      <td>0.028</td>\n",
       "      <td>0.029</td>\n",
       "      <td>0.038</td>\n",
       "      <td>0.041</td>\n",
       "      <td>0.028</td>\n",
       "      <td>0.026</td>\n",
       "      <td>0.027</td>\n",
       "      <td>0.026</td>\n",
       "      <td>0.024</td>\n",
       "      <td>0.026</td>\n",
       "      <td>2,7%*</td>\n",
       "      <td>2.8</td>\n",
       "    </tr>\n",
       "    <tr>\n",
       "      <th>9</th>\n",
       "      <td>Neox</td>\n",
       "      <td>0.026</td>\n",
       "      <td>0.027</td>\n",
       "      <td>0.027</td>\n",
       "      <td>0.026</td>\n",
       "      <td>0.025</td>\n",
       "      <td>0.025</td>\n",
       "      <td>0.025</td>\n",
       "      <td>0.027</td>\n",
       "      <td>0.025</td>\n",
       "      <td>0.025</td>\n",
       "      <td>0.025</td>\n",
       "      <td>0.024</td>\n",
       "      <td>2,6%*</td>\n",
       "      <td>2.0</td>\n",
       "    </tr>\n",
       "    <tr>\n",
       "      <th>10</th>\n",
       "      <td>Nova</td>\n",
       "      <td>0.026</td>\n",
       "      <td>0.027</td>\n",
       "      <td>0.027</td>\n",
       "      <td>0.025</td>\n",
       "      <td>0.025</td>\n",
       "      <td>0.024</td>\n",
       "      <td>0.024</td>\n",
       "      <td>0.023</td>\n",
       "      <td>0.022</td>\n",
       "      <td>0.022</td>\n",
       "      <td>0.024</td>\n",
       "      <td>0.023</td>\n",
       "      <td>2,4%*</td>\n",
       "      <td>2.5</td>\n",
       "    </tr>\n",
       "    <tr>\n",
       "      <th>11</th>\n",
       "      <td>Clan</td>\n",
       "      <td>0.02</td>\n",
       "      <td>0.022</td>\n",
       "      <td>0.023</td>\n",
       "      <td>0.024</td>\n",
       "      <td>0.023</td>\n",
       "      <td>0.026</td>\n",
       "      <td>0.029</td>\n",
       "      <td>0.027</td>\n",
       "      <td>0.026</td>\n",
       "      <td>0.022</td>\n",
       "      <td>0.022</td>\n",
       "      <td>0.025</td>\n",
       "      <td>2,4%*</td>\n",
       "      <td>1.7</td>\n",
       "    </tr>\n",
       "    <tr>\n",
       "      <th>12</th>\n",
       "      <td>Divinity</td>\n",
       "      <td>0.024</td>\n",
       "      <td>0.023</td>\n",
       "      <td>0.022</td>\n",
       "      <td>0.023</td>\n",
       "      <td>0.025</td>\n",
       "      <td>0.023</td>\n",
       "      <td>0.022</td>\n",
       "      <td>0.024</td>\n",
       "      <td>0.023</td>\n",
       "      <td>0.024</td>\n",
       "      <td>0.024</td>\n",
       "      <td>0.022</td>\n",
       "      <td>2,3%*</td>\n",
       "      <td>1.9</td>\n",
       "    </tr>\n",
       "    <tr>\n",
       "      <th>13</th>\n",
       "      <td>Discovery Max</td>\n",
       "      <td>0.021</td>\n",
       "      <td>0.02</td>\n",
       "      <td>0.021</td>\n",
       "      <td>0.022</td>\n",
       "      <td>0.023</td>\n",
       "      <td>0.023</td>\n",
       "      <td>0.021</td>\n",
       "      <td>0.023</td>\n",
       "      <td>0.021</td>\n",
       "      <td>0.021</td>\n",
       "      <td>0.021</td>\n",
       "      <td>0.020</td>\n",
       "      <td>2,1%*</td>\n",
       "      <td>1.7</td>\n",
       "    </tr>\n",
       "    <tr>\n",
       "      <th>14</th>\n",
       "      <td>13TV</td>\n",
       "      <td>0.017</td>\n",
       "      <td>0.017</td>\n",
       "      <td>0.019</td>\n",
       "      <td>0.02</td>\n",
       "      <td>0.021</td>\n",
       "      <td>0.021</td>\n",
       "      <td>0.020</td>\n",
       "      <td>0.020</td>\n",
       "      <td>0.019</td>\n",
       "      <td>0.021</td>\n",
       "      <td>0.023</td>\n",
       "      <td>0.023</td>\n",
       "      <td>2,0%*</td>\n",
       "      <td>2.3</td>\n",
       "    </tr>\n",
       "    <tr>\n",
       "      <th>15</th>\n",
       "      <td>Paramount Channel</td>\n",
       "      <td>0.021</td>\n",
       "      <td>0.02</td>\n",
       "      <td>0.02</td>\n",
       "      <td>0.019</td>\n",
       "      <td>0.019</td>\n",
       "      <td>0.02</td>\n",
       "      <td>0.020</td>\n",
       "      <td>0.021</td>\n",
       "      <td>0.020</td>\n",
       "      <td>0.021</td>\n",
       "      <td>0.021</td>\n",
       "      <td>0.020</td>\n",
       "      <td>2,0%*</td>\n",
       "      <td>1.8</td>\n",
       "    </tr>\n",
       "    <tr>\n",
       "      <th>16</th>\n",
       "      <td>Boing</td>\n",
       "      <td>0.017</td>\n",
       "      <td>0.016</td>\n",
       "      <td>0.015</td>\n",
       "      <td>0.016</td>\n",
       "      <td>0.016</td>\n",
       "      <td>0.017</td>\n",
       "      <td>0.018</td>\n",
       "      <td>0.017</td>\n",
       "      <td>0.017</td>\n",
       "      <td>0.015</td>\n",
       "      <td>0.014</td>\n",
       "      <td>0.016</td>\n",
       "      <td>1,6%*</td>\n",
       "      <td>1.1</td>\n",
       "    </tr>\n",
       "    <tr>\n",
       "      <th>17</th>\n",
       "      <td>Energy</td>\n",
       "      <td>0.015</td>\n",
       "      <td>0.015</td>\n",
       "      <td>0.015</td>\n",
       "      <td>0.015</td>\n",
       "      <td>0.015</td>\n",
       "      <td>0.016</td>\n",
       "      <td>0.017</td>\n",
       "      <td>0.019</td>\n",
       "      <td>0.015</td>\n",
       "      <td>0.015</td>\n",
       "      <td>0.013</td>\n",
       "      <td>0.016</td>\n",
       "      <td>1,5%*</td>\n",
       "      <td>2.3</td>\n",
       "    </tr>\n",
       "    <tr>\n",
       "      <th>18</th>\n",
       "      <td>Disney Channel</td>\n",
       "      <td>0.014</td>\n",
       "      <td>0.014</td>\n",
       "      <td>0.014</td>\n",
       "      <td>0.014</td>\n",
       "      <td>0.013</td>\n",
       "      <td>0.014</td>\n",
       "      <td>0.014</td>\n",
       "      <td>0.015</td>\n",
       "      <td>0.014</td>\n",
       "      <td>0.013</td>\n",
       "      <td>0.013</td>\n",
       "      <td>0.014</td>\n",
       "      <td>1,4%*</td>\n",
       "      <td>0.8</td>\n",
       "    </tr>\n",
       "    <tr>\n",
       "      <th>19</th>\n",
       "      <td>Mega</td>\n",
       "      <td>-</td>\n",
       "      <td>-</td>\n",
       "      <td>-</td>\n",
       "      <td>-</td>\n",
       "      <td>-</td>\n",
       "      <td>-</td>\n",
       "      <td>0.021</td>\n",
       "      <td>0.023</td>\n",
       "      <td>0.019</td>\n",
       "      <td>0.019</td>\n",
       "      <td>0.018</td>\n",
       "      <td>0.019</td>\n",
       "      <td>0,9%*</td>\n",
       "      <td>1.6</td>\n",
       "    </tr>\n",
       "    <tr>\n",
       "      <th>20</th>\n",
       "      <td>24 Horas</td>\n",
       "      <td>0.008</td>\n",
       "      <td>0.008</td>\n",
       "      <td>0.008</td>\n",
       "      <td>0.008</td>\n",
       "      <td>0.009</td>\n",
       "      <td>0.009</td>\n",
       "      <td>0.010</td>\n",
       "      <td>0.009</td>\n",
       "      <td>0.008</td>\n",
       "      <td>0.008</td>\n",
       "      <td>0.011</td>\n",
       "      <td>0.009</td>\n",
       "      <td>0,9%*</td>\n",
       "      <td>1.1</td>\n",
       "    </tr>\n",
       "    <tr>\n",
       "      <th>21</th>\n",
       "      <td>Teledeporte</td>\n",
       "      <td>0.008</td>\n",
       "      <td>0.007</td>\n",
       "      <td>0.008</td>\n",
       "      <td>0.009</td>\n",
       "      <td>0.014</td>\n",
       "      <td>0.011</td>\n",
       "      <td>0.016</td>\n",
       "      <td>0.011</td>\n",
       "      <td>0.007</td>\n",
       "      <td>0.007</td>\n",
       "      <td>0.005</td>\n",
       "      <td>0.006</td>\n",
       "      <td>0,9%*</td>\n",
       "      <td>0.5</td>\n",
       "    </tr>\n",
       "    <tr>\n",
       "      <th>22</th>\n",
       "      <td>AUT PRIV</td>\n",
       "      <td>0.008</td>\n",
       "      <td>0.008</td>\n",
       "      <td>0.008</td>\n",
       "      <td>0.008</td>\n",
       "      <td>0.008</td>\n",
       "      <td>0.008</td>\n",
       "      <td>0.007</td>\n",
       "      <td>0.006</td>\n",
       "      <td>0.009</td>\n",
       "      <td>0.009</td>\n",
       "      <td>0.009</td>\n",
       "      <td>0.009</td>\n",
       "      <td>0,8%*</td>\n",
       "      <td>NaN</td>\n",
       "    </tr>\n",
       "  </tbody>\n",
       "</table>\n",
       "</div>"
      ],
      "text/plain": [
       "               Cadena  Enero Febrero  Marzo  Abril   Mayo  Junio  Julio  \\\n",
       "1            Antena 3  0.138   0.132  0.134  0.139   0.13  0.131  0.126   \n",
       "2                La 1  0.104   0.102    0.1  0.099  0.099  0.097  0.090   \n",
       "3               FORTA  0.077   0.077  0.075  0.075  0.076  0.078  0.072   \n",
       "4            La Sexta  0.077    0.08  0.077  0.074  0.076  0.076  0.065   \n",
       "5              Cuatro  0.073   0.075  0.075  0.072  0.073  0.072  0.071   \n",
       "6            TEM PAGO  0.067   0.065  0.066   0.07  0.068  0.066  0.070   \n",
       "7                 FDF  0.038   0.036  0.035  0.036  0.036  0.035  0.038   \n",
       "8                La 2   0.03   0.027  0.028  0.029  0.038  0.041  0.028   \n",
       "9                Neox  0.026   0.027  0.027  0.026  0.025  0.025  0.025   \n",
       "10               Nova  0.026   0.027  0.027  0.025  0.025  0.024  0.024   \n",
       "11               Clan   0.02   0.022  0.023  0.024  0.023  0.026  0.029   \n",
       "12           Divinity  0.024   0.023  0.022  0.023  0.025  0.023  0.022   \n",
       "13      Discovery Max  0.021    0.02  0.021  0.022  0.023  0.023  0.021   \n",
       "14               13TV  0.017   0.017  0.019   0.02  0.021  0.021  0.020   \n",
       "15  Paramount Channel  0.021    0.02   0.02  0.019  0.019   0.02  0.020   \n",
       "16              Boing  0.017   0.016  0.015  0.016  0.016  0.017  0.018   \n",
       "17             Energy  0.015   0.015  0.015  0.015  0.015  0.016  0.017   \n",
       "18     Disney Channel  0.014   0.014  0.014  0.014  0.013  0.014  0.014   \n",
       "19               Mega      -       -      -      -      -      -  0.021   \n",
       "20           24 Horas  0.008   0.008  0.008  0.008  0.009  0.009  0.010   \n",
       "21        Teledeporte  0.008   0.007  0.008  0.009  0.014  0.011  0.016   \n",
       "22           AUT PRIV  0.008   0.008  0.008  0.008  0.008  0.008  0.007   \n",
       "\n",
       "    Agosto  Sept.  Octubre  Noviembre  Diciembre Media anual 2015  \\\n",
       "1    0.130  0.134    0.140      0.143      0.134           13,4%*   \n",
       "2    0.090  0.097    0.100      0.097      0.102            9,8%*   \n",
       "3    0.074  0.074    0.077      0.075      0.072            7,5%*   \n",
       "4    0.064  0.067    0.073      0.077      0.076            7,4%*   \n",
       "5    0.073  0.074    0.067      0.067      0.068            7,2%*   \n",
       "6    0.074  0.067    0.067      0.065      0.070            6,8%*   \n",
       "7    0.040  0.036    0.033      0.031      0.033            3,5%*   \n",
       "8    0.026  0.027    0.026      0.024      0.026            2,7%*   \n",
       "9    0.027  0.025    0.025      0.025      0.024            2,6%*   \n",
       "10   0.023  0.022    0.022      0.024      0.023            2,4%*   \n",
       "11   0.027  0.026    0.022      0.022      0.025            2,4%*   \n",
       "12   0.024  0.023    0.024      0.024      0.022            2,3%*   \n",
       "13   0.023  0.021    0.021      0.021      0.020            2,1%*   \n",
       "14   0.020  0.019    0.021      0.023      0.023            2,0%*   \n",
       "15   0.021  0.020    0.021      0.021      0.020            2,0%*   \n",
       "16   0.017  0.017    0.015      0.014      0.016            1,6%*   \n",
       "17   0.019  0.015    0.015      0.013      0.016            1,5%*   \n",
       "18   0.015  0.014    0.013      0.013      0.014            1,4%*   \n",
       "19   0.023  0.019    0.019      0.018      0.019            0,9%*   \n",
       "20   0.009  0.008    0.008      0.011      0.009            0,9%*   \n",
       "21   0.011  0.007    0.007      0.005      0.006            0,9%*   \n",
       "22   0.006  0.009    0.009      0.009      0.009            0,8%*   \n",
       "\n",
       "    Media anual 2020  \n",
       "1               11.8  \n",
       "2                9.3  \n",
       "3                8.4  \n",
       "4                7.0  \n",
       "5                5.5  \n",
       "6                8.4  \n",
       "7                2.6  \n",
       "8                2.8  \n",
       "9                2.0  \n",
       "10               2.5  \n",
       "11               1.7  \n",
       "12               1.9  \n",
       "13               1.7  \n",
       "14               2.3  \n",
       "15               1.8  \n",
       "16               1.1  \n",
       "17               2.3  \n",
       "18               0.8  \n",
       "19               1.6  \n",
       "20               1.1  \n",
       "21               0.5  \n",
       "22               NaN  "
      ]
     },
     "execution_count": 96,
     "metadata": {},
     "output_type": "execute_result"
    }
   ],
   "source": [
    "df_audiencias"
   ]
  },
  {
   "cell_type": "code",
   "execution_count": null,
   "metadata": {},
   "outputs": [
    {
     "name": "stderr",
     "output_type": "stream",
     "text": [
      "C:\\Users\\jorge\\AppData\\Local\\Programs\\Python\\Python37\\lib\\site-packages\\ipykernel_launcher.py:2: FutureWarning:\n",
      "\n",
      "The default value of regex will change from True to False in a future version. In addition, single character regular expressions will *not* be treated as literal strings when regex=True.\n",
      "\n"
     ]
    }
   ],
   "source": [
    "df_audiencias[\"Media anual 2015\"] = df_audiencias[\"Media anual 2015\"].str.replace(\"%\", \"\")\n",
    "df_audiencias[\"Media anual 2015\"] = df_audiencias[\"Media anual 2015\"].str.replace(\"*\", \"\")"
   ]
  },
  {
   "cell_type": "code",
   "execution_count": null,
   "metadata": {},
   "outputs": [
    {
     "data": {
      "application/vnd.plotly.v1+json": {
       "config": {
        "linkText": "Export to plot.ly",
        "plotlyServerURL": "https://plot.ly",
        "showLink": false
       },
       "data": [
        {
         "marker": {
          "color": "rgba(16, 112, 2, 0.8)"
         },
         "mode": "lines",
         "name": "2015",
         "text": [
          [
           "Antena 3",
           0.138,
           0.132,
           0.134,
           0.139,
           0.13,
           0.131,
           0.126,
           0.13,
           0.134,
           0.14,
           0.143,
           0.134,
           "13,4",
           11.8
          ],
          [
           "La 1",
           0.104,
           0.102,
           0.1,
           0.099,
           0.099,
           0.097,
           0.09,
           0.09,
           0.097,
           0.1,
           0.097,
           0.102,
           "9,8",
           9.3
          ],
          [
           "FORTA",
           0.077,
           0.077,
           0.075,
           0.075,
           0.076,
           0.078,
           0.072,
           0.074,
           0.074,
           0.077,
           0.075,
           0.072,
           "7,5",
           8.4
          ],
          [
           "La Sexta",
           0.077,
           0.08,
           0.077,
           0.074,
           0.076,
           0.076,
           0.065,
           0.064,
           0.067,
           0.073,
           0.077,
           0.076,
           "7,4",
           7
          ],
          [
           "Cuatro",
           0.073,
           0.075,
           0.075,
           0.072,
           0.073,
           0.072,
           0.071,
           0.073,
           0.074,
           0.067,
           0.067,
           0.068,
           "7,2",
           5.5
          ],
          [
           "TEM PAGO",
           0.067,
           0.065,
           0.066,
           0.07,
           0.068,
           0.066,
           0.07,
           0.074,
           0.067,
           0.067,
           0.065,
           0.07,
           "6,8",
           8.4
          ],
          [
           "FDF",
           0.038,
           0.036,
           0.035,
           0.036,
           0.036,
           0.035,
           0.038,
           0.04,
           0.036,
           0.033,
           0.031,
           0.033,
           "3,5",
           2.6
          ],
          [
           "La 2",
           0.03,
           0.027,
           0.028,
           0.029,
           0.038,
           0.041,
           0.028,
           0.026,
           0.027,
           0.026,
           0.024,
           0.026,
           "2,7",
           2.8
          ],
          [
           "Neox",
           0.026,
           0.027,
           0.027,
           0.026,
           0.025,
           0.025,
           0.025,
           0.027,
           0.025,
           0.025,
           0.025,
           0.024,
           "2,6",
           2
          ],
          [
           "Nova",
           0.026,
           0.027,
           0.027,
           0.025,
           0.025,
           0.024,
           0.024,
           0.023,
           0.022,
           0.022,
           0.024,
           0.023,
           "2,4",
           2.5
          ],
          [
           "Clan",
           0.02,
           0.022,
           0.023,
           0.024,
           0.023,
           0.026,
           0.029,
           0.027,
           0.026,
           0.022,
           0.022,
           0.025,
           "2,4",
           1.7
          ],
          [
           "Divinity",
           0.024,
           0.023,
           0.022,
           0.023,
           0.025,
           0.023,
           0.022,
           0.024,
           0.023,
           0.024,
           0.024,
           0.022,
           "2,3",
           1.9
          ],
          [
           "Discovery Max",
           0.021,
           0.02,
           0.021,
           0.022,
           0.023,
           0.023,
           0.021,
           0.023,
           0.021,
           0.021,
           0.021,
           0.02,
           "2,1",
           1.7
          ],
          [
           "13TV",
           0.017,
           0.017,
           0.019,
           0.02,
           0.021,
           0.021,
           0.02,
           0.02,
           0.019,
           0.021,
           0.023,
           0.023,
           "2,0",
           2.3
          ],
          [
           "Paramount Channel",
           0.021,
           0.02,
           0.02,
           0.019,
           0.019,
           0.02,
           0.02,
           0.021,
           0.02,
           0.021,
           0.021,
           0.02,
           "2,0",
           1.8
          ],
          [
           "Boing",
           0.017,
           0.016,
           0.015,
           0.016,
           0.016,
           0.017,
           0.018,
           0.017,
           0.017,
           0.015,
           0.014,
           0.016,
           "1,6",
           1.1
          ],
          [
           "Energy",
           0.015,
           0.015,
           0.015,
           0.015,
           0.015,
           0.016,
           0.017,
           0.019,
           0.015,
           0.015,
           0.013,
           0.016,
           "1,5",
           2.3
          ],
          [
           "Disney Channel",
           0.014,
           0.014,
           0.014,
           0.014,
           0.013,
           0.014,
           0.014,
           0.015,
           0.014,
           0.013,
           0.013,
           0.014,
           "1,4",
           0.8
          ],
          [
           "Mega",
           "-",
           "-",
           "-",
           "-",
           "-",
           "-",
           0.021,
           0.023,
           0.019,
           0.019,
           0.018,
           0.019,
           "0,9",
           1.6
          ],
          [
           "24 Horas",
           0.008,
           0.008,
           0.008,
           0.008,
           0.009,
           0.009,
           0.01,
           0.009,
           0.008,
           0.008,
           0.011,
           0.009,
           "0,9",
           1.1
          ],
          [
           "Teledeporte",
           0.008,
           0.007,
           0.008,
           0.009,
           0.014,
           0.011,
           0.016,
           0.011,
           0.007,
           0.007,
           0.005,
           0.006,
           "0,9",
           0.5
          ],
          [
           "AUT PRIV",
           0.008,
           0.008,
           0.008,
           0.008,
           0.008,
           0.008,
           0.007,
           0.006,
           0.009,
           0.009,
           0.009,
           0.009,
           "0,8",
           null
          ]
         ],
         "type": "scatter",
         "x": [
          "Antena 3",
          "La 1",
          "FORTA",
          "La Sexta",
          "Cuatro",
          "TEM PAGO",
          "FDF",
          "La 2",
          "Neox",
          "Nova",
          "Clan",
          "Divinity",
          "Discovery Max",
          "13TV",
          "Paramount Channel",
          "Boing",
          "Energy",
          "Disney Channel",
          "Mega",
          "24 Horas",
          "Teledeporte",
          "AUT PRIV"
         ],
         "y": [
          "13,4",
          "9,8",
          "7,5",
          "7,4",
          "7,2",
          "6,8",
          "3,5",
          "2,7",
          "2,6",
          "2,4",
          "2,4",
          "2,3",
          "2,1",
          "2,0",
          "2,0",
          "1,6",
          "1,5",
          "1,4",
          "0,9",
          "0,9",
          "0,9",
          "0,8"
         ]
        },
        {
         "marker": {
          "color": "rgba(80, 26, 80, 0.8)"
         },
         "mode": "lines+markers",
         "name": "2020",
         "text": [
          [
           "Antena 3",
           0.138,
           0.132,
           0.134,
           0.139,
           0.13,
           0.131,
           0.126,
           0.13,
           0.134,
           0.14,
           0.143,
           0.134,
           "13,4",
           11.8
          ],
          [
           "La 1",
           0.104,
           0.102,
           0.1,
           0.099,
           0.099,
           0.097,
           0.09,
           0.09,
           0.097,
           0.1,
           0.097,
           0.102,
           "9,8",
           9.3
          ],
          [
           "FORTA",
           0.077,
           0.077,
           0.075,
           0.075,
           0.076,
           0.078,
           0.072,
           0.074,
           0.074,
           0.077,
           0.075,
           0.072,
           "7,5",
           8.4
          ],
          [
           "La Sexta",
           0.077,
           0.08,
           0.077,
           0.074,
           0.076,
           0.076,
           0.065,
           0.064,
           0.067,
           0.073,
           0.077,
           0.076,
           "7,4",
           7
          ],
          [
           "Cuatro",
           0.073,
           0.075,
           0.075,
           0.072,
           0.073,
           0.072,
           0.071,
           0.073,
           0.074,
           0.067,
           0.067,
           0.068,
           "7,2",
           5.5
          ],
          [
           "TEM PAGO",
           0.067,
           0.065,
           0.066,
           0.07,
           0.068,
           0.066,
           0.07,
           0.074,
           0.067,
           0.067,
           0.065,
           0.07,
           "6,8",
           8.4
          ],
          [
           "FDF",
           0.038,
           0.036,
           0.035,
           0.036,
           0.036,
           0.035,
           0.038,
           0.04,
           0.036,
           0.033,
           0.031,
           0.033,
           "3,5",
           2.6
          ],
          [
           "La 2",
           0.03,
           0.027,
           0.028,
           0.029,
           0.038,
           0.041,
           0.028,
           0.026,
           0.027,
           0.026,
           0.024,
           0.026,
           "2,7",
           2.8
          ],
          [
           "Neox",
           0.026,
           0.027,
           0.027,
           0.026,
           0.025,
           0.025,
           0.025,
           0.027,
           0.025,
           0.025,
           0.025,
           0.024,
           "2,6",
           2
          ],
          [
           "Nova",
           0.026,
           0.027,
           0.027,
           0.025,
           0.025,
           0.024,
           0.024,
           0.023,
           0.022,
           0.022,
           0.024,
           0.023,
           "2,4",
           2.5
          ],
          [
           "Clan",
           0.02,
           0.022,
           0.023,
           0.024,
           0.023,
           0.026,
           0.029,
           0.027,
           0.026,
           0.022,
           0.022,
           0.025,
           "2,4",
           1.7
          ],
          [
           "Divinity",
           0.024,
           0.023,
           0.022,
           0.023,
           0.025,
           0.023,
           0.022,
           0.024,
           0.023,
           0.024,
           0.024,
           0.022,
           "2,3",
           1.9
          ],
          [
           "Discovery Max",
           0.021,
           0.02,
           0.021,
           0.022,
           0.023,
           0.023,
           0.021,
           0.023,
           0.021,
           0.021,
           0.021,
           0.02,
           "2,1",
           1.7
          ],
          [
           "13TV",
           0.017,
           0.017,
           0.019,
           0.02,
           0.021,
           0.021,
           0.02,
           0.02,
           0.019,
           0.021,
           0.023,
           0.023,
           "2,0",
           2.3
          ],
          [
           "Paramount Channel",
           0.021,
           0.02,
           0.02,
           0.019,
           0.019,
           0.02,
           0.02,
           0.021,
           0.02,
           0.021,
           0.021,
           0.02,
           "2,0",
           1.8
          ],
          [
           "Boing",
           0.017,
           0.016,
           0.015,
           0.016,
           0.016,
           0.017,
           0.018,
           0.017,
           0.017,
           0.015,
           0.014,
           0.016,
           "1,6",
           1.1
          ],
          [
           "Energy",
           0.015,
           0.015,
           0.015,
           0.015,
           0.015,
           0.016,
           0.017,
           0.019,
           0.015,
           0.015,
           0.013,
           0.016,
           "1,5",
           2.3
          ],
          [
           "Disney Channel",
           0.014,
           0.014,
           0.014,
           0.014,
           0.013,
           0.014,
           0.014,
           0.015,
           0.014,
           0.013,
           0.013,
           0.014,
           "1,4",
           0.8
          ],
          [
           "Mega",
           "-",
           "-",
           "-",
           "-",
           "-",
           "-",
           0.021,
           0.023,
           0.019,
           0.019,
           0.018,
           0.019,
           "0,9",
           1.6
          ],
          [
           "24 Horas",
           0.008,
           0.008,
           0.008,
           0.008,
           0.009,
           0.009,
           0.01,
           0.009,
           0.008,
           0.008,
           0.011,
           0.009,
           "0,9",
           1.1
          ],
          [
           "Teledeporte",
           0.008,
           0.007,
           0.008,
           0.009,
           0.014,
           0.011,
           0.016,
           0.011,
           0.007,
           0.007,
           0.005,
           0.006,
           "0,9",
           0.5
          ],
          [
           "AUT PRIV",
           0.008,
           0.008,
           0.008,
           0.008,
           0.008,
           0.008,
           0.007,
           0.006,
           0.009,
           0.009,
           0.009,
           0.009,
           "0,8",
           null
          ]
         ],
         "type": "scatter",
         "x": [
          "Antena 3",
          "La 1",
          "FORTA",
          "La Sexta",
          "Cuatro",
          "TEM PAGO",
          "FDF",
          "La 2",
          "Neox",
          "Nova",
          "Clan",
          "Divinity",
          "Discovery Max",
          "13TV",
          "Paramount Channel",
          "Boing",
          "Energy",
          "Disney Channel",
          "Mega",
          "24 Horas",
          "Teledeporte",
          "AUT PRIV"
         ],
         "y": [
          11.8,
          9.3,
          8.4,
          7,
          5.5,
          8.4,
          2.6,
          2.8,
          2,
          2.5,
          1.7,
          1.9,
          1.7,
          2.3,
          1.8,
          1.1,
          2.3,
          0.8,
          1.6,
          1.1,
          0.5,
          null
         ]
        }
       ],
       "layout": {
        "template": {
         "data": {
          "bar": [
           {
            "error_x": {
             "color": "#2a3f5f"
            },
            "error_y": {
             "color": "#2a3f5f"
            },
            "marker": {
             "line": {
              "color": "#E5ECF6",
              "width": 0.5
             },
             "pattern": {
              "fillmode": "overlay",
              "size": 10,
              "solidity": 0.2
             }
            },
            "type": "bar"
           }
          ],
          "barpolar": [
           {
            "marker": {
             "line": {
              "color": "#E5ECF6",
              "width": 0.5
             },
             "pattern": {
              "fillmode": "overlay",
              "size": 10,
              "solidity": 0.2
             }
            },
            "type": "barpolar"
           }
          ],
          "carpet": [
           {
            "aaxis": {
             "endlinecolor": "#2a3f5f",
             "gridcolor": "white",
             "linecolor": "white",
             "minorgridcolor": "white",
             "startlinecolor": "#2a3f5f"
            },
            "baxis": {
             "endlinecolor": "#2a3f5f",
             "gridcolor": "white",
             "linecolor": "white",
             "minorgridcolor": "white",
             "startlinecolor": "#2a3f5f"
            },
            "type": "carpet"
           }
          ],
          "choropleth": [
           {
            "colorbar": {
             "outlinewidth": 0,
             "ticks": ""
            },
            "type": "choropleth"
           }
          ],
          "contour": [
           {
            "colorbar": {
             "outlinewidth": 0,
             "ticks": ""
            },
            "colorscale": [
             [
              0,
              "#0d0887"
             ],
             [
              0.1111111111111111,
              "#46039f"
             ],
             [
              0.2222222222222222,
              "#7201a8"
             ],
             [
              0.3333333333333333,
              "#9c179e"
             ],
             [
              0.4444444444444444,
              "#bd3786"
             ],
             [
              0.5555555555555556,
              "#d8576b"
             ],
             [
              0.6666666666666666,
              "#ed7953"
             ],
             [
              0.7777777777777778,
              "#fb9f3a"
             ],
             [
              0.8888888888888888,
              "#fdca26"
             ],
             [
              1,
              "#f0f921"
             ]
            ],
            "type": "contour"
           }
          ],
          "contourcarpet": [
           {
            "colorbar": {
             "outlinewidth": 0,
             "ticks": ""
            },
            "type": "contourcarpet"
           }
          ],
          "heatmap": [
           {
            "colorbar": {
             "outlinewidth": 0,
             "ticks": ""
            },
            "colorscale": [
             [
              0,
              "#0d0887"
             ],
             [
              0.1111111111111111,
              "#46039f"
             ],
             [
              0.2222222222222222,
              "#7201a8"
             ],
             [
              0.3333333333333333,
              "#9c179e"
             ],
             [
              0.4444444444444444,
              "#bd3786"
             ],
             [
              0.5555555555555556,
              "#d8576b"
             ],
             [
              0.6666666666666666,
              "#ed7953"
             ],
             [
              0.7777777777777778,
              "#fb9f3a"
             ],
             [
              0.8888888888888888,
              "#fdca26"
             ],
             [
              1,
              "#f0f921"
             ]
            ],
            "type": "heatmap"
           }
          ],
          "heatmapgl": [
           {
            "colorbar": {
             "outlinewidth": 0,
             "ticks": ""
            },
            "colorscale": [
             [
              0,
              "#0d0887"
             ],
             [
              0.1111111111111111,
              "#46039f"
             ],
             [
              0.2222222222222222,
              "#7201a8"
             ],
             [
              0.3333333333333333,
              "#9c179e"
             ],
             [
              0.4444444444444444,
              "#bd3786"
             ],
             [
              0.5555555555555556,
              "#d8576b"
             ],
             [
              0.6666666666666666,
              "#ed7953"
             ],
             [
              0.7777777777777778,
              "#fb9f3a"
             ],
             [
              0.8888888888888888,
              "#fdca26"
             ],
             [
              1,
              "#f0f921"
             ]
            ],
            "type": "heatmapgl"
           }
          ],
          "histogram": [
           {
            "marker": {
             "pattern": {
              "fillmode": "overlay",
              "size": 10,
              "solidity": 0.2
             }
            },
            "type": "histogram"
           }
          ],
          "histogram2d": [
           {
            "colorbar": {
             "outlinewidth": 0,
             "ticks": ""
            },
            "colorscale": [
             [
              0,
              "#0d0887"
             ],
             [
              0.1111111111111111,
              "#46039f"
             ],
             [
              0.2222222222222222,
              "#7201a8"
             ],
             [
              0.3333333333333333,
              "#9c179e"
             ],
             [
              0.4444444444444444,
              "#bd3786"
             ],
             [
              0.5555555555555556,
              "#d8576b"
             ],
             [
              0.6666666666666666,
              "#ed7953"
             ],
             [
              0.7777777777777778,
              "#fb9f3a"
             ],
             [
              0.8888888888888888,
              "#fdca26"
             ],
             [
              1,
              "#f0f921"
             ]
            ],
            "type": "histogram2d"
           }
          ],
          "histogram2dcontour": [
           {
            "colorbar": {
             "outlinewidth": 0,
             "ticks": ""
            },
            "colorscale": [
             [
              0,
              "#0d0887"
             ],
             [
              0.1111111111111111,
              "#46039f"
             ],
             [
              0.2222222222222222,
              "#7201a8"
             ],
             [
              0.3333333333333333,
              "#9c179e"
             ],
             [
              0.4444444444444444,
              "#bd3786"
             ],
             [
              0.5555555555555556,
              "#d8576b"
             ],
             [
              0.6666666666666666,
              "#ed7953"
             ],
             [
              0.7777777777777778,
              "#fb9f3a"
             ],
             [
              0.8888888888888888,
              "#fdca26"
             ],
             [
              1,
              "#f0f921"
             ]
            ],
            "type": "histogram2dcontour"
           }
          ],
          "mesh3d": [
           {
            "colorbar": {
             "outlinewidth": 0,
             "ticks": ""
            },
            "type": "mesh3d"
           }
          ],
          "parcoords": [
           {
            "line": {
             "colorbar": {
              "outlinewidth": 0,
              "ticks": ""
             }
            },
            "type": "parcoords"
           }
          ],
          "pie": [
           {
            "automargin": true,
            "type": "pie"
           }
          ],
          "scatter": [
           {
            "marker": {
             "colorbar": {
              "outlinewidth": 0,
              "ticks": ""
             }
            },
            "type": "scatter"
           }
          ],
          "scatter3d": [
           {
            "line": {
             "colorbar": {
              "outlinewidth": 0,
              "ticks": ""
             }
            },
            "marker": {
             "colorbar": {
              "outlinewidth": 0,
              "ticks": ""
             }
            },
            "type": "scatter3d"
           }
          ],
          "scattercarpet": [
           {
            "marker": {
             "colorbar": {
              "outlinewidth": 0,
              "ticks": ""
             }
            },
            "type": "scattercarpet"
           }
          ],
          "scattergeo": [
           {
            "marker": {
             "colorbar": {
              "outlinewidth": 0,
              "ticks": ""
             }
            },
            "type": "scattergeo"
           }
          ],
          "scattergl": [
           {
            "marker": {
             "colorbar": {
              "outlinewidth": 0,
              "ticks": ""
             }
            },
            "type": "scattergl"
           }
          ],
          "scattermapbox": [
           {
            "marker": {
             "colorbar": {
              "outlinewidth": 0,
              "ticks": ""
             }
            },
            "type": "scattermapbox"
           }
          ],
          "scatterpolar": [
           {
            "marker": {
             "colorbar": {
              "outlinewidth": 0,
              "ticks": ""
             }
            },
            "type": "scatterpolar"
           }
          ],
          "scatterpolargl": [
           {
            "marker": {
             "colorbar": {
              "outlinewidth": 0,
              "ticks": ""
             }
            },
            "type": "scatterpolargl"
           }
          ],
          "scatterternary": [
           {
            "marker": {
             "colorbar": {
              "outlinewidth": 0,
              "ticks": ""
             }
            },
            "type": "scatterternary"
           }
          ],
          "surface": [
           {
            "colorbar": {
             "outlinewidth": 0,
             "ticks": ""
            },
            "colorscale": [
             [
              0,
              "#0d0887"
             ],
             [
              0.1111111111111111,
              "#46039f"
             ],
             [
              0.2222222222222222,
              "#7201a8"
             ],
             [
              0.3333333333333333,
              "#9c179e"
             ],
             [
              0.4444444444444444,
              "#bd3786"
             ],
             [
              0.5555555555555556,
              "#d8576b"
             ],
             [
              0.6666666666666666,
              "#ed7953"
             ],
             [
              0.7777777777777778,
              "#fb9f3a"
             ],
             [
              0.8888888888888888,
              "#fdca26"
             ],
             [
              1,
              "#f0f921"
             ]
            ],
            "type": "surface"
           }
          ],
          "table": [
           {
            "cells": {
             "fill": {
              "color": "#EBF0F8"
             },
             "line": {
              "color": "white"
             }
            },
            "header": {
             "fill": {
              "color": "#C8D4E3"
             },
             "line": {
              "color": "white"
             }
            },
            "type": "table"
           }
          ]
         },
         "layout": {
          "annotationdefaults": {
           "arrowcolor": "#2a3f5f",
           "arrowhead": 0,
           "arrowwidth": 1
          },
          "autotypenumbers": "strict",
          "coloraxis": {
           "colorbar": {
            "outlinewidth": 0,
            "ticks": ""
           }
          },
          "colorscale": {
           "diverging": [
            [
             0,
             "#8e0152"
            ],
            [
             0.1,
             "#c51b7d"
            ],
            [
             0.2,
             "#de77ae"
            ],
            [
             0.3,
             "#f1b6da"
            ],
            [
             0.4,
             "#fde0ef"
            ],
            [
             0.5,
             "#f7f7f7"
            ],
            [
             0.6,
             "#e6f5d0"
            ],
            [
             0.7,
             "#b8e186"
            ],
            [
             0.8,
             "#7fbc41"
            ],
            [
             0.9,
             "#4d9221"
            ],
            [
             1,
             "#276419"
            ]
           ],
           "sequential": [
            [
             0,
             "#0d0887"
            ],
            [
             0.1111111111111111,
             "#46039f"
            ],
            [
             0.2222222222222222,
             "#7201a8"
            ],
            [
             0.3333333333333333,
             "#9c179e"
            ],
            [
             0.4444444444444444,
             "#bd3786"
            ],
            [
             0.5555555555555556,
             "#d8576b"
            ],
            [
             0.6666666666666666,
             "#ed7953"
            ],
            [
             0.7777777777777778,
             "#fb9f3a"
            ],
            [
             0.8888888888888888,
             "#fdca26"
            ],
            [
             1,
             "#f0f921"
            ]
           ],
           "sequentialminus": [
            [
             0,
             "#0d0887"
            ],
            [
             0.1111111111111111,
             "#46039f"
            ],
            [
             0.2222222222222222,
             "#7201a8"
            ],
            [
             0.3333333333333333,
             "#9c179e"
            ],
            [
             0.4444444444444444,
             "#bd3786"
            ],
            [
             0.5555555555555556,
             "#d8576b"
            ],
            [
             0.6666666666666666,
             "#ed7953"
            ],
            [
             0.7777777777777778,
             "#fb9f3a"
            ],
            [
             0.8888888888888888,
             "#fdca26"
            ],
            [
             1,
             "#f0f921"
            ]
           ]
          },
          "colorway": [
           "#636efa",
           "#EF553B",
           "#00cc96",
           "#ab63fa",
           "#FFA15A",
           "#19d3f3",
           "#FF6692",
           "#B6E880",
           "#FF97FF",
           "#FECB52"
          ],
          "font": {
           "color": "#2a3f5f"
          },
          "geo": {
           "bgcolor": "white",
           "lakecolor": "white",
           "landcolor": "#E5ECF6",
           "showlakes": true,
           "showland": true,
           "subunitcolor": "white"
          },
          "hoverlabel": {
           "align": "left"
          },
          "hovermode": "closest",
          "mapbox": {
           "style": "light"
          },
          "paper_bgcolor": "white",
          "plot_bgcolor": "#E5ECF6",
          "polar": {
           "angularaxis": {
            "gridcolor": "white",
            "linecolor": "white",
            "ticks": ""
           },
           "bgcolor": "#E5ECF6",
           "radialaxis": {
            "gridcolor": "white",
            "linecolor": "white",
            "ticks": ""
           }
          },
          "scene": {
           "xaxis": {
            "backgroundcolor": "#E5ECF6",
            "gridcolor": "white",
            "gridwidth": 2,
            "linecolor": "white",
            "showbackground": true,
            "ticks": "",
            "zerolinecolor": "white"
           },
           "yaxis": {
            "backgroundcolor": "#E5ECF6",
            "gridcolor": "white",
            "gridwidth": 2,
            "linecolor": "white",
            "showbackground": true,
            "ticks": "",
            "zerolinecolor": "white"
           },
           "zaxis": {
            "backgroundcolor": "#E5ECF6",
            "gridcolor": "white",
            "gridwidth": 2,
            "linecolor": "white",
            "showbackground": true,
            "ticks": "",
            "zerolinecolor": "white"
           }
          },
          "shapedefaults": {
           "line": {
            "color": "#2a3f5f"
           }
          },
          "ternary": {
           "aaxis": {
            "gridcolor": "white",
            "linecolor": "white",
            "ticks": ""
           },
           "baxis": {
            "gridcolor": "white",
            "linecolor": "white",
            "ticks": ""
           },
           "bgcolor": "#E5ECF6",
           "caxis": {
            "gridcolor": "white",
            "linecolor": "white",
            "ticks": ""
           }
          },
          "title": {
           "x": 0.05
          },
          "xaxis": {
           "automargin": true,
           "gridcolor": "white",
           "linecolor": "white",
           "ticks": "",
           "title": {
            "standoff": 15
           },
           "zerolinecolor": "white",
           "zerolinewidth": 2
          },
          "yaxis": {
           "automargin": true,
           "gridcolor": "white",
           "linecolor": "white",
           "ticks": "",
           "title": {
            "standoff": 15
           },
           "zerolinecolor": "white",
           "zerolinewidth": 2
          }
         }
        },
        "title": {
         "text": "Audiencias TV"
        },
        "xaxis": {
         "ticklen": 5,
         "title": {
          "text": "World Rank"
         }
        }
       }
      }
     },
     "metadata": {},
     "output_type": "display_data"
    }
   ],
   "source": [
    "trace1 = go.Scatter(\n",
    "                    x = df_audiencias[\"Cadena\"],\n",
    "                    y = df_audiencias[\"Media anual 2015\"],\n",
    "                    name = '2015',\n",
    "                    mode= 'lines',\n",
    "                    marker = dict(color = 'rgba(16, 112, 2, 0.8)'),\n",
    "                    text = df_audiencias)\n",
    "trace2 = go.Scatter(\n",
    "                    x = df_audiencias[\"Cadena\"],\n",
    "                    y = df_audiencias[\"Media anual 2020\"],\n",
    "                    name = '2020',\n",
    "                    mode= 'lines+markers',\n",
    "                    marker = dict(color = 'rgba(80, 26, 80, 0.8)'),\n",
    "                    text = df_audiencias)\n",
    "\n",
    "data1 = [trace1, trace2]\n",
    "\n",
    "layout = dict(title = 'Audiencias TV',\n",
    "             xaxis= dict(title= 'World Rank',ticklen= 5)\n",
    "           )\n",
    "\n",
    "fig = go.Figure(data = data1, layout=layout)\n",
    "\n",
    "iplot(fig)"
   ]
  },
  {
   "cell_type": "code",
   "execution_count": null,
   "metadata": {},
   "outputs": [
    {
     "data": {
      "text/html": [
       "<div>\n",
       "<style scoped>\n",
       "    .dataframe tbody tr th:only-of-type {\n",
       "        vertical-align: middle;\n",
       "    }\n",
       "\n",
       "    .dataframe tbody tr th {\n",
       "        vertical-align: top;\n",
       "    }\n",
       "\n",
       "    .dataframe thead th {\n",
       "        text-align: right;\n",
       "    }\n",
       "</style>\n",
       "<table border=\"1\" class=\"dataframe\">\n",
       "  <thead>\n",
       "    <tr style=\"text-align: right;\">\n",
       "      <th></th>\n",
       "      <th>Medio</th>\n",
       "      <th>Mes</th>\n",
       "      <th>2019</th>\n",
       "      <th>2020</th>\n",
       "      <th>2021</th>\n",
       "      <th>% ev. 21/20</th>\n",
       "      <th>% ev. 21/19</th>\n",
       "    </tr>\n",
       "  </thead>\n",
       "  <tbody>\n",
       "    <tr>\n",
       "      <th>1</th>\n",
       "      <td>Televisión</td>\n",
       "      <td>Enero</td>\n",
       "      <td>162.9</td>\n",
       "      <td>145.2</td>\n",
       "      <td>116.4</td>\n",
       "      <td>-19.8</td>\n",
       "      <td>-28.500</td>\n",
       "    </tr>\n",
       "    <tr>\n",
       "      <th>10</th>\n",
       "      <td>Televisión</td>\n",
       "      <td>Febrero</td>\n",
       "      <td>153.2</td>\n",
       "      <td>154.8</td>\n",
       "      <td>115.6</td>\n",
       "      <td>-0.253</td>\n",
       "      <td>-0.245</td>\n",
       "    </tr>\n",
       "    <tr>\n",
       "      <th>19</th>\n",
       "      <td>Televisión</td>\n",
       "      <td>Marzo</td>\n",
       "      <td>181.9</td>\n",
       "      <td>139.6</td>\n",
       "      <td>147.7</td>\n",
       "      <td>0.058</td>\n",
       "      <td>-0.188</td>\n",
       "    </tr>\n",
       "    <tr>\n",
       "      <th>28</th>\n",
       "      <td>Televisión</td>\n",
       "      <td>Abril</td>\n",
       "      <td>164.5</td>\n",
       "      <td>61.0</td>\n",
       "      <td>153.2</td>\n",
       "      <td>1.511</td>\n",
       "      <td>-0.069</td>\n",
       "    </tr>\n",
       "  </tbody>\n",
       "</table>\n",
       "</div>"
      ],
      "text/plain": [
       "         Medio      Mes   2019   2020   2021 % ev. 21/20  % ev. 21/19\n",
       "1   Televisión    Enero  162.9  145.2  116.4       -19.8      -28.500\n",
       "10  Televisión  Febrero  153.2  154.8  115.6      -0.253       -0.245\n",
       "19  Televisión    Marzo  181.9  139.6  147.7       0.058       -0.188\n",
       "28  Televisión    Abril  164.5   61.0  153.2       1.511       -0.069"
      ]
     },
     "execution_count": 99,
     "metadata": {},
     "output_type": "execute_result"
    }
   ],
   "source": [
    "df_publiTV = df_publi[df_publi[\"Medio\"] == \"Televisión\"]\n",
    "\n",
    "df_publiTV"
   ]
  },
  {
   "cell_type": "code",
   "execution_count": null,
   "metadata": {},
   "outputs": [
    {
     "data": {
      "text/html": [
       "<div>\n",
       "<style scoped>\n",
       "    .dataframe tbody tr th:only-of-type {\n",
       "        vertical-align: middle;\n",
       "    }\n",
       "\n",
       "    .dataframe tbody tr th {\n",
       "        vertical-align: top;\n",
       "    }\n",
       "\n",
       "    .dataframe thead th {\n",
       "        text-align: right;\n",
       "    }\n",
       "</style>\n",
       "<table border=\"1\" class=\"dataframe\">\n",
       "  <thead>\n",
       "    <tr style=\"text-align: right;\">\n",
       "      <th></th>\n",
       "      <th>Medio</th>\n",
       "      <th>Mes</th>\n",
       "      <th>2019</th>\n",
       "      <th>2020</th>\n",
       "      <th>2021</th>\n",
       "      <th>% ev. 21/20</th>\n",
       "      <th>% ev. 21/19</th>\n",
       "    </tr>\n",
       "  </thead>\n",
       "  <tbody>\n",
       "    <tr>\n",
       "      <th>10</th>\n",
       "      <td>Televisión</td>\n",
       "      <td>Febrero</td>\n",
       "      <td>153.2</td>\n",
       "      <td>154.8</td>\n",
       "      <td>115.6</td>\n",
       "      <td>-0.253</td>\n",
       "      <td>-0.245</td>\n",
       "    </tr>\n",
       "    <tr>\n",
       "      <th>19</th>\n",
       "      <td>Televisión</td>\n",
       "      <td>Marzo</td>\n",
       "      <td>181.9</td>\n",
       "      <td>139.6</td>\n",
       "      <td>147.7</td>\n",
       "      <td>0.058</td>\n",
       "      <td>-0.188</td>\n",
       "    </tr>\n",
       "    <tr>\n",
       "      <th>28</th>\n",
       "      <td>Televisión</td>\n",
       "      <td>Abril</td>\n",
       "      <td>164.5</td>\n",
       "      <td>61.0</td>\n",
       "      <td>153.2</td>\n",
       "      <td>1.511</td>\n",
       "      <td>-0.069</td>\n",
       "    </tr>\n",
       "  </tbody>\n",
       "</table>\n",
       "</div>"
      ],
      "text/plain": [
       "         Medio      Mes   2019   2020   2021 % ev. 21/20  % ev. 21/19\n",
       "10  Televisión  Febrero  153.2  154.8  115.6      -0.253       -0.245\n",
       "19  Televisión    Marzo  181.9  139.6  147.7       0.058       -0.188\n",
       "28  Televisión    Abril  164.5   61.0  153.2       1.511       -0.069"
      ]
     },
     "execution_count": 100,
     "metadata": {},
     "output_type": "execute_result"
    }
   ],
   "source": [
    "df_publi_ = df_publiTV.drop(1, axis=0)\n",
    "df_publi_"
   ]
  },
  {
   "cell_type": "code",
   "execution_count": null,
   "metadata": {},
   "outputs": [
    {
     "data": {
      "application/vnd.plotly.v1+json": {
       "config": {
        "plotlyServerURL": "https://plot.ly"
       },
       "data": [
        {
         "alignmentgroup": "True",
         "hovertemplate": "Mes=%{x}<br>2019=%{y}<br>2020=%{marker.color}<extra></extra>",
         "legendgroup": "",
         "marker": {
          "color": [
           145.2,
           154.8,
           139.6,
           61
          ],
          "coloraxis": "coloraxis",
          "pattern": {
           "shape": ""
          }
         },
         "name": "",
         "offsetgroup": "",
         "orientation": "v",
         "showlegend": false,
         "textposition": "auto",
         "type": "bar",
         "x": [
          "Enero",
          "Febrero",
          "Marzo",
          "Abril"
         ],
         "xaxis": "x",
         "y": [
          162.9,
          153.2,
          181.9,
          164.5
         ],
         "yaxis": "y"
        }
       ],
       "layout": {
        "barmode": "relative",
        "coloraxis": {
         "colorbar": {
          "title": {
           "text": "2020"
          }
         },
         "colorscale": [
          [
           0,
           "#0d0887"
          ],
          [
           0.1111111111111111,
           "#46039f"
          ],
          [
           0.2222222222222222,
           "#7201a8"
          ],
          [
           0.3333333333333333,
           "#9c179e"
          ],
          [
           0.4444444444444444,
           "#bd3786"
          ],
          [
           0.5555555555555556,
           "#d8576b"
          ],
          [
           0.6666666666666666,
           "#ed7953"
          ],
          [
           0.7777777777777778,
           "#fb9f3a"
          ],
          [
           0.8888888888888888,
           "#fdca26"
          ],
          [
           1,
           "#f0f921"
          ]
         ]
        },
        "legend": {
         "tracegroupgap": 0
        },
        "template": {
         "data": {
          "bar": [
           {
            "error_x": {
             "color": "#2a3f5f"
            },
            "error_y": {
             "color": "#2a3f5f"
            },
            "marker": {
             "line": {
              "color": "#E5ECF6",
              "width": 0.5
             },
             "pattern": {
              "fillmode": "overlay",
              "size": 10,
              "solidity": 0.2
             }
            },
            "type": "bar"
           }
          ],
          "barpolar": [
           {
            "marker": {
             "line": {
              "color": "#E5ECF6",
              "width": 0.5
             },
             "pattern": {
              "fillmode": "overlay",
              "size": 10,
              "solidity": 0.2
             }
            },
            "type": "barpolar"
           }
          ],
          "carpet": [
           {
            "aaxis": {
             "endlinecolor": "#2a3f5f",
             "gridcolor": "white",
             "linecolor": "white",
             "minorgridcolor": "white",
             "startlinecolor": "#2a3f5f"
            },
            "baxis": {
             "endlinecolor": "#2a3f5f",
             "gridcolor": "white",
             "linecolor": "white",
             "minorgridcolor": "white",
             "startlinecolor": "#2a3f5f"
            },
            "type": "carpet"
           }
          ],
          "choropleth": [
           {
            "colorbar": {
             "outlinewidth": 0,
             "ticks": ""
            },
            "type": "choropleth"
           }
          ],
          "contour": [
           {
            "colorbar": {
             "outlinewidth": 0,
             "ticks": ""
            },
            "colorscale": [
             [
              0,
              "#0d0887"
             ],
             [
              0.1111111111111111,
              "#46039f"
             ],
             [
              0.2222222222222222,
              "#7201a8"
             ],
             [
              0.3333333333333333,
              "#9c179e"
             ],
             [
              0.4444444444444444,
              "#bd3786"
             ],
             [
              0.5555555555555556,
              "#d8576b"
             ],
             [
              0.6666666666666666,
              "#ed7953"
             ],
             [
              0.7777777777777778,
              "#fb9f3a"
             ],
             [
              0.8888888888888888,
              "#fdca26"
             ],
             [
              1,
              "#f0f921"
             ]
            ],
            "type": "contour"
           }
          ],
          "contourcarpet": [
           {
            "colorbar": {
             "outlinewidth": 0,
             "ticks": ""
            },
            "type": "contourcarpet"
           }
          ],
          "heatmap": [
           {
            "colorbar": {
             "outlinewidth": 0,
             "ticks": ""
            },
            "colorscale": [
             [
              0,
              "#0d0887"
             ],
             [
              0.1111111111111111,
              "#46039f"
             ],
             [
              0.2222222222222222,
              "#7201a8"
             ],
             [
              0.3333333333333333,
              "#9c179e"
             ],
             [
              0.4444444444444444,
              "#bd3786"
             ],
             [
              0.5555555555555556,
              "#d8576b"
             ],
             [
              0.6666666666666666,
              "#ed7953"
             ],
             [
              0.7777777777777778,
              "#fb9f3a"
             ],
             [
              0.8888888888888888,
              "#fdca26"
             ],
             [
              1,
              "#f0f921"
             ]
            ],
            "type": "heatmap"
           }
          ],
          "heatmapgl": [
           {
            "colorbar": {
             "outlinewidth": 0,
             "ticks": ""
            },
            "colorscale": [
             [
              0,
              "#0d0887"
             ],
             [
              0.1111111111111111,
              "#46039f"
             ],
             [
              0.2222222222222222,
              "#7201a8"
             ],
             [
              0.3333333333333333,
              "#9c179e"
             ],
             [
              0.4444444444444444,
              "#bd3786"
             ],
             [
              0.5555555555555556,
              "#d8576b"
             ],
             [
              0.6666666666666666,
              "#ed7953"
             ],
             [
              0.7777777777777778,
              "#fb9f3a"
             ],
             [
              0.8888888888888888,
              "#fdca26"
             ],
             [
              1,
              "#f0f921"
             ]
            ],
            "type": "heatmapgl"
           }
          ],
          "histogram": [
           {
            "marker": {
             "pattern": {
              "fillmode": "overlay",
              "size": 10,
              "solidity": 0.2
             }
            },
            "type": "histogram"
           }
          ],
          "histogram2d": [
           {
            "colorbar": {
             "outlinewidth": 0,
             "ticks": ""
            },
            "colorscale": [
             [
              0,
              "#0d0887"
             ],
             [
              0.1111111111111111,
              "#46039f"
             ],
             [
              0.2222222222222222,
              "#7201a8"
             ],
             [
              0.3333333333333333,
              "#9c179e"
             ],
             [
              0.4444444444444444,
              "#bd3786"
             ],
             [
              0.5555555555555556,
              "#d8576b"
             ],
             [
              0.6666666666666666,
              "#ed7953"
             ],
             [
              0.7777777777777778,
              "#fb9f3a"
             ],
             [
              0.8888888888888888,
              "#fdca26"
             ],
             [
              1,
              "#f0f921"
             ]
            ],
            "type": "histogram2d"
           }
          ],
          "histogram2dcontour": [
           {
            "colorbar": {
             "outlinewidth": 0,
             "ticks": ""
            },
            "colorscale": [
             [
              0,
              "#0d0887"
             ],
             [
              0.1111111111111111,
              "#46039f"
             ],
             [
              0.2222222222222222,
              "#7201a8"
             ],
             [
              0.3333333333333333,
              "#9c179e"
             ],
             [
              0.4444444444444444,
              "#bd3786"
             ],
             [
              0.5555555555555556,
              "#d8576b"
             ],
             [
              0.6666666666666666,
              "#ed7953"
             ],
             [
              0.7777777777777778,
              "#fb9f3a"
             ],
             [
              0.8888888888888888,
              "#fdca26"
             ],
             [
              1,
              "#f0f921"
             ]
            ],
            "type": "histogram2dcontour"
           }
          ],
          "mesh3d": [
           {
            "colorbar": {
             "outlinewidth": 0,
             "ticks": ""
            },
            "type": "mesh3d"
           }
          ],
          "parcoords": [
           {
            "line": {
             "colorbar": {
              "outlinewidth": 0,
              "ticks": ""
             }
            },
            "type": "parcoords"
           }
          ],
          "pie": [
           {
            "automargin": true,
            "type": "pie"
           }
          ],
          "scatter": [
           {
            "marker": {
             "colorbar": {
              "outlinewidth": 0,
              "ticks": ""
             }
            },
            "type": "scatter"
           }
          ],
          "scatter3d": [
           {
            "line": {
             "colorbar": {
              "outlinewidth": 0,
              "ticks": ""
             }
            },
            "marker": {
             "colorbar": {
              "outlinewidth": 0,
              "ticks": ""
             }
            },
            "type": "scatter3d"
           }
          ],
          "scattercarpet": [
           {
            "marker": {
             "colorbar": {
              "outlinewidth": 0,
              "ticks": ""
             }
            },
            "type": "scattercarpet"
           }
          ],
          "scattergeo": [
           {
            "marker": {
             "colorbar": {
              "outlinewidth": 0,
              "ticks": ""
             }
            },
            "type": "scattergeo"
           }
          ],
          "scattergl": [
           {
            "marker": {
             "colorbar": {
              "outlinewidth": 0,
              "ticks": ""
             }
            },
            "type": "scattergl"
           }
          ],
          "scattermapbox": [
           {
            "marker": {
             "colorbar": {
              "outlinewidth": 0,
              "ticks": ""
             }
            },
            "type": "scattermapbox"
           }
          ],
          "scatterpolar": [
           {
            "marker": {
             "colorbar": {
              "outlinewidth": 0,
              "ticks": ""
             }
            },
            "type": "scatterpolar"
           }
          ],
          "scatterpolargl": [
           {
            "marker": {
             "colorbar": {
              "outlinewidth": 0,
              "ticks": ""
             }
            },
            "type": "scatterpolargl"
           }
          ],
          "scatterternary": [
           {
            "marker": {
             "colorbar": {
              "outlinewidth": 0,
              "ticks": ""
             }
            },
            "type": "scatterternary"
           }
          ],
          "surface": [
           {
            "colorbar": {
             "outlinewidth": 0,
             "ticks": ""
            },
            "colorscale": [
             [
              0,
              "#0d0887"
             ],
             [
              0.1111111111111111,
              "#46039f"
             ],
             [
              0.2222222222222222,
              "#7201a8"
             ],
             [
              0.3333333333333333,
              "#9c179e"
             ],
             [
              0.4444444444444444,
              "#bd3786"
             ],
             [
              0.5555555555555556,
              "#d8576b"
             ],
             [
              0.6666666666666666,
              "#ed7953"
             ],
             [
              0.7777777777777778,
              "#fb9f3a"
             ],
             [
              0.8888888888888888,
              "#fdca26"
             ],
             [
              1,
              "#f0f921"
             ]
            ],
            "type": "surface"
           }
          ],
          "table": [
           {
            "cells": {
             "fill": {
              "color": "#EBF0F8"
             },
             "line": {
              "color": "white"
             }
            },
            "header": {
             "fill": {
              "color": "#C8D4E3"
             },
             "line": {
              "color": "white"
             }
            },
            "type": "table"
           }
          ]
         },
         "layout": {
          "annotationdefaults": {
           "arrowcolor": "#2a3f5f",
           "arrowhead": 0,
           "arrowwidth": 1
          },
          "autotypenumbers": "strict",
          "coloraxis": {
           "colorbar": {
            "outlinewidth": 0,
            "ticks": ""
           }
          },
          "colorscale": {
           "diverging": [
            [
             0,
             "#8e0152"
            ],
            [
             0.1,
             "#c51b7d"
            ],
            [
             0.2,
             "#de77ae"
            ],
            [
             0.3,
             "#f1b6da"
            ],
            [
             0.4,
             "#fde0ef"
            ],
            [
             0.5,
             "#f7f7f7"
            ],
            [
             0.6,
             "#e6f5d0"
            ],
            [
             0.7,
             "#b8e186"
            ],
            [
             0.8,
             "#7fbc41"
            ],
            [
             0.9,
             "#4d9221"
            ],
            [
             1,
             "#276419"
            ]
           ],
           "sequential": [
            [
             0,
             "#0d0887"
            ],
            [
             0.1111111111111111,
             "#46039f"
            ],
            [
             0.2222222222222222,
             "#7201a8"
            ],
            [
             0.3333333333333333,
             "#9c179e"
            ],
            [
             0.4444444444444444,
             "#bd3786"
            ],
            [
             0.5555555555555556,
             "#d8576b"
            ],
            [
             0.6666666666666666,
             "#ed7953"
            ],
            [
             0.7777777777777778,
             "#fb9f3a"
            ],
            [
             0.8888888888888888,
             "#fdca26"
            ],
            [
             1,
             "#f0f921"
            ]
           ],
           "sequentialminus": [
            [
             0,
             "#0d0887"
            ],
            [
             0.1111111111111111,
             "#46039f"
            ],
            [
             0.2222222222222222,
             "#7201a8"
            ],
            [
             0.3333333333333333,
             "#9c179e"
            ],
            [
             0.4444444444444444,
             "#bd3786"
            ],
            [
             0.5555555555555556,
             "#d8576b"
            ],
            [
             0.6666666666666666,
             "#ed7953"
            ],
            [
             0.7777777777777778,
             "#fb9f3a"
            ],
            [
             0.8888888888888888,
             "#fdca26"
            ],
            [
             1,
             "#f0f921"
            ]
           ]
          },
          "colorway": [
           "#636efa",
           "#EF553B",
           "#00cc96",
           "#ab63fa",
           "#FFA15A",
           "#19d3f3",
           "#FF6692",
           "#B6E880",
           "#FF97FF",
           "#FECB52"
          ],
          "font": {
           "color": "#2a3f5f"
          },
          "geo": {
           "bgcolor": "white",
           "lakecolor": "white",
           "landcolor": "#E5ECF6",
           "showlakes": true,
           "showland": true,
           "subunitcolor": "white"
          },
          "hoverlabel": {
           "align": "left"
          },
          "hovermode": "closest",
          "mapbox": {
           "style": "light"
          },
          "paper_bgcolor": "white",
          "plot_bgcolor": "#E5ECF6",
          "polar": {
           "angularaxis": {
            "gridcolor": "white",
            "linecolor": "white",
            "ticks": ""
           },
           "bgcolor": "#E5ECF6",
           "radialaxis": {
            "gridcolor": "white",
            "linecolor": "white",
            "ticks": ""
           }
          },
          "scene": {
           "xaxis": {
            "backgroundcolor": "#E5ECF6",
            "gridcolor": "white",
            "gridwidth": 2,
            "linecolor": "white",
            "showbackground": true,
            "ticks": "",
            "zerolinecolor": "white"
           },
           "yaxis": {
            "backgroundcolor": "#E5ECF6",
            "gridcolor": "white",
            "gridwidth": 2,
            "linecolor": "white",
            "showbackground": true,
            "ticks": "",
            "zerolinecolor": "white"
           },
           "zaxis": {
            "backgroundcolor": "#E5ECF6",
            "gridcolor": "white",
            "gridwidth": 2,
            "linecolor": "white",
            "showbackground": true,
            "ticks": "",
            "zerolinecolor": "white"
           }
          },
          "shapedefaults": {
           "line": {
            "color": "#2a3f5f"
           }
          },
          "ternary": {
           "aaxis": {
            "gridcolor": "white",
            "linecolor": "white",
            "ticks": ""
           },
           "baxis": {
            "gridcolor": "white",
            "linecolor": "white",
            "ticks": ""
           },
           "bgcolor": "#E5ECF6",
           "caxis": {
            "gridcolor": "white",
            "linecolor": "white",
            "ticks": ""
           }
          },
          "title": {
           "x": 0.05
          },
          "xaxis": {
           "automargin": true,
           "gridcolor": "white",
           "linecolor": "white",
           "ticks": "",
           "title": {
            "standoff": 15
           },
           "zerolinecolor": "white",
           "zerolinewidth": 2
          },
          "yaxis": {
           "automargin": true,
           "gridcolor": "white",
           "linecolor": "white",
           "ticks": "",
           "title": {
            "standoff": 15
           },
           "zerolinecolor": "white",
           "zerolinewidth": 2
          }
         }
        },
        "title": {
         "text": "Inversión publicitaria en TV"
        },
        "xaxis": {
         "anchor": "y",
         "domain": [
          0,
          1
         ],
         "title": {
          "text": "Mes"
         }
        },
        "yaxis": {
         "anchor": "x",
         "domain": [
          0,
          1
         ],
         "title": {
          "text": "2019"
         }
        }
       }
      }
     },
     "metadata": {},
     "output_type": "display_data"
    }
   ],
   "source": [
    "fig = px.bar(df_publiTV, x='Mes', y= 2019, color = 2020,  title=\"Inversión publicitaria en TV\")\n",
    "fig.show()"
   ]
  },
  {
   "cell_type": "code",
   "execution_count": null,
   "metadata": {},
   "outputs": [],
   "source": []
  }
 ],
 "metadata": {
  "interpreter": {
   "hash": "c24a7c41beaaeed806d6a6952b3b4f7375fae7924f19eb99401d49cba6e7526b"
  },
  "kernelspec": {
   "display_name": "Python 3.7.4 64-bit",
   "name": "python3"
  },
  "language_info": {
   "codemirror_mode": {
    "name": "ipython",
    "version": 3
   },
   "file_extension": ".py",
   "mimetype": "text/x-python",
   "name": "python",
   "nbconvert_exporter": "python",
   "pygments_lexer": "ipython3",
   "version": "3.7.4"
  },
  "orig_nbformat": 4
 },
 "nbformat": 4,
 "nbformat_minor": 2
}
